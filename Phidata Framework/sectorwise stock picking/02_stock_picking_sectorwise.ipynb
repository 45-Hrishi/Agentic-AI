{
 "cells": [
  {
   "cell_type": "code",
   "execution_count": 1,
   "metadata": {},
   "outputs": [
    {
     "data": {
      "text/plain": [
       "True"
      ]
     },
     "execution_count": 1,
     "metadata": {},
     "output_type": "execute_result"
    }
   ],
   "source": [
    "import os\n",
    "from dotenv import load_dotenv\n",
    "from phi.agent import Agent\n",
    "from phi.model.groq import Groq\n",
    "from phi.model.mistral import MistralChat\n",
    "from phi.tools.googlesearch import GoogleSearch\n",
    "from phi.tools.yfinance import YFinanceTools\n",
    "load_dotenv()"
   ]
  },
  {
   "cell_type": "code",
   "execution_count": 2,
   "metadata": {},
   "outputs": [],
   "source": [
    "os.environ[\"GROQ_API_KEY\"] = os.getenv(\"GROQ_API_KEY\")\n",
    "os.environ[\"MISTRAL_API_KEY\"] = os.getenv(\"MISTRAL_API_KEY\")"
   ]
  },
  {
   "cell_type": "code",
   "execution_count": 3,
   "metadata": {},
   "outputs": [],
   "source": [
    "# sentiment agent\n",
    "country = 'Indian'\n",
    "sector = 'Technology'\n",
    "sentiment_agent = Agent(\n",
    "    name=\"Sentiment Analyzer\",\n",
    "    role=\"Search, Analyze and Interprest the news articles of past 30 days\",\n",
    "    # model=Groq(id=\"llama-3.3-70b-versatile\"),\n",
    "    model=MistralChat(\n",
    "        id=\"mistral-large-latest\"\n",
    "    ),\n",
    "    tools=[GoogleSearch()],\n",
    "    instructions=[\n",
    "        f\"Find the relevant news articles for top 10 companies of {sector} sector.\"\n",
    "        \"Provide sentiment scores based on current scenario from 1 (negative) to 10 (positive) with reasoning and sources for each company.\"\n",
    "        \"Cite your sources. Be specific and provide links.\"\n",
    "        # \"List out the companies\"\n",
    "    ]\n",
    ")"
   ]
  },
  {
   "cell_type": "code",
   "execution_count": 4,
   "metadata": {},
   "outputs": [],
   "source": [
    "# country = 'Indian'\n",
    "# sector = 'Technology'\n",
    "# # sentiment_agent.print_response(message=f\"Give me the sentiment for the {country} stock companies of sector : {sector}\",stream=True,markdown=True)\n",
    "# response = sentiment_agent.run(message=f\"Give me the market sentiment for the {country} stock companies of sector : {sector}\")"
   ]
  },
  {
   "cell_type": "code",
   "execution_count": 5,
   "metadata": {},
   "outputs": [],
   "source": [
    "# print(response.content)"
   ]
  },
  {
   "cell_type": "code",
   "execution_count": 6,
   "metadata": {},
   "outputs": [],
   "source": [
    "country = 'Indian'\n",
    "sector = 'Technology'\n",
    "fact_checker_agent = Agent(\n",
    "    name=\"Fact Checker and Analyzer\",\n",
    "    role=\"Search, Analyze and Forecast the financials of given companies\",\n",
    "    # model=Groq(id=\"llama-3.3-70b-versatile\"),\n",
    "    model=MistralChat(\n",
    "        id=\"mistral-large-latest\"\n",
    "    ),\n",
    "    tools=[GoogleSearch()],\n",
    "    instructions=[\n",
    "        f\"Find the financial reports for the {country} companies with positive sentiment.\"\n",
    "        \"Provide the strength of comapny financials on the score of 1(weak) to 5(strong) and list them accordingly.\"\n",
    "    ]\n",
    ")"
   ]
  },
  {
   "cell_type": "code",
   "execution_count": 7,
   "metadata": {},
   "outputs": [],
   "source": [
    "# country = 'Indian'\n",
    "# sector = 'Technology'\n",
    "# # sentiment_agent.print_response(message=f\"Give me the sentiment for the {country} stock companies of sector : {sector}\",stream=True,markdown=True)\n",
    "# response = fact_checker_agent.run(message=f\"Provide the list of {country} stock market companies of {sector} sector\")"
   ]
  },
  {
   "cell_type": "code",
   "execution_count": 8,
   "metadata": {},
   "outputs": [],
   "source": [
    "# print(response.content)"
   ]
  },
  {
   "cell_type": "code",
   "execution_count": 9,
   "metadata": {},
   "outputs": [],
   "source": [
    "country = 'Indian'\n",
    "sector = 'Technology'\n",
    "perfromace_checker_agent = Agent(\n",
    "    name=\"Performance Checker\",\n",
    "    role=\"Search, Analyze and forecast the stock prices of companies\",\n",
    "    # model=Groq(id=\"llama-3.3-70b-versatile\"),\n",
    "    model=MistralChat(\n",
    "        id=\"mistral-large-latest\"\n",
    "    ),\n",
    "    tools=[GoogleSearch()],\n",
    "    instructions=[\n",
    "        f\"Search for the past perfromance of {country} companies of sector {sector} and classify them on the scale of 1(week buy) to 5(strong buy)\"\n",
    "        \"Analyze the previous stock prices and forecast the future prices considering the future technological advancement.\"\n",
    "        \"Analyze the percent return given by companies in last 3 years and predict the average future returns in next 1 year.\"\n",
    "    ]\n",
    ")"
   ]
  },
  {
   "cell_type": "code",
   "execution_count": 10,
   "metadata": {},
   "outputs": [],
   "source": [
    "# country = 'Indian'\n",
    "# sector = 'Technology'\n",
    "# # sentiment_agent.print_response(message=f\"Give me the sentiment for the {country} stock companies of sector : {sector}\",stream=True,markdown=True)\n",
    "# response = perfromace_checker_agent.run(message=f\"check the performance of {country} stock market companies of {sector} sector and provide the list.\")"
   ]
  },
  {
   "cell_type": "code",
   "execution_count": 11,
   "metadata": {},
   "outputs": [],
   "source": [
    "# print(response.content)"
   ]
  },
  {
   "cell_type": "code",
   "execution_count": 12,
   "metadata": {},
   "outputs": [],
   "source": [
    "agent_team = Agent(\n",
    "    # provider=Groq(id=\"llama-3.3-70b-versatile\"),\n",
    "    provider=MistralChat(\n",
    "        id=\"mistral-large-latest\",\n",
    "    ),\n",
    "    team=[sentiment_agent, fact_checker_agent,perfromace_checker_agent],\n",
    "    instructions=[\n",
    "        \"Combine the expertise of all agents to provide a cohesive, well-supported response.\",\n",
    "        \"Present all data in structured tables for clarity.\",\n",
    "        ],\n",
    "    show_tool_calls=True,\n",
    "    markdown=True,\n",
    ")"
   ]
  },
  {
   "cell_type": "code",
   "execution_count": 13,
   "metadata": {},
   "outputs": [
    {
     "name": "stdout",
     "output_type": "stream",
     "text": [
      "\n",
      " - Running: transfer_task_to_sentiment_analyzer(task_description=..., expected_output=A list of sentiment scores for each company with reasoning and cited sources., additional_information=Indian stock market companies of Energy sector)\n",
      "\n",
      "\n",
      " - Running: transfer_task_to_fact_checker_and_analyzer(task_description=..., expected_output=A table showing the key financial trends and events for each company., additional_information=...)\n",
      "\n",
      "\n",
      " - Running: transfer_task_to_performance_checker(task_description=..., expected_output=A list of companies with their past performance and the combined analysis., additional_information=...)\n",
      "\n",
      "Based on the combined analysis of sentiment, financial reports, stock price movements, and past performance, here are the final recommendations for the companies:\n",
      "\n",
      "### Strong Investment Candidates\n",
      "1. **Reliance Industries Limited**\n",
      "   - **Sentiment Score**: 7/10\n",
      "   - **Key Financial Trends/Events**: Highlights from FY2024 results include a gross revenue of INR 1,000,122 Crore ($119.9 billion) and EBITDA of INR 178,677 Crore ($21.4 billion).\n",
      "   - **Past Performance**: Approximately 150% return over the last 3 years.\n",
      "   - **Future Prospects**: Expected to maintain its upward trajectory with ongoing technological advancements and diversification.\n",
      "\n",
      "2. **Adani Green Energy Limited**\n",
      "   - **Sentiment Score**: 5/10\n",
      "   - **Key Financial Trends/Events**: Adani Green has upscaled its renewable energy target from 45 GW to 50 GW by 2030. Several challenges were faced during FY 2023-24.\n",
      "   - **Past Performance**: Approximately 200% return over the last 3 years.\n",
      "   - **Future Prospects**: High growth potential due to increasing demand for renewable energy.\n",
      "\n",
      "### Moderate Investment Candidates\n",
      "3. **ONGC (Oil and Natural Gas Corporation)**\n",
      "   - **Sentiment Score**: 6/10\n",
      "   - **Key Financial Trends/Events**: The financial and statutory data presented in the annual report are in line with the requirements of the Companies Act, 2013.\n",
      "   - **Past Performance**: Approximately 30% return over the last 3 years.\n",
      "   - **Future Prospects**: Stable growth expected, with potential for modest gains.\n",
      "\n",
      "4. **NTPC Limited**\n",
      "   - **Sentiment Score**: 7/10\n",
      "   - **Key Financial Trends/Events**: NTPC's aggressive investment in renewable energy and positive stock price trends indicate a favorable outlook. However, recent clarifications on news items and stock score trends suggest some caution.\n",
      "   - **Past Performance**: Approximately 25% return over the last 3 years.\n",
      "   - **Future Prospects**: Gradual increase expected as renewable energy projects come online.\n",
      "\n",
      "5. **Power Grid Corporation of India Limited**\n",
      "   - **Sentiment Score**: 6/10\n",
      "   - **Key Financial Trends/Events**: Power Grid Corporation's collaboration on green hydrogen projects and fundraising plans are positive. However, recent stock performance and dividend declarations indicate a mixed outlook.\n",
      "   - **Past Performance**: Approximately 20% return over the last 3 years.\n",
      "   - **Future Prospects**: Steady growth expected, with potential for incremental gains.\n",
      "\n",
      "6. **Indian Oil Corporation Limited (IOC)**\n",
      "   - **Sentiment Score**: 6/10\n",
      "   - **Key Financial Trends/Events**: IOC's revenue from operations is strong, but recent stock price declines and sector underperformance lead to a balanced sentiment score.\n",
      "   - **Past Performance**: Approximately 25% return over the last 3 years.\n",
      "   - **Future Prospects**: Moderate growth expected, with potential for steady returns.\n",
      "\n",
      "7. **Bharat Petroleum Corporation Limited (BPCL)**\n",
      "   - **Sentiment Score**: 6/10\n",
      "   - **Key Financial Trends/Events**: BPCL's Gas Sale and Purchase Agreement (GSPA) with Petronet LNG is a positive development, but the recent decline in stock score and mixed market sentiment result in a moderate score.\n",
      "   - **Past Performance**: Approximately 20% return over the last 3 years.\n",
      "   - **Future Prospects**: Steady growth expected, with potential for incremental gains.\n",
      "\n",
      "8. **GAIL (India) Limited**\n",
      "   - **Sentiment Score**: 7/10\n",
      "   - **Key Financial Trends/Events**: Motilal Oswal's buy call and positive target price for GAIL, along with strong historic price charts, indicate a favorable outlook. However, recent news and market updates suggest some caution.\n",
      "   - **Past Performance**: Approximately 15% return over the last 3 years.\n",
      "   - **Future Prospects**: Steady growth expected, with potential for incremental gains.\n",
      "\n",
      "9. **Tata Power Company Limited**\n",
      "   - **Sentiment Score**: 6/10\n",
      "   - **Key Financial Trends/Events**: Tata Power's partnerships and initiatives in the renewable energy sector are positive, but recent stock price declines following a gain streak indicate a mixed outlook.\n",
      "   - **Past Performance**: Approximately 20% return over the last 3 years.\n",
      "   - **Future Prospects**: Gradual increase expected as renewable energy projects come online.\n",
      "\n",
      "### Cautious Investment\n",
      "10. **Adani Power Limited**\n",
      "    - **Sentiment Score**: 4/10\n",
      "    - **Key Financial Trends/Events**: Adani Power's recent stock price declines and negative market sentiment, along with a Letter of Intent for power supply, result in a lower sentiment score.\n",
      "    - **Past Performance**: Approximately 10% return over the last 3 years.\n",
      "    - **Future Prospects**: Modest growth expected, with potential for stability.\n",
      "\n",
      "### Summary\n",
      "- **Strong Buy (5)**: Reliance Industries Limited, Adani Green Energy Limited\n",
      "- **Buy (3)**: ONGC, NTPC Limited, Power Grid Corporation of India Limited, Indian Oil Corporation Limited, Bharat Petroleum Corporation Limited, GAIL (India) Limited, Tata Power Company Limited\n",
      "- **Hold (2)**: Adani Power Limited\n",
      "\n",
      "### Recommendations\n",
      "- **Strong Investment Candidates**: Reliance Industries Limited, Adani Green Energy Limited\n",
      "- **Moderate Investment Candidates**: ONGC, NTPC Limited, Power Grid Corporation of India Limited, Indian Oil Corporation Limited, Bharat Petroleum Corporation Limited, GAIL (India) Limited, Tata Power Company Limited\n",
      "- **Cautious Investment**: Adani Power Limited\n",
      "\n",
      "This comprehensive analysis provides a clear view of the investment potential for each company, helping investors make informed decisions based on sentiment, financial performance, and past trends.\n"
     ]
    }
   ],
   "source": [
    "country = 'Indian'\n",
    "sector = \"Energy\"\n",
    "response = agent_team.run(message=\n",
    "    f\"Provide the list of {country} stock market companies of {sector} sector\"\n",
    "    \"1. **Sentiment Analyzer**: Search for relevant top 10 news articles and interpret the sentiment for each company. Provide sentiment scores on a scale of 1 to 10 with reasoning and cite your sources.\\n\\n\"\n",
    "    \"2. **Fact Checker and Analyzer**: Analyze the financial reports,stock price movements, analyst recommendations of the companies provided by the Sentiment Analyzer. Highlight key trends or events, and present the data in tables.\\n\\n\"\n",
    "    \"3. **Performance Checker**: Combine the result of 'Sentiment Analyzer' and 'Fact Checker and Analyzer' and search for the past performance of companies. Based on all findings list out the companies.\\n\\n\"\n",
    ")\n",
    "print(response.content)"
   ]
  }
 ],
 "metadata": {
  "kernelspec": {
   "display_name": "env_phidata_agents",
   "language": "python",
   "name": "python3"
  },
  "language_info": {
   "codemirror_mode": {
    "name": "ipython",
    "version": 3
   },
   "file_extension": ".py",
   "mimetype": "text/x-python",
   "name": "python",
   "nbconvert_exporter": "python",
   "pygments_lexer": "ipython3",
   "version": "3.11.11"
  }
 },
 "nbformat": 4,
 "nbformat_minor": 2
}
