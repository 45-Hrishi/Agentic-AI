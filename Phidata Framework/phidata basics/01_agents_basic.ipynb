{
 "cells": [
  {
   "cell_type": "markdown",
   "metadata": {},
   "source": [
    "What is Phidata?\n",
    "Phidata is a framework for building multi-modal agents and workflows.\n",
    "\n",
    "Build agents with **memory**, **knowledge**, **tools** and **reasoning**.\n",
    "Build teams of agents that can work together to solve problems.\n",
    "Interact with your agents and workflows using a beautiful Agent UI."
   ]
  },
  {
   "cell_type": "markdown",
   "metadata": {},
   "source": [
    "Agents use tools to take actions and interact with external systems.\n",
    "\n",
    "Tools are functions that an Agent can run to achieve tasks. For example: searching the web, running SQL, sending an email or calling APIs. You can use any python function as a tool or use a pre-built toolkit"
   ]
  },
  {
   "cell_type": "code",
   "execution_count": 61,
   "metadata": {},
   "outputs": [
    {
     "data": {
      "text/plain": [
       "True"
      ]
     },
     "execution_count": 61,
     "metadata": {},
     "output_type": "execute_result"
    }
   ],
   "source": [
    "import os\n",
    "from dotenv import load_dotenv\n",
    "from phi.agent import Agent,RunResponse\n",
    "from phi.model.groq import Groq\n",
    "from phi.tools.duckduckgo import DuckDuckGo\n",
    "load_dotenv()"
   ]
  },
  {
   "cell_type": "code",
   "execution_count": 2,
   "metadata": {},
   "outputs": [],
   "source": [
    "os.environ[\"GROQ_API_KEY\"] = os.getenv(\"GROQ_API_KEY\")"
   ]
  },
  {
   "cell_type": "markdown",
   "metadata": {},
   "source": [
    "##### 1. Web Search Agent"
   ]
  },
  {
   "cell_type": "code",
   "execution_count": 5,
   "metadata": {},
   "outputs": [],
   "source": [
    "web_search_agent = Agent(\n",
    "    name=\"Web Search Agent\",\n",
    "    model=Groq(id=\"llama3-groq-70b-8192-tool-use-preview\"),\n",
    "    tools=[DuckDuckGo()],\n",
    "    instructions=[\"Always include sources\"],\n",
    "    show_tool_calls=True,\n",
    "    markdown=True,)"
   ]
  },
  {
   "cell_type": "code",
   "execution_count": 12,
   "metadata": {},
   "outputs": [],
   "source": [
    "# web_search_agent.print_response(\"whats happenning in India\", stream=True,markdown=True)\n",
    "# web_search_agent.print_response(\"Share a 2 sentence horror story.\")\n",
    "response = web_search_agent.run(\"Whats happening in Indian politics ?\")"
   ]
  },
  {
   "cell_type": "code",
   "execution_count": 17,
   "metadata": {},
   "outputs": [
    {
     "name": "stdout",
     "output_type": "stream",
     "text": [
      "\n",
      "Running:\n",
      " - duckduckgo_news(query=Indian politics, max_results=5)\n",
      "\n",
      "Here are the latest updates on Indian politics:\n",
      "1. **PM to launch development projects in Delhi** - The PM will also launch several development projects, worth Rs 12,200 crore, in the poll-bound national capital. [Read more](https://indianexpress.com/article/political-pulse/today-in-politics-first-bjp-candidates-list-pm-modi-rally-delhi-9760529/)\n",
      "\n",
      "2. **US-India technology cooperation** - National security adviser Jake Sullivan will travel to India for a visit focusing on cooperation on strategic technology, including in defense, space and artificial intelligence. [Read more](https://www.msn.com/en-us/news/world/the-last-high-profile-trip-to-india-by-the-biden-administration-will-focus-on-technology/ar-AA1wVF9f)\n",
      "\n",
      "3. **Ram Charan's movie event** - Ram Charan is gearing up for the release of his upcoming movie Game Changer, co-starring Kiara Advani. On Saturday, the makers held an event in Andhra Pradesh where the actor's uncle and Deputy CM Pawan Kalyan arrived as the chief guest. [Read more](https://www.msn.com/en-in/news/other/ram-charan-calls-uncle-pawan-kalyan-true-game-changer-for-entire-indian-politics/ar-AA1wXHVN)\n",
      "\n",
      "4. **New county creation and plane crash** - creates new county with large parts of India's Aksai Chin Putin apologizes but stops short of taking responsibility for Azerbaijan Airlines plane crash. [Read more](https://images.deccanherald.com/deccanherald/2024-12-20/yqruw1jp/vaishnaw_pti_1224305_1685719512.jpg?rect=0,0,700,368\\u0026w=1200\\u0026ar=40:21\\u0026auto=format,compress\\u0026ogImage=true\\u0026mode=crop)\n",
      "\n",
      "5. **Manmohan Singh's legacy** - Known for his reserved demeanor and academic rigor, he was India's first Sikh prime minister and a defining figure in its modern history, shaping key economic and political developments over several decades. [Read more](https://variety.com/2024/politics/people-news/manmohan-singh-dead-india-prime-minister-economic-reform-1236260453/)\n",
      "\n",
      "Would you like more information on any of these topics?\n"
     ]
    }
   ],
   "source": [
    "print(response.content)"
   ]
  },
  {
   "cell_type": "markdown",
   "metadata": {},
   "source": [
    "##### 2. Financial Agent"
   ]
  },
  {
   "cell_type": "code",
   "execution_count": 19,
   "metadata": {},
   "outputs": [],
   "source": [
    "from phi.tools.yfinance import YFinanceTools"
   ]
  },
  {
   "cell_type": "code",
   "execution_count": 28,
   "metadata": {},
   "outputs": [],
   "source": [
    "finance_agent = Agent(\n",
    "    model=Groq(id=\"llama-3.3-70b-versatile\"),\n",
    "    name=\"Finance Agent\",\n",
    "    tools=[YFinanceTools(stock_price=True,stock_fundamentals=True,company_news=True,historical_prices=True)],\n",
    "    deescription=\"You are an investment analyst that researches stocks prices, commany analysis and market trends. Recommends stocks to your clients.\",\n",
    "    instructions=[\"Format your response using markdown and use tables to disply stock analysis where possible.\"],\n",
    "    show_tool_calls=True,\n",
    "    markdown=True\n",
    ")"
   ]
  },
  {
   "cell_type": "code",
   "execution_count": 29,
   "metadata": {},
   "outputs": [
    {
     "data": {
      "application/vnd.jupyter.widget-view+json": {
       "model_id": "2f6afd425fae476d9e0b1433e7687f97",
       "version_major": 2,
       "version_minor": 0
      },
      "text/plain": [
       "Output()"
      ]
     },
     "metadata": {},
     "output_type": "display_data"
    },
    {
     "data": {
      "text/html": [
       "<pre style=\"white-space:pre;overflow-x:auto;line-height:normal;font-family:Menlo,'DejaVu Sans Mono',consolas,'Courier New',monospace\"></pre>\n"
      ],
      "text/plain": []
     },
     "metadata": {},
     "output_type": "display_data"
    }
   ],
   "source": [
    "finance_agent.print_response(message=\"Give me 2 stocks that I can buy for long term.\",markdown=True,stream=True)"
   ]
  },
  {
   "cell_type": "markdown",
   "metadata": {},
   "source": [
    "##### 3. Multi-agent orchestration"
   ]
  },
  {
   "cell_type": "markdown",
   "metadata": {},
   "source": [
    "Phidata agents support text, images, audio and video.\n",
    "\n",
    "For example, you can create an image agent that can understand images and make tool calls as needed"
   ]
  },
  {
   "cell_type": "code",
   "execution_count": 31,
   "metadata": {},
   "outputs": [],
   "source": [
    "from phi.agent import Agent\n",
    "from phi.model.groq import Groq\n",
    "from phi.tools.duckduckgo import DuckDuckGo\n",
    "from phi.tools.yfinance import YFinanceTools"
   ]
  },
  {
   "cell_type": "code",
   "execution_count": 39,
   "metadata": {},
   "outputs": [],
   "source": [
    "web_agent = Agent(\n",
    "    name=\"web Agent\",\n",
    "    role=\"Search the web for latest information, not older than 2 months\",\n",
    "    model=Groq(id=\"llama-3.3-70b-versatile\"),\n",
    "    tools = [DuckDuckGo()],\n",
    "    instructions=[\"Always search for financial websites for the latest news.\"],\n",
    "    description=\"You are stock market analyst, who searches the latest company information, \\\n",
    "    its projects, milestones, financials, reports, future vision, company officials.\",\n",
    "    show_tool_calls=True,\n",
    "    markdown=True\n",
    ")"
   ]
  },
  {
   "cell_type": "code",
   "execution_count": 40,
   "metadata": {},
   "outputs": [],
   "source": [
    "finance_agent = Agent(\n",
    "    name='finance_agent',\n",
    "    role=\"Get the financial data and analyses it.\",\n",
    "    model = Groq(id=\"llama-3.3-70b-versatile\"),\n",
    "    tools=[YFinanceTools(stock_price=True, analyst_recommendations=True, company_info=True)],\n",
    "    instructions=[\"Use tables to display data\"],\n",
    "    show_tool_calls=True,\n",
    "    markdown=True,\n",
    ")"
   ]
  },
  {
   "cell_type": "code",
   "execution_count": 43,
   "metadata": {},
   "outputs": [],
   "source": [
    "agent_team = Agent(\n",
    "    provider=Groq(),\n",
    "    team=[web_agent, finance_agent],\n",
    "    instructions=[\"Always include sources\", \"Use tables to display data\"],\n",
    "    show_tool_calls=True,\n",
    "    markdown=True,\n",
    ")"
   ]
  },
  {
   "cell_type": "code",
   "execution_count": 46,
   "metadata": {},
   "outputs": [
    {
     "data": {
      "application/vnd.jupyter.widget-view+json": {
       "model_id": "b4c2fac9fe5347a8a4b9fd62784931fc",
       "version_major": 2,
       "version_minor": 0
      },
      "text/plain": [
       "Output()"
      ]
     },
     "metadata": {},
     "output_type": "display_data"
    },
    {
     "data": {
      "text/html": [
       "<pre style=\"white-space:pre;overflow-x:auto;line-height:normal;font-family:Menlo,'DejaVu Sans Mono',consolas,'Courier New',monospace\"></pre>\n"
      ],
      "text/plain": []
     },
     "metadata": {},
     "output_type": "display_data"
    }
   ],
   "source": [
    "agent_team.print_response(\"Summarize analyst recommendations and share the latest news for NVDA\",stream=True)"
   ]
  },
  {
   "cell_type": "markdown",
   "metadata": {},
   "source": [
    "##### 4. Writing custom tool"
   ]
  },
  {
   "cell_type": "markdown",
   "metadata": {},
   "source": [
    "For more control, write your own python functions and add them as tools to an Agent."
   ]
  },
  {
   "cell_type": "code",
   "execution_count": 147,
   "metadata": {},
   "outputs": [],
   "source": [
    "import json\n",
    "import httpx\n",
    "\n",
    "from phi.agent import Agent\n",
    "from phi.model.groq import Groq"
   ]
  },
  {
   "cell_type": "code",
   "execution_count": 146,
   "metadata": {},
   "outputs": [
    {
     "data": {
      "application/vnd.jupyter.widget-view+json": {
       "model_id": "d4816fa1d2ff424395e44637c07ea71a",
       "version_major": 2,
       "version_minor": 0
      },
      "text/plain": [
       "Output()"
      ]
     },
     "metadata": {},
     "output_type": "display_data"
    },
    {
     "data": {
      "text/html": [
       "<pre style=\"white-space:pre;overflow-x:auto;line-height:normal;font-family:Menlo,'DejaVu Sans Mono',consolas,'Courier New',monospace\"></pre>\n"
      ],
      "text/plain": []
     },
     "metadata": {},
     "output_type": "display_data"
    }
   ],
   "source": [
    "def get_top_hackernews_stories(num_stories: int = 10) -> str:\n",
    "    \"\"\"Use this function to get top stories from Hacker News.\n",
    "\n",
    "    Args:\n",
    "        num_stories (int): Number of stories to return. Defaults to 10.\n",
    "\n",
    "    Returns:\n",
    "        str: JSON string of top stories.\n",
    "    \"\"\"\n",
    "\n",
    "    # Fetch top story IDs\n",
    "    response = httpx.get('https://hacker-news.firebaseio.com/v0/topstories.json')\n",
    "    story_ids = response.json()\n",
    "\n",
    "    # Fetch story details\n",
    "    stories = []\n",
    "    for story_id in story_ids[:num_stories]:\n",
    "        story_response = httpx.get(f'https://hacker-news.firebaseio.com/v0/item/{story_id}.json')\n",
    "        story = story_response.json()\n",
    "        if \"text\" in story:\n",
    "            story.pop(\"text\", None)\n",
    "        stories.append(story)\n",
    "    return json.dumps(stories)\n",
    "\n",
    "agent = Agent(tools=[get_top_hackernews_stories], model=Groq(),show_tool_calls=True, markdown=True)\n",
    "agent.print_response(\"Summarize the top 5 stories on hackernews?\", stream=True)\n"
   ]
  },
  {
   "cell_type": "code",
   "execution_count": null,
   "metadata": {},
   "outputs": [],
   "source": []
  }
 ],
 "metadata": {
  "kernelspec": {
   "display_name": "env_phidata_agents",
   "language": "python",
   "name": "python3"
  },
  "language_info": {
   "codemirror_mode": {
    "name": "ipython",
    "version": 3
   },
   "file_extension": ".py",
   "mimetype": "text/x-python",
   "name": "python",
   "nbconvert_exporter": "python",
   "pygments_lexer": "ipython3",
   "version": "3.11.11"
  }
 },
 "nbformat": 4,
 "nbformat_minor": 2
}
