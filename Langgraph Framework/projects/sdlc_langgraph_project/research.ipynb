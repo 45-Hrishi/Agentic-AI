{
 "cells": [
  {
   "cell_type": "code",
   "execution_count": 56,
   "metadata": {},
   "outputs": [
    {
     "data": {
      "text/plain": [
       "True"
      ]
     },
     "execution_count": 56,
     "metadata": {},
     "output_type": "execute_result"
    }
   ],
   "source": [
    "# Importing necessary libraries\n",
    "import os\n",
    "from dotenv import load_dotenv\n",
    "from langgraph.graph import StateGraph,START,END\n",
    "# from langchain_anthropic import ChatAnthropic\n",
    "from langchain_groq import ChatGroq\n",
    "from langchain_core.messages import SystemMessage,HumanMessage\n",
    "from langchain_core.runnables import RunnableConfig\n",
    "from typing import TypedDict,List,Literal, Dict, Any\n",
    "from typing_extensions import Annotated, Optional\n",
    "from pydantic import BaseModel,Field\n",
    "from dataclasses import dataclass, fields\n",
    "from langchain.chat_models import init_chat_model\n",
    "from tavily import AsyncTavilyClient\n",
    "from enum import Enum\n",
    "from langgraph.types import interrupt,Command\n",
    "from langgraph.constants import Send\n",
    "import asyncio\n",
    "import operator\n",
    "import uuid\n",
    "from langgraph.checkpoint.memory import MemorySaver\n",
    "load_dotenv()"
   ]
  },
  {
   "cell_type": "code",
   "execution_count": 57,
   "metadata": {},
   "outputs": [],
   "source": [
    "# Loading the environment variables and model\n",
    "os.environ[\"GROQ_API_KEY\"] = os.getenv(\"GROQ_API_KEY\")\n",
    "os.environ[\"TAVILY_API_KEY\"] = os.getenv(\"TAVILY_API_KEY\")\n",
    "# os.environ[\"ANTHROPIC_API_KEY\"] = os.getenv(\"ANTHROPIC_API_KEY\")\n",
    "llm = ChatGroq(model=\"gemma2-9b-it\",temperature=0.3)"
   ]
  },
  {
   "cell_type": "code",
   "execution_count": 58,
   "metadata": {},
   "outputs": [],
   "source": [
    "# Define the states and schema models\n",
    "class UserRequirement(BaseModel):\n",
    "    objective: str = Field(description=\"A brief statement outlining the primary goal or purpose of the application.\")\n",
    "    functional_requirements: str = Field(description=\"A detailed list of specific functionalities that the application must support to meet the user's needs.\")\n",
    "    non_functional_requirements: str = Field(description=\"A list of criteria that describe the quality attributes, performance, and constraints of the application.\")\n",
    "\n",
    "class RawRequirement(BaseModel):\n",
    "    raw_requirement: UserRequirement\n",
    "\n",
    "class UserStory(BaseModel):\n",
    "    title: str = Field(description=\"Title of this user story\")\n",
    "    description: str = Field(description=\"Description of this user story\")\n",
    "    acceptance: str = Field(description=\"Acceptance criteria to mark this user story as aceepted\")\n",
    "    status: Literal[\"ToDo\",\"Inprogess\",\"Done\"] = Field(description=\"Status of the user story, whether this user story is in Done, Inprogess or todo state\")    \n",
    "\n",
    "class UserStories(BaseModel):\n",
    "    stories : List[UserStory] = Field(description=\"User Stories related to project\")\n",
    "\n",
    "# States\n",
    "class WorkFlowInputState(TypedDict):\n",
    "    raw_requirements: str\n",
    "\n",
    "class WorkflowState(TypedDict):\n",
    "    raw_requirements: str\n",
    "    user_requirement: UserRequirement\n",
    "    feedback_from_owner: str\n",
    "    feedback_from_user: str\n",
    "    stories : list[UserStory]\n",
    "    completed_stories: Annotated[list,operator.add]\n",
    "\n"
   ]
  },
  {
   "cell_type": "code",
   "execution_count": 59,
   "metadata": {},
   "outputs": [],
   "source": [
    "# prompts\n",
    "DEFAULT_USER_REQUIREMENTS_STRUCTURE = \"\"\"\n",
    "Please provide your application requirements using the following structure:\n",
    "\n",
    "1. Objective\n",
    "  - Briefly describe the main goal or purpose of the application.\n",
    "\n",
    "2. Functional Requirements\n",
    "  - List the specific functionalities you want the application to have. For example:\n",
    "    - Users should be able to create, view, update, and delete tasks.\n",
    "    - The application should allow users to set priorities for tasks.\n",
    "    - Users should be able to search and filter tasks.\n",
    "\n",
    "3. Non-functional Requirements\n",
    "  - Specify any performance, security, or usability criteria. For example:\n",
    "    - The application should load and respond quickly.\n",
    "    - User data should be securely stored and protected.\n",
    "    - The interface should be intuitive and easy to navigate.\n",
    "\"\"\"\n",
    "\n",
    "user_requirements_instructions = \"\"\"\n",
    "I want a user requirements that is concise and focused.\n",
    "\n",
    "<User Requirement>\n",
    "The raw requirements provided by user\n",
    "{user_requirements}\n",
    "</User Requirement>\n",
    "\n",
    "<Requirement organization>\n",
    "The requirement should follow the below requirement structure\n",
    "{requirement_organization}\n",
    "</Requirement organization>\n",
    "\n",
    "\n",
    "<Task>\n",
    "Generate a structural user requirements using the provided raw user requirement.\n",
    "\n",
    "For example, a good user requirement structure might look like:\n",
    "1/ objective\n",
    "2/ functional requirements\n",
    "3/ non functional requirements\n",
    "\n",
    "Before returning the user requirements, go through the each section of user requirments and mention if anything is missing\n",
    "</Task>\n",
    "\n",
    "<Feedback>\n",
    "Here is feedback on the user requirement structure from review (if any):\n",
    "{feedback}\n",
    "</Feedback>\n",
    "\n",
    "<Format>\n",
    "Call the UserRequirement tool \n",
    "</Format>\n",
    "\n",
    "<Instructions>\n",
    "If any field in the raw requirements is unclear, please generate it yourself, ensure the generation follow the mention requirement_organization structure.\n",
    "</Instructions>\n",
    "\"\"\""
   ]
  },
  {
   "cell_type": "markdown",
   "metadata": {},
   "source": [
    "##### Refine the user requirements"
   ]
  },
  {
   "cell_type": "code",
   "execution_count": 75,
   "metadata": {},
   "outputs": [],
   "source": [
    "def refine_user_requirments(state:WorkflowState):\n",
    "    raw_requirements = state[\"raw_requirements\"]\n",
    "    requirement_organization = DEFAULT_USER_REQUIREMENTS_STRUCTURE\n",
    "    feedback_from_user = state.get(\"feedback_from_user\",None)\n",
    "    Requirement_Planner = ChatGroq(model=\"gemma2-9b-it\",temperature=0.3).with_structured_output(RawRequirement)\n",
    "    system_instructions = user_requirements_instructions.format(user_requirements=raw_requirements,requirement_organization=requirement_organization,feedback=feedback_from_user)\n",
    "    requirement_result = Requirement_Planner.invoke([SystemMessage(content=system_instructions)]+[HumanMessage(content=\"Generate the user requirements as per organization given structure from the raw user requirements.\")])\n",
    "    print(requirement_result.raw_requirement.objective)\n",
    "    return {\"user_requirement\":requirement_result.raw_requirement}"
   ]
  },
  {
   "cell_type": "markdown",
   "metadata": {},
   "source": [
    "##### User requirement feedback"
   ]
  },
  {
   "cell_type": "code",
   "execution_count": 76,
   "metadata": {},
   "outputs": [],
   "source": [
    "def human_feedback_user_requirments(state:WorkflowState):\n",
    "    user_req = state[\"user_requirement\"]\n",
    "\n",
    "    interrupt_message = f\"\"\"Please provide the feedback for the below user requirements.\n",
    "                        \\n\\n{user_req}\\n\n",
    "                        \\nDoes the user requirements meet your needs?\\nPass 'true' to approve the user requirements.\\nOr, provide feedback to regenerate the user requirements:\"\"\"\n",
    "    \n",
    "    feedback = interrupt(value=interrupt_message)\n",
    "    \n",
    "    if isinstance(feedback, bool) and feedback is True:\n",
    "        print(\"into the feedback boolean\")\n",
    "        return Command(goto=\"dummy_node\")\n",
    "    \n",
    "    elif isinstance(feedback, str):\n",
    "        print(\"into the feedback string\")\n",
    "        return Command(goto=\"refine_user_requirements\", update={\"feedback_from_user\": feedback})\n",
    "    else:\n",
    "        raise TypeError(f\"Interrupt value of type {type(feedback)} is not supported.\")"
   ]
  },
  {
   "cell_type": "markdown",
   "metadata": {},
   "source": [
    "##### Dummy node"
   ]
  },
  {
   "cell_type": "code",
   "execution_count": 77,
   "metadata": {},
   "outputs": [],
   "source": [
    "def dummy_node(state:WorkflowState):\n",
    "    print(\"into the dummy node\")"
   ]
  },
  {
   "cell_type": "markdown",
   "metadata": {},
   "source": [
    "##### Build the Workflow"
   ]
  },
  {
   "cell_type": "code",
   "execution_count": 78,
   "metadata": {},
   "outputs": [],
   "source": [
    "graph = StateGraph(state_schema=WorkflowState,input=WorkFlowInputState)\n",
    "graph.add_node(\"refine_user_requirements\",refine_user_requirments)\n",
    "graph.add_node(\"human_feedback_user_requirments\",human_feedback_user_requirments)\n",
    "graph.add_node(\"dummy_node\",dummy_node)\n",
    "graph.add_edge(START,\"refine_user_requirements\")\n",
    "graph.add_edge(\"refine_user_requirements\",\"human_feedback_user_requirments\")\n",
    "graph.add_edge(\"human_feedback_user_requirments\",\"dummy_node\")\n",
    "graph.add_edge(\"dummy_node\",END)\n",
    "Workflow = graph.compile(checkpointer=MemorySaver())"
   ]
  },
  {
   "cell_type": "code",
   "execution_count": 79,
   "metadata": {},
   "outputs": [
    {
     "data": {
      "image/png": "[encoded data removed]",
      "text/plain": [
       "<langgraph.graph.state.CompiledStateGraph object at 0x000001D2F188FE10>"
      ]
     },
     "execution_count": 79,
     "metadata": {},
     "output_type": "execute_result"
    }
   ],
   "source": [
    "Workflow"
   ]
  },
  {
   "cell_type": "code",
   "execution_count": 80,
   "metadata": {},
   "outputs": [],
   "source": [
    "config = {\"configurable\": {\"thread_id\": str(uuid.uuid4())}}"
   ]
  },
  {
   "cell_type": "code",
   "execution_count": 81,
   "metadata": {},
   "outputs": [
    {
     "name": "stdout",
     "output_type": "stream",
     "text": [
      "Users should be able to manage their tasks effectively.\n",
      "Please provide the feedback for the below user requirements.\n",
      "                        \n",
      "\n",
      "objective='Users should be able to manage their tasks effectively.' functional_requirements='Users should be able to create, edit, and delete tasks.Users should be able to mark tasks as completed.' non_functional_requirements='The application should have a simple and intuitive user interface.'\n",
      "\n",
      "                        \n",
      "Does the user requirements meet your needs?\n",
      "Pass 'true' to approve the user requirements.\n",
      "Or, provide feedback to regenerate the user requirements:\n"
     ]
    }
   ],
   "source": [
    "raw_requirements = \"\"\"Users should be able to create, edit, and delete tasks.Users should be able to mark tasks as completed. \n",
    "Users should be able to view a list of all tasks, with completed tasks visually distinguished from incomplete ones.The application should have a simple and intuitive user interface.\"\"\"\n",
    "for event in Workflow.stream(input={\"raw_requirements\":raw_requirements},stream_mode=\"updates\",config=config):\n",
    "    if \"__interrupt__\" in event:\n",
    "        print(event[\"__interrupt__\"][0].value)"
   ]
  },
  {
   "cell_type": "code",
   "execution_count": 67,
   "metadata": {},
   "outputs": [
    {
     "name": "stdout",
     "output_type": "stream",
     "text": [
      "into the feedback string\n",
      "{'human_feedback_user_requirments': {'feedback_from_user': 'The application should have CRUD operations'}}\n",
      "into the dummy node\n",
      "raw_requirement=UserRequirement(objective=' ', functional_requirements='Users should be able to create, edit, and delete tasks.Users should be able to mark tasks as completed. Users should be able to view a list of all tasks, with completed tasks visually distinguished from incomplete ones.', non_functional_requirements='The application should have a simple and intuitive user interface.')\n",
      "{'dummy_node': None}\n",
      "{'refine_user_requirements': {'user_requirement': RawRequirement(raw_requirement=UserRequirement(objective=' ', functional_requirements='Users should be able to create, edit, and delete tasks.Users should be able to mark tasks as completed. Users should be able to view a list of all tasks, with completed tasks visually distinguished from incomplete ones.', non_functional_requirements='The application should have a simple and intuitive user interface.'))}}\n",
      "{'__interrupt__': (Interrupt(value=\"Please provide the feedback for the below user requirements.\\n                        \\n\\nraw_requirement=UserRequirement(objective=' ', functional_requirements='Users should be able to create, edit, and delete tasks.Users should be able to mark tasks as completed. Users should be able to view a list of all tasks, with completed tasks visually distinguished from incomplete ones.', non_functional_requirements='The application should have a simple and intuitive user interface.')\\n\\n                        \\nDoes the user requirements meet your needs?\\nPass 'true' to approve the user requirements.\\nOr, provide feedback to regenerate the user requirements:\", resumable=True, ns=['human_feedback_user_requirments:6c449119-ea9e-87fe-13aa-03d519c08494']),)}\n"
     ]
    }
   ],
   "source": [
    "for event in Workflow.stream(Command(resume=\"The application should have CRUD operations\"),config=config,stream_mode=\"updates\"):\n",
    "    print(event)"
   ]
  },
  {
   "cell_type": "code",
   "execution_count": null,
   "metadata": {},
   "outputs": [],
   "source": []
  },
  {
   "cell_type": "code",
   "execution_count": null,
   "metadata": {},
   "outputs": [],
   "source": []
  }
 ],
 "metadata": {
  "kernelspec": {
   "display_name": "env_agentic_ai",
   "language": "python",
   "name": "python3"
  },
  "language_info": {
   "codemirror_mode": {
    "name": "ipython",
    "version": 3
   },
   "file_extension": ".py",
   "mimetype": "text/x-python",
   "name": "python",
   "nbconvert_exporter": "python",
   "pygments_lexer": "ipython3",
   "version": "3.11.1"
  }
 },
 "nbformat": 4,
 "nbformat_minor": 2
}
