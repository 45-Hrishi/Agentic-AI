{
 "cells": [
  {
   "cell_type": "code",
   "execution_count": 6,
   "metadata": {},
   "outputs": [
    {
     "data": {
      "text/plain": [
       "True"
      ]
     },
     "execution_count": 6,
     "metadata": {},
     "output_type": "execute_result"
    }
   ],
   "source": [
    "# Importing necessary libraries\n",
    "import os\n",
    "from dotenv import load_dotenv\n",
    "from langgraph.graph import StateGraph,START,END\n",
    "# from langchain_anthropic import ChatAnthropic\n",
    "from langchain_groq import ChatGroq\n",
    "from langchain_core.messages import SystemMessage,HumanMessage\n",
    "from langchain_core.runnables import RunnableConfig\n",
    "from typing import TypedDict,List,Literal, Dict, Any\n",
    "from typing_extensions import Annotated, Optional\n",
    "from pydantic import BaseModel,Field\n",
    "from dataclasses import dataclass, fields\n",
    "from langchain.chat_models import init_chat_model\n",
    "from tavily import AsyncTavilyClient\n",
    "from enum import Enum\n",
    "from langgraph.types import interrupt,Command\n",
    "from langgraph.constants import Send\n",
    "import asyncio\n",
    "import operator\n",
    "import uuid\n",
    "from langgraph.checkpoint.memory import MemorySaver\n",
    "load_dotenv()"
   ]
  },
  {
   "cell_type": "code",
   "execution_count": 7,
   "metadata": {},
   "outputs": [],
   "source": [
    "# Loading the environment variables and model\n",
    "os.environ[\"GROQ_API_KEY\"] = os.getenv(\"GROQ_API_KEY\")\n",
    "os.environ[\"TAVILY_API_KEY\"] = os.getenv(\"TAVILY_API_KEY\")\n",
    "# os.environ[\"ANTHROPIC_API_KEY\"] = os.getenv(\"ANTHROPIC_API_KEY\")\n",
    "llm = ChatGroq(model=\"qwen-2.5-32b\",temperature=0.1)"
   ]
  },
  {
   "cell_type": "code",
   "execution_count": 8,
   "metadata": {},
   "outputs": [],
   "source": [
    "# Define the states and schema models\n",
    "class UserRequirement(BaseModel):\n",
    "    objective: str = Field(description=\"A brief statement outlining the primary goal or purpose of the application.\")\n",
    "    functional_requirements: str = Field(description=\"A detailed list of specific functionalities that the application must support to meet the user's needs.\")\n",
    "    non_functional_requirements: str = Field(description=\"A list of criteria that describe the quality attributes, performance, and constraints of the application.\")\n",
    "\n",
    "class RawRequirement(BaseModel):\n",
    "    raw_requirement: UserRequirement\n",
    "\n",
    "class UserStory(BaseModel):\n",
    "    title: str = Field(description=\"Title of this user story\")\n",
    "    description: str = Field(description=\"Description of this user story\")\n",
    "    acceptance: str = Field(description=\"Acceptance criteria to mark this user story as aceepted\")\n",
    "    status: Literal[\"ToDo\",\"Inprogess\",\"Done\"] = Field(description=\"Status of the user story, whether this user story is in Done, Inprogess or todo state\")    \n",
    "    technical_notes: str = Field(description=\"Add any implementation details or technical insights for developers\")\n",
    "        \n",
    "class UserStories(BaseModel):\n",
    "    stories : List[UserStory] = Field(description=\"User Stories related to project\")\n",
    "\n",
    "# States\n",
    "class WorkFlowInputState(TypedDict):\n",
    "    raw_requirements: str\n",
    "\n",
    "class WorkflowState(TypedDict):\n",
    "    raw_requirements: str\n",
    "    user_requirement: UserRequirement\n",
    "    # feedback_from_owner: str\n",
    "    feedback_from_user: str\n",
    "    stories : list[UserStory]\n",
    "    completed_stories: Annotated[list,operator.add]\n",
    "    \n",
    "class UserStoryState(TypedDict):\n",
    "    user_requirement: UserRequirement\n",
    "    stories: list[UserStory]\n",
    "    feedback_from_owner: str"
   ]
  },
  {
   "cell_type": "code",
   "execution_count": 9,
   "metadata": {},
   "outputs": [],
   "source": [
    "# prompts\n",
    "DEFAULT_USER_REQUIREMENTS_STRUCTURE = \"\"\"\n",
    "Please provide your application requirements using the following structure:\n",
    "\n",
    "1. Objective\n",
    "  - Briefly describe the main goal or purpose of the application.\n",
    "\n",
    "2. Functional Requirements\n",
    "  - List the specific functionalities you want the application to have. For example:\n",
    "    - Users should be able to create, view, update, and delete tasks.\n",
    "    - The application should allow users to set priorities for tasks.\n",
    "    - Users should be able to search and filter tasks.\n",
    "\n",
    "3. Non-functional Requirements\n",
    "  - Specify any performance, security, or usability criteria. For example:\n",
    "    - The application should load and respond quickly.\n",
    "    - User data should be securely stored and protected.\n",
    "    - The interface should be intuitive and easy to navigate.\n",
    "\"\"\"\n",
    "\n",
    "DETAILED_USER_STORY_STRUCTURE = \"\"\"\n",
    "Please provide your user story using the following structured format to ensure clarity and completeness:\n",
    "\n",
    "1. Title  \n",
    "   - A short, descriptive name that summarizes the purpose of this user story.  \n",
    "   - Example: \"Automated Database Backup for System Reliability\"\n",
    "\n",
    "2. Description  \n",
    "   - Provide additional details about the feature, functionality, or system behavior.  \n",
    "   - Mention any business rules, constraints, or expected behaviors.  \n",
    "   - Example:  \n",
    "     - The system should perform full database backups every 24 hours.  \n",
    "     - Backups should be stored securely in an encrypted cloud storage location.  \n",
    "     - The system should automatically delete backups older than 30 days.  \n",
    "\n",
    "3. Acceptance Criteria  \n",
    "   - Clearly define the **conditions that must be met** for this user story to be considered complete.  \n",
    "   - Each criterion should be **specific, measurable, and testable**.  \n",
    "   - Example:  \n",
    "     - The system must automatically back up the database every 24 hours.  \n",
    "     - Backup files must be encrypted using AES-256 encryption.  \n",
    "     - The system should notify the administrator via email on backup success or failure.  \n",
    "     - Older backups should be automatically deleted after 30 days.     \n",
    "\n",
    "4. Status  \n",
    "   - Indicate the current progress of this user story in the development lifecycle.  \n",
    "   - Options: **ToDo / Inprogress / Done**  \n",
    "   - Example: **Inprogress**  \n",
    "\n",
    "5. Technical Notes (Optional)  \n",
    "   - Provide implementation details, architectural considerations, or any technical constraints developers should be aware of.  \n",
    "   - Example:  \n",
    "     - Use AWS SDK for S3 integration.  \n",
    "     - Implement a cron job to schedule automated backups.  \n",
    "     - Ensure logs are maintained for auditing backup processes.  \n",
    "\n",
    "### Additional Guidelines:  \n",
    "   - Keep each section **clear and concise**.  \n",
    "   - Use **bullet points** for easy readability.  \n",
    "\"\"\"\n",
    "\n",
    "user_requirements_instructions = \"\"\"\n",
    "I want a user requirements that is concise and focused.\n",
    "\n",
    "<User Requirement>\n",
    "The raw requirements provided by user\n",
    "{user_requirements}\n",
    "</User Requirement>\n",
    "\n",
    "<Requirement organization>\n",
    "The requirement should follow the below requirement structure\n",
    "{requirement_organization}\n",
    "</Requirement organization>\n",
    "\n",
    "\n",
    "<Task>\n",
    "Generate a structural user requirements using the provided raw user requirement.\n",
    "\n",
    "For example, a good user requirement structure might look like:\n",
    "1/ objective\n",
    "2/ functional requirements\n",
    "3/ non functional requirements\n",
    "\n",
    "Before returning the user requirements, go through the each section of user requirments and mention if anything is missing\n",
    "</Task>\n",
    "\n",
    "<Feedback>\n",
    "Here is feedback on the user requirement structure from review (if any):\n",
    "{feedback}\n",
    "</Feedback>\n",
    "\n",
    "<Format>\n",
    "Call the UserRequirement tool \n",
    "</Format>\n",
    "\n",
    "<Instructions>\n",
    "If any field in the raw requirements is unclear, please generate it yourself, ensure the generation follow the mention requirement_organization structure.\n",
    "</Instructions>\n",
    "\"\"\"\n",
    "\n",
    "product_owner_instructions = \"\"\"\n",
    "I want a structured and well-reviewed user story that aligns with product requirements.\n",
    "\n",
    "<User Story Structure>  \n",
    "The user story should follow the below structure:  \n",
    "{user_story_structure}  \n",
    "</User Story Structure>  \n",
    "\n",
    "<Task>  \n",
    "1. Review the provided user story and check for completeness.  \n",
    "2. Ensure the story follows the correct structure, including:  \n",
    "   - Title  \n",
    "   - Description  \n",
    "   - Acceptance Criteria  \n",
    "   - Status  \n",
    "   - Technical Notes (if applicable)  \n",
    "3. If any field is missing or unclear, suggest improvements or generate the missing parts.  \n",
    "4. Ensure that acceptance criteria are **clear, measurable, and testable**.  \n",
    "5. Verify that the story aligns with business goals and technical feasibility.  \n",
    "</Task>  \n",
    "\n",
    "<Feedback>  \n",
    "Here is feedback from the product owner after review (if any):  \n",
    "{feedback}  \n",
    "</Feedback>  \n",
    "\n",
    "<Format>  \n",
    "Call the UserStory tool.  \n",
    "</Format>  \n",
    "\n",
    "<Instructions>  \n",
    "- If any field in the user story is unclear, **propose improvements** based on best practices.  \n",
    "- Ensure the final user story is well-structured, **developer-friendly, and testable**.  \n",
    "- Align the user story with the **product vision and business objectives**.  \n",
    "</Instructions>  \n",
    "\"\"\"\n",
    "\n"
   ]
  },
  {
   "cell_type": "markdown",
   "metadata": {},
   "source": [
    "##### Refine the user requirements"
   ]
  },
  {
   "cell_type": "code",
   "execution_count": 10,
   "metadata": {},
   "outputs": [],
   "source": [
    "def refine_user_requirments(state:WorkflowState):\n",
    "    print(\"---- INTO THE USER REQUIREMENT NODE ----\")\n",
    "    raw_requirements = state[\"raw_requirements\"]\n",
    "    requirement_organization = DEFAULT_USER_REQUIREMENTS_STRUCTURE\n",
    "    feedback_from_user = state.get(\"feedback_from_user\",None)\n",
    "    Requirement_Planner = ChatGroq(model=\"gemma2-9b-it\",temperature=0.3).with_structured_output(RawRequirement)\n",
    "    system_instructions = user_requirements_instructions.format(user_requirements=raw_requirements,requirement_organization=requirement_organization,feedback=feedback_from_user)\n",
    "    requirement_result = Requirement_Planner.invoke([SystemMessage(content=system_instructions)]+[HumanMessage(content=\"Generate the user requirements as per organization given structure from the raw user requirements.\")])\n",
    "    return {\"user_requirement\":requirement_result.raw_requirement}"
   ]
  },
  {
   "cell_type": "markdown",
   "metadata": {},
   "source": [
    "##### User requirement feedback"
   ]
  },
  {
   "cell_type": "code",
   "execution_count": 17,
   "metadata": {},
   "outputs": [],
   "source": [
    "def human_feedback_user_requirments(state:WorkflowState) -> Command[Literal[\"refine_user_requirments\",\"user_story_subgraph\"]]:\n",
    "    print(\"---- INTO THE HUMAN FEEDBACK NODE ----\")\n",
    "    user_req = f\"\"\"\n",
    "    The user requirements are : \n",
    "    Objective : {state['user_requirement'].objective}\\n\n",
    "    Functional Requirement : {state['user_requirement'].functional_requirements}\\n\n",
    "    Non-functional Requirement : {state['user_requirement'].non_functional_requirements}\\n\n",
    "    \"\"\"\n",
    "    interrupt_message = f\"\"\"Please provide the feedback for the below user requirements.\n",
    "                        \\n{user_req}\\nDoes the user requirements meet your needs?\\nPass 'true' to approve the user requirements.\\nOr, provide feedback to regenerate the user requirements:\"\"\"\n",
    "    \n",
    "    feedback = interrupt(value=interrupt_message)\n",
    "    \n",
    "    if isinstance(feedback, bool) and feedback is True:\n",
    "        print(\"into the feedback boolean\")\n",
    "        return Command(goto=\"user_story_subgraph\")\n",
    "    \n",
    "    elif isinstance(feedback, str):\n",
    "        print(\"into the feedback string\")\n",
    "        return Command(goto=\"refine_user_requirments\", update={\"feedback_from_user\": feedback})\n",
    "    \n",
    "    else:\n",
    "        raise TypeError(f\"Interrupt value of type {type(feedback)} is not supported.\")"
   ]
  },
  {
   "cell_type": "markdown",
   "metadata": {},
   "source": [
    "##### User Story Creation Subgraph"
   ]
  },
  {
   "cell_type": "code",
   "execution_count": null,
   "metadata": {},
   "outputs": [
    {
     "data": {
      "text/plain": [
       "<langgraph.graph.state.StateGraph at 0x1fd1b417d10>"
      ]
     },
     "execution_count": 18,
     "metadata": {},
     "output_type": "execute_result"
    }
   ],
   "source": [
    "def generate_user_stories(state:UserStoryState):\n",
    "    print(\"---- INTO THE generate_user_story NODE ----\")\n",
    "    user_requirements = state[user_requirements]\n",
    "    story_writer = ChatGroq(model=\"\",temperature=0.3).with_structured_output(UserStories)\n",
    "    system_message = product_owner_instructions.format()\n",
    "    print(state[\"feedback_from_user\"])\n",
    "    \n",
    "def product_owner_feedback(state:WorkflowState):\n",
    "    print(\"---- INTO THE DUMMY NODE 2 ----\")\n",
    "    print(state[\"feedback_from_user\"])\n",
    "    \n",
    "def product_owner_review(state:WorkflowState):\n",
    "    print(\"---- INTO THE DUMMY NODE 3 ----\")\n",
    "    print(state[\"feedback_from_user\"])\n",
    "\n",
    "section_builder = StateGraph(WorkflowState)\n",
    "section_builder.add_node(\"dummy_node_first\",dummy_node_first)\n",
    "section_builder.add_node(\"dummy_node_second\",dummy_node_second)\n",
    "section_builder.add_node(\"dummy_node_third\",dummy_node_third)\n",
    "\n",
    "section_builder.add_edge(START, \"dummy_node_first\")\n",
    "section_builder.add_edge(\"dummy_node_first\", \"dummy_node_second\")\n",
    "section_builder.add_edge(\"dummy_node_second\",\"dummy_node_third\")"
   ]
  },
  {
   "cell_type": "markdown",
   "metadata": {},
   "source": [
    "##### Build the Workflow"
   ]
  },
  {
   "cell_type": "code",
   "execution_count": 19,
   "metadata": {},
   "outputs": [],
   "source": [
    "graph = StateGraph(state_schema=WorkflowState,input=WorkFlowInputState)\n",
    "graph.add_node(\"refine_user_requirments\",refine_user_requirments)\n",
    "graph.add_node(\"human_feedback_user_requirments\",human_feedback_user_requirments)\n",
    "graph.add_node(\"user_story_subgraph\",section_builder.compile())\n",
    "\n",
    "graph.add_edge(START,\"refine_user_requirments\")\n",
    "graph.add_edge(\"refine_user_requirments\",\"human_feedback_user_requirments\")\n",
    "graph.add_edge(\"user_story_subgraph\",END)\n",
    "\n",
    "Workflow = graph.compile(MemorySaver())"
   ]
  },
  {
   "cell_type": "code",
   "execution_count": 20,
   "metadata": {},
   "outputs": [
    {
     "data": {
      "image/png": "[encoded data removed]",
      "text/plain": [
       "<langgraph.graph.state.CompiledStateGraph object at 0x000001FD1B4D13D0>"
      ]
     },
     "execution_count": 20,
     "metadata": {},
     "output_type": "execute_result"
    }
   ],
   "source": [
    "Workflow"
   ]
  },
  {
   "cell_type": "code",
   "execution_count": null,
   "metadata": {},
   "outputs": [],
   "source": [
    "config = {\"configurable\": {\"thread_id\": str(uuid.uuid4())}}"
   ]
  },
  {
   "cell_type": "code",
   "execution_count": null,
   "metadata": {},
   "outputs": [
    {
     "name": "stdout",
     "output_type": "stream",
     "text": [
      "---- INTO THE USER REQUIREMENT NODE ----\n",
      "---- INTO THE HUMAN FEEDBACK NODE ----\n",
      "Please provide the feedback for the below user requirements.\n",
      "                        \n",
      "\n",
      "    The user requirements are : \n",
      "    Objective : create a todo list application\n",
      "\n",
      "    Functional Requirement : Users should be able to create, edit, and delete tasks.Users should be able to mark tasks as completed. Users should be able to view a list of all tasks, with completed tasks visually distinguished from incomplete ones.\n",
      "\n",
      "    Non-functional Requirement : The application should have a simple and intuitive user interface.\n",
      "\n",
      "    \n",
      "Does the user requirements meet your needs?\n",
      "Pass 'true' to approve the user requirements.\n",
      "Or, provide feedback to regenerate the user requirements:\n"
     ]
    }
   ],
   "source": [
    "raw_requirements = \"\"\"create a todo list application in which users should be able to create, edit, and delete tasks.Users should be able to mark tasks as completed. \n",
    "Users should be able to view a list of all tasks, with completed tasks visually distinguished from incomplete ones.The application should have a simple and intuitive user interface.\"\"\"\n",
    "for event in Workflow.stream(input={\"raw_requirements\":raw_requirements},stream_mode=\"updates\",config=config):\n",
    "    if \"__interrupt__\" in event:\n",
    "        print(event[\"__interrupt__\"][0].value)"
   ]
  },
  {
   "cell_type": "code",
   "execution_count": null,
   "metadata": {},
   "outputs": [
    {
     "name": "stdout",
     "output_type": "stream",
     "text": [
      "---- INTO THE HUMAN FEEDBACK NODE ----\n",
      "into the feedback string\n",
      "{'human_feedback_user_requirments': {'feedback_from_user': 'The application should have CRUD operations'}}\n",
      "---- INTO THE USER REQUIREMENT NODE ----\n",
      "{'refine_user_requirements': {'user_requirement': UserRequirement(objective='create a todo list application', functional_requirements='Users should be able to create, edit, and delete tasks.Users should be able to mark tasks as completed. Users should be able to view a list of all tasks, with completed tasks visually distinguished from incomplete ones.', non_functional_requirements='The application should have a simple and intuitive user interface.')}}\n",
      "---- INTO THE HUMAN FEEDBACK NODE ----\n",
      "{'__interrupt__': (Interrupt(value=\"Please provide the feedback for the below user requirements.\\n                        \\n\\n    The user requirements are : \\n    Objective : create a todo list application\\n\\n    Functional Requirement : Users should be able to create, edit, and delete tasks.Users should be able to mark tasks as completed. Users should be able to view a list of all tasks, with completed tasks visually distinguished from incomplete ones.\\n\\n    Non-functional Requirement : The application should have a simple and intuitive user interface.\\n\\n    \\nDoes the user requirements meet your needs?\\nPass 'true' to approve the user requirements.\\nOr, provide feedback to regenerate the user requirements:\", resumable=True, ns=['human_feedback_user_requirments:459a7b2f-dfda-86e4-ea42-43ab3482b0d6']),)}\n"
     ]
    }
   ],
   "source": [
    "for event in Workflow.stream(Command(resume=\"The application should have CRUD operations\"),config=config,stream_mode=\"updates\"):\n",
    "    print(event)"
   ]
  },
  {
   "cell_type": "code",
   "execution_count": null,
   "metadata": {},
   "outputs": [
    {
     "name": "stdout",
     "output_type": "stream",
     "text": [
      "---- INTO THE HUMAN FEEDBACK NODE ----\n",
      "into the feedback boolean\n",
      "{'human_feedback_user_requirments': None}\n",
      "---- INTO THE DUMMY NODE ----\n",
      "True\n",
      "{'dummy_node': None}\n"
     ]
    }
   ],
   "source": [
    "for event in Workflow.stream(Command(resume=True),config=config,stream_mode=\"updates\"):\n",
    "    print(event)"
   ]
  },
  {
   "cell_type": "code",
   "execution_count": null,
   "metadata": {},
   "outputs": [],
   "source": []
  }
 ],
 "metadata": {
  "kernelspec": {
   "display_name": "env_phidata_agents",
   "language": "python",
   "name": "python3"
  },
  "language_info": {
   "codemirror_mode": {
    "name": "ipython",
    "version": 3
   },
   "file_extension": ".py",
   "mimetype": "text/x-python",
   "name": "python",
   "nbconvert_exporter": "python",
   "pygments_lexer": "ipython3",
   "version": "3.11.11"
  }
 },
 "nbformat": 4,
 "nbformat_minor": 2
}
