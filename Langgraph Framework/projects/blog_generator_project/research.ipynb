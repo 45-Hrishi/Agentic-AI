{
 "cells": [
  {
   "cell_type": "markdown",
   "metadata": {},
   "source": [
    "##### **Blog Content Generation AI Workflow**"
   ]
  },
  {
   "attachments": {
    "image.png": {
     "image/png": "[encoded data removed]"
    }
   },
   "cell_type": "markdown",
   "metadata": {},
   "source": [
    "![image.png](attachment:image.png)"
   ]
  },
  {
   "cell_type": "code",
   "execution_count": 1,
   "metadata": {},
   "outputs": [],
   "source": [
    "# Importing the necessary libraries\n",
    "from typing import Annotated\n",
    "from typing_extensions import TypedDict,Literal,List\n",
    "from langchain_groq import ChatGroq\n",
    "from langgraph.graph import END, START, MessageGraph\n",
    "from langgraph.graph.state import StateGraph\n",
    "from langgraph.graph.message import add_messages\n",
    "from langgraph.prebuilt import ToolNode\n",
    "from langchain_core.tools import tool\n",
    "from langchain_core.messages import BaseMessage\n",
    "from langchain_core.runnables import RunnableConfig\n",
    "from langchain_core.messages import AnyMessage\n",
    "from langgraph.types import interrupt,Command\n",
    "from langgraph.checkpoint.memory import MemorySaver\n",
    "from langchain.prompts import ChatPromptTemplate\n",
    "from pydantic import BaseModel\n",
    "from pydantic.fields import Field\n",
    "from langchain.tools.tavily_search import TavilySearchResults\n",
    "from langchain_core.documents import Document\n",
    "import os\n",
    "from dotenv import load_dotenv"
   ]
  },
  {
   "cell_type": "code",
   "execution_count": 2,
   "metadata": {},
   "outputs": [],
   "source": [
    "# Loading the environment variables\n",
    "os.environ[\"GROQ_API_KEY\"] = os.getenv(\"GROQ_API_KEY\")\n",
    "os.environ[\"TAVILY_API_KEY\"] = os.getenv(\"TAVILY_API_KEY\")"
   ]
  },
  {
   "cell_type": "code",
   "execution_count": 3,
   "metadata": {},
   "outputs": [],
   "source": [
    "# Loading the LLM model\n",
    "# llm = ChatGroq(model=\"llama-3.2-11b-vision-preview\",temperature=0)\n",
    "llm = ChatGroq(model=\"qwen-2.5-32b\",temperature=0.5)"
   ]
  },
  {
   "cell_type": "code",
   "execution_count": 4,
   "metadata": {},
   "outputs": [],
   "source": [
    "# defining the state (message state)\n",
    "class MessageState(TypedDict):\n",
    "    input_query: str\n",
    "    query_rewriting:Literal[\"yes\",\"no\"]\n",
    "    documents: List[str]\n",
    "    content: str"
   ]
  },
  {
   "cell_type": "code",
   "execution_count": 5,
   "metadata": {},
   "outputs": [],
   "source": [
    "# define the memory\n",
    "memory = MemorySaver()"
   ]
  },
  {
   "cell_type": "code",
   "execution_count": 6,
   "metadata": {},
   "outputs": [],
   "source": [
    "# flow \n",
    "# start --> grade query --> query constructor --> web search (5 blog post) --> grade documents --> rewrite query (if grade documents is false) --> generate the blog --> human feedback --> end"
   ]
  },
  {
   "cell_type": "markdown",
   "metadata": {},
   "source": [
    "##### Query Grader Node"
   ]
  },
  {
   "cell_type": "code",
   "execution_count": 7,
   "metadata": {},
   "outputs": [
    {
     "data": {
      "text/plain": [
       "QueryGraderModel(binary_score='no')"
      ]
     },
     "execution_count": 7,
     "metadata": {},
     "output_type": "execute_result"
    }
   ],
   "source": [
    "# Query Grader Model\n",
    "\n",
    "class QueryGraderModel(BaseModel):\n",
    "    \"\"\"Evaluates whether a given input is well-structured and specific for searching blog content on the web.\"\"\"\n",
    "    binary_score: Literal[\"yes\",\"no\"] = Field(\"Indicates whether the input is well-structured and specific for searching blog content on the web. Accepts 'yes' or 'no'.\")\n",
    "    \n",
    "system = \"\"\"\n",
    "You are an AI-powered query evaluator. Your task is to assess whether a given input query is well-structured, \n",
    "specific, and suitable for searching blog content on the web.\n",
    "\n",
    "Clarity = The query should be understandable and unambiguous.\n",
    "Specificity = It should be detailed enough to generate relevant blog search results.\n",
    "Search Intent = The query should be framed to retrieve blog-style content rather than unrelated results.\n",
    "Completeness = The query should provide enough context to guide a search effectively.\n",
    "\n",
    "You must return a binary score:\n",
    "\"yes\" → If the query is well-structured and specific for searching blog content.\n",
    "\"no\" → If the query is too vague, unclear, or unsuitable for blog searches.\n",
    "\n",
    "Examples:\n",
    "Valid Queries (yes)\n",
    "\n",
    "\"Best AI tools for content writers in 2024\"\n",
    "\"How to optimize a WordPress blog for SEO?\"\n",
    "\"Top Python frameworks for web development in 2024\"\n",
    "\n",
    "Invalid Queries (no)\n",
    "\n",
    "\"AI tools?\" (Too vague)\n",
    "\"Fix laptop?\" (Not framed for blog search)\n",
    "\"Latest news on Apple\" (Better suited for news, not blogs)\n",
    "\"\"\"\n",
    "\n",
    "QueryGraderPrompt = ChatPromptTemplate.from_messages([\n",
    "    (\"system\",system),\n",
    "    (\"human\",\"Grade the input query: {question}\")\n",
    "])\n",
    "\n",
    "QueryGraderLLM = llm.with_structured_output(QueryGraderModel)\n",
    "QueryGraderChain = (QueryGraderPrompt | QueryGraderLLM)\n",
    "\n",
    "QueryGraderChain.invoke({\"question\":\"Data Science\"})"
   ]
  },
  {
   "cell_type": "code",
   "execution_count": 8,
   "metadata": {},
   "outputs": [],
   "source": [
    "# grade query node\n",
    "def grade_query_node(state:MessageState):\n",
    "    \"\"\"\n",
    "    Determines whether a given input is well-structured and specific for searching blog content on the web\n",
    "\n",
    "    Args:\n",
    "        state (dict): The current graph state\n",
    "\n",
    "    Returns:\n",
    "        state (dict): \n",
    "    \"\"\"\n",
    "    print(\"----- CHECKING THE USER INPUT WHETHER WELL-STRUCTURE FOR WEB-SEARCH OR NOT -----\")\n",
    "    input_query = state[\"input_query\"]\n",
    "    query_grader = QueryGraderChain.invoke({\"question\":input_query})\n",
    "    binary_score = query_grader.binary_score\n",
    "    \n",
    "    if binary_score == \"yes\":\n",
    "        query_rewriting = \"no\"\n",
    "    elif binary_score == \"no\":\n",
    "        query_rewriting = \"yes\"\n",
    "    return {\"input_query\":input_query,\"query_rewriting\":query_rewriting}\n",
    "        "
   ]
  },
  {
   "cell_type": "markdown",
   "metadata": {},
   "source": [
    "##### Query Rewriter Node"
   ]
  },
  {
   "cell_type": "code",
   "execution_count": 9,
   "metadata": {},
   "outputs": [],
   "source": [
    "# Query Rewriter Model\n",
    "\n",
    "class RewriteQueryModel(BaseModel):\n",
    "    \"\"\"Rewrite the question in consise and clear format\"\"\"\n",
    "    question:str = Field(description=\"Rewritten question into web search based format\")\n",
    "\n",
    "# Few shot Prompt / examples\n",
    "system = \"\"\"\n",
    "You are an advanced AI designed to optimize technology-related search input. \n",
    "Your goal is to rewrite user-provided search input into more improve, clarical and \n",
    "search engine effective format into proper complete sentence while preserving intent. \n",
    "\n",
    "1. Enhance Specificity = Add relevant keywords, versions, and use cases for better precision.\n",
    "2. Remove Ambiguity = Clarify vague terms to match search engine expectations.\n",
    "3. Use Natural Language = Keep the input readable and structured for efficient searching.\n",
    "4. Optimize for Blog Content = Transform the input into a structured topic suitable for an in-depth blog post.\n",
    "5. Improve Searchability = Reframe the input to match how users search for blogs online.\n",
    "\n",
    "Examples:\n",
    "question: \"AI tools for developers?\"\n",
    "Output: \"Top AI-powered coding assistants for developers in 2025: GitHub Copilot, CodeWhisperer, and more\"\n",
    "\n",
    "question: \"fastest web hosting?\"\n",
    "Output: \"Best high-speed web hosting providers in 2025 for low-latency websites\"\n",
    "\n",
    "question: \"ai agents\"\n",
    "Output: \"Trending Agentic AI Frameworks in 2025\"\n",
    "\"\"\"\n",
    "\n",
    "QueryRewriterPrompt = ChatPromptTemplate.from_messages([\n",
    "    (\"system\",system),\n",
    "    (\"human\",\"Rewrite the following query properly: {question}\")\n",
    "])\n",
    "\n",
    "QueryRewriterLLM = llm.with_structured_output(RewriteQueryModel)\n",
    "QueryRewriterChain = (QueryRewriterPrompt | QueryRewriterLLM)"
   ]
  },
  {
   "cell_type": "code",
   "execution_count": 10,
   "metadata": {},
   "outputs": [
    {
     "data": {
      "text/plain": [
       "RewriteQueryModel(question='What are the key concepts and tools in data science for 2025?')"
      ]
     },
     "execution_count": 10,
     "metadata": {},
     "output_type": "execute_result"
    }
   ],
   "source": [
    "QueryRewriterChain.invoke({\"question\":\"Data science\"})"
   ]
  },
  {
   "cell_type": "code",
   "execution_count": 36,
   "metadata": {},
   "outputs": [],
   "source": [
    "def rewrite_query_node(state:MessageState):\n",
    "    \"\"\"\n",
    "    Rewite the user query into more well-structured and search engine effective format\n",
    "\n",
    "    Args:\n",
    "        state (dict): The current graph state\n",
    "\n",
    "    Returns:\n",
    "        state (dict): \n",
    "    \"\"\"\n",
    "    print(\"----- REWRITING THE USER QUERY -----\")\n",
    "    input_query = state[\"input_query\"]\n",
    "    rewritten_query = QueryRewriterChain.invoke({\"question\":input_query})\n",
    "    return {\"input_query\":rewritten_query.question}"
   ]
  },
  {
   "cell_type": "markdown",
   "metadata": {},
   "source": [
    "##### Web search Node"
   ]
  },
  {
   "cell_type": "code",
   "execution_count": 37,
   "metadata": {},
   "outputs": [],
   "source": [
    "def web_search_node(state:MessageState):\n",
    "    \"\"\"\n",
    "    Web search based on the re-written question.\n",
    "\n",
    "    Args:\n",
    "        state (dict): The current graph state\n",
    "\n",
    "    Returns:\n",
    "        state (dict): \n",
    "    \"\"\"\n",
    "    print(\"----- PERFORMING WEB SEARCH -----\")\n",
    "    input_query = state[\"input_query\"]\n",
    "    \n",
    "    print(\"Input Query : \",input_query)\n",
    "    tavily_search_tool = TavilySearchResults(description=(\"A search engine optimized for discovering comprehensive, accurate, and trusted technical blog content.\"\n",
    "        \"It is designed to help users find high-quality blogs that answer technical questions across various technology domains\"\n",
    "        \"Input should be a search query.\"),k=5\n",
    "    )\n",
    "    docs = tavily_search_tool.invoke({\"query\":input_query})\n",
    "    documents = [Document(doc[\"content\"]) for doc in docs]\n",
    "    print(documents)\n",
    "    return {\"documents\":documents}"
   ]
  },
  {
   "cell_type": "markdown",
   "metadata": {},
   "source": [
    "##### Content Generation Node"
   ]
  },
  {
   "cell_type": "code",
   "execution_count": 43,
   "metadata": {},
   "outputs": [],
   "source": [
    "system = \"\"\"\n",
    "\"You are an AI-powered technical blog writer. Your task is to generate user-centric, engaging, and well-structured blog content based on web-scraped articles. \"\n",
    "\"Create a clear, specific, and complete blog with an attractive title and logical sections for better readability. \"\n",
    "\"Use simple Indian English to ensure accessibility.\"\n",
    "\"\"\"\n",
    "ContentGeneratorPrompt = ChatPromptTemplate.from_messages([\n",
    "    (\"system\",system),\n",
    "    (\"human\",\"Write a well-structured blog based on the given documents: {documents}\")\n",
    "])\n",
    "ContentGeneratorLLM = ChatGroq(model=\"qwen-2.5-32b\",temperature=0.5)\n",
    "ContentGeneratorChain = (ContentGeneratorPrompt | ContentGeneratorLLM)\n",
    "\n",
    "def generate_content_node(state:MessageState):\n",
    "    \"\"\"\n",
    "    Generate answer\n",
    "\n",
    "    Args:\n",
    "        state (dict): The current graph state\n",
    "\n",
    "    Returns:\n",
    "        state (dict): New key added to state, output : contains LLM generated output\n",
    "    \"\"\"\n",
    "    print(\"----- GENERATING THE CONTENT -----\")\n",
    "    documents = state[\"documents\"]\n",
    "    generated_content = ContentGeneratorChain.invoke({\"documents\":documents})\n",
    "    return {\"content\":generated_content}"
   ]
  },
  {
   "cell_type": "markdown",
   "metadata": {},
   "source": [
    "##### Should Rewrite Query Conditional Node"
   ]
  },
  {
   "cell_type": "code",
   "execution_count": 44,
   "metadata": {},
   "outputs": [],
   "source": [
    "def should_rewrite_query(state):\n",
    "    \"\"\"\n",
    "    Determines whether to rewrite the query, or not rewrite the query.\n",
    "\n",
    "    Args:\n",
    "        state (dict): The current graph state\n",
    "\n",
    "    Returns:\n",
    "        str: \n",
    "    \"\"\"\n",
    "    shouldwrite = state[\"query_rewriting\"]\n",
    "    if shouldwrite == \"yes\":\n",
    "        return \"RewriteQuery\"\n",
    "    else:\n",
    "        return \"WebSearch\""
   ]
  },
  {
   "cell_type": "markdown",
   "metadata": {},
   "source": [
    "##### Workflow"
   ]
  },
  {
   "cell_type": "code",
   "execution_count": 45,
   "metadata": {},
   "outputs": [],
   "source": [
    "# Generate the workflow\n",
    "workflow = StateGraph(MessageState)\n",
    "\n",
    "workflow.add_node(\"GradeQuery\",grade_query_node)\n",
    "workflow.add_node(\"RewriteQuery\",rewrite_query_node)\n",
    "workflow.add_node(\"WebSearch\",web_search_node)\n",
    "workflow.add_node(\"GenerateContent\",generate_content_node)\n",
    "\n",
    "workflow.add_edge(START,\"GradeQuery\")\n",
    "workflow.add_conditional_edges(\"GradeQuery\",should_rewrite_query,{'RewriteQuery':'RewriteQuery','WebSearch':'WebSearch'})\n",
    "workflow.add_edge(\"WebSearch\",\"GenerateContent\")\n",
    "workflow.add_edge(\"RewriteQuery\",\"WebSearch\")\n",
    "workflow.add_edge(\"WebSearch\",\"GenerateContent\")\n",
    "workflow.add_edge(\"GenerateContent\",END)\n",
    "\n",
    "app = workflow.compile()"
   ]
  },
  {
   "cell_type": "code",
   "execution_count": 46,
   "metadata": {},
   "outputs": [
    {
     "data": {
      "image/png": "[encoded data removed]",
      "text/plain": [
       "<langgraph.graph.state.CompiledStateGraph object at 0x0000028A0D407710>"
      ]
     },
     "execution_count": 46,
     "metadata": {},
     "output_type": "execute_result"
    }
   ],
   "source": [
    "app"
   ]
  },
  {
   "cell_type": "code",
   "execution_count": 48,
   "metadata": {},
   "outputs": [
    {
     "name": "stdout",
     "output_type": "stream",
     "text": [
      "----- CHECKING THE USER INPUT WHETHER WELL-STRUCTURE FOR WEB-SEARCH OR NOT -----\n",
      "\"Node 'GradeQuery':\"\n",
      "----- REWRITING THE USER QUERY -----\n",
      "\"Node 'RewriteQuery':\"\n",
      "----- PERFORMING WEB SEARCH -----\n",
      "Input Query :  What are the leading agentic AI frameworks in 2025?\n",
      "[Document(metadata={}, page_content='Top 5 Agentic AI Frameworks to Watch in 2025 | by Lekha Priya | Jan, 2025 | Medium Top 5 Agentic AI Frameworks to Watch in 2025 https://www.analyticsvidhya.com/blog/2024/07/ai-agent-frameworks/ Microsoft AutoGen provides unparalleled support for creating systems that require multi-agent collaboration, making it ideal for use cases like IT infrastructure management and cloud automation. CrewAI’s ability to handle multi-agent collaboration makes it a go-to framework for projects requiring team-based problem-solving, like logistics and resource planning. These frameworks are more than just tools — they’re blueprints for the future of Agentic AI. Agentic AI frameworks like Microsoft AutoGen, LangChain, and CrewAI are laying the groundwork for a future where AI systems operate autonomously, adapt dynamically, and collaborate seamlessly. Agentic Ai'), Document(metadata={}, page_content=\"Here's a look at some of the standout frameworks making waves this year: Microsoft AutoGen, Phidata, PromptFlow, OpenAI Swarm, General Trends.\"), Document(metadata={}, page_content='In this post, we’ll explore how these frameworks compare across key dimensions such as state management, memory capabilities, multi-agent collaboration, and scalability to help you choose the best one for your project. AutoGen supports serialized state management for multi-agent systems but is not optimized for persistent memory. CrewAI uses role-based state management to allocate tasks among specialized agents but does not include built-in memory systems. It is ideal for applications like personalized assistants that require long-term memory retention, document analysis with persistent context, or dynamic workflows involving multiple agents. CrewAI’s dynamic role-based collaboration makes it scalable for research analysis, customer support teams, or any environment requiring team-like collaboration among specialized agents. Choose CrewAI if you need role-based collaboration among agents in team-like environments such as research or customer support.'), Document(metadata={}, page_content='Thanks to its extensive set of tools and abstractions, developers may design powerful AI agents with complicated reasoning, task execution, and interaction with external data sources and APIs. Fundamentally, retaining context throughout lengthy talks, incorporating outside information, and coordinating multi-step projects are only a few of the difficulties developers encounter while collaborating with LLMs. LangChain tackles these issues. Generative AI| Large Language Models| Building LLM Applications using Prompt Engineering| Building Your first RAG System using LlamaIndex| Stability.AI| MidJourney| Building Production Ready RAG systems using LlamaIndex| Building LLMs for Code| Deep Learning| Python| Microsoft Excel| Machine Learning| Decision Trees| Pandas for Data Analysis| Ensemble Learning| NLP| NLP using Deep Learning| Neural Networks| Loan Prediction Practice Problem| Time Series Forecasting| Tableau| Business Analytics'), Document(metadata={}, page_content='This framework allows developers to build, test, and deploy AI agents capable of handling complex natural language tasks. As a robust solution for generative AI and NLP applications, this framework simplifies the development of intelligent agents by integrating advanced machine learning (ML) models and making them accessible through a cohesive, user-friendly API. As a robust solution for generative AI and NLP applications, this framework simplifies the development of intelligent agents by integrating advanced machine learning (ML) models and making them accessible through a cohesive, user-friendly API. As a robust solution for generative AI and NLP applications, this framework simplifies the development of intelligent agents by integrating advanced machine learning (ML) models and making them accessible through a cohesive, user-friendly API.')]\n",
      "\"Node 'WebSearch':\"\n",
      "----- GENERATING THE CONTENT -----\n",
      "\"Node 'GenerateContent':\"\n",
      "('# Top 5 Agentic AI Frameworks to Watch in 2025\\n'\n",
      " '\\n'\n",
      " 'In the rapidly evolving world of artificial intelligence, agentic AI '\n",
      " 'frameworks are becoming increasingly crucial. These frameworks enable AI '\n",
      " 'systems to operate autonomously, adapt dynamically, and collaborate '\n",
      " 'seamlessly. Here’s a look at the top 5 agentic AI frameworks to watch out '\n",
      " 'for in 2025.\\n'\n",
      " '\\n'\n",
      " '## Microsoft AutoGen\\n'\n",
      " '\\n'\n",
      " 'Microsoft AutoGen is a robust framework that supports the creation of '\n",
      " 'systems requiring multi-agent collaboration. It is particularly useful for '\n",
      " 'tasks like IT infrastructure management and cloud automation. \\n'\n",
      " '\\n'\n",
      " '**Key Features:**\\n'\n",
      " '- **Multi-Agent Collaboration:** Microsoft AutoGen excels in scenarios where '\n",
      " 'multiple AI agents need to work together.\\n'\n",
      " '- **State Management:** It supports serialized state management for '\n",
      " 'multi-agent systems, which is vital for maintaining consistency across '\n",
      " 'different agents.\\n'\n",
      " '- **Scalability:** AutoGen is designed to scale efficiently, making it '\n",
      " 'suitable for large-scale projects.\\n'\n",
      " '\\n'\n",
      " '## CrewAI\\n'\n",
      " '\\n'\n",
      " 'CrewAI is another standout framework that focuses on role-based state '\n",
      " 'management, enabling specialized agents to collaborate effectively. This '\n",
      " 'makes it ideal for applications like personalized assistants, document '\n",
      " 'analysis, and dynamic workflows.\\n'\n",
      " '\\n'\n",
      " '**Key Features:**\\n'\n",
      " '- **Role-Based Collaboration:** CrewAI allocates tasks among specialized '\n",
      " 'agents based on their roles, ensuring efficient task execution.\\n'\n",
      " '- **Scalability:** The framework is highly scalable and can be used in '\n",
      " 'environments requiring team-like collaboration, such as research and '\n",
      " 'customer support.\\n'\n",
      " '- **Applications:** CrewAI is perfect for environments that need long-term '\n",
      " 'memory retention and persistent context, like personalized assistants and '\n",
      " 'document analysis.\\n'\n",
      " '\\n'\n",
      " '## LangChain\\n'\n",
      " '\\n'\n",
      " 'LangChain is a powerful tool that addresses the challenges of working with '\n",
      " 'large language models (LLMs). It helps developers design intelligent agents '\n",
      " 'capable of complex reasoning, task execution, and interaction with external '\n",
      " 'data sources and APIs.\\n'\n",
      " '\\n'\n",
      " '**Key Features:**\\n'\n",
      " '- **Complex Reasoning:** LangChain supports agents that can handle intricate '\n",
      " 'reasoning and task execution.\\n'\n",
      " '- **Memory and Context:** It helps in retaining context throughout lengthy '\n",
      " 'interactions and incorporating outside information.\\n'\n",
      " '- **Multi-Step Projects:** LangChain is ideal for coordinating multi-step '\n",
      " 'projects, making it a valuable asset for developers working with LLMs.\\n'\n",
      " '\\n'\n",
      " '## PhidiaL\\n'\n",
      " '\\n'\n",
      " 'PhidiaL is a robust framework for building AI agents that can handle complex '\n",
      " 'natural language tasks. It simplifies the development process by integrating '\n",
      " 'advanced machine learning models and providing a user-friendly API.\\n'\n",
      " '\\n'\n",
      " '**Key Features:**\\n'\n",
      " '- **Natural Language Tasks:** PhidiaL is designed to handle complex natural '\n",
      " 'language tasks efficiently.\\n'\n",
      " '- **User-Friendly API:** The framework makes it easier for developers to '\n",
      " 'integrate advanced ML models into their projects.\\n'\n",
      " '- **Accessibility:** Its cohesive API makes it accessible for developers of '\n",
      " 'all skill levels.\\n'\n",
      " '\\n'\n",
      " '## PromptFlow\\n'\n",
      " '\\n'\n",
      " 'PromptFlow is another notable framework that simplifies the development of '\n",
      " 'intelligent agents by integrating advanced machine learning models and '\n",
      " 'providing a user-friendly API. It is particularly useful for generative AI '\n",
      " 'and NLP applications.\\n'\n",
      " '\\n'\n",
      " '**Key Features:**\\n'\n",
      " '- **Generative AI and NLP:** PromptFlow is a robust solution for developing '\n",
      " 'intelligent agents for generative AI and NLP applications.\\n'\n",
      " '- **Advanced ML Models:** It integrates advanced ML models to enhance the '\n",
      " 'capabilities of AI agents.\\n'\n",
      " '- **User-Friendly:** The framework offers a user-friendly API, making it '\n",
      " 'easier for developers to build and deploy AI agents.\\n'\n",
      " '\\n'\n",
      " '## Choosing the Right Framework\\n'\n",
      " '\\n'\n",
      " 'When selecting an agentic AI framework, it’s important to consider the '\n",
      " 'specific requirements of your project. Here’s a quick comparison based on '\n",
      " 'key dimensions:\\n'\n",
      " '\\n'\n",
      " '### State Management\\n'\n",
      " '- **Microsoft AutoGen:** Supports serialized state management.\\n'\n",
      " '- **CrewAI:** Uses role-based state management.\\n'\n",
      " '- **LangChain:** Handles context retention and multi-step projects.\\n'\n",
      " '- **PhidiaL:** Focuses on handling complex natural language tasks.\\n'\n",
      " '- **PromptFlow:** Integrates advanced ML models for robust state '\n",
      " 'management.\\n'\n",
      " '\\n'\n",
      " '### Memory Capabilities\\n'\n",
      " '- **Microsoft AutoGen:** Not optimized for persistent memory.\\n'\n",
      " '- **CrewAI:** Does not include built-in memory systems.\\n'\n",
      " '- **LangChain:** Retains context and incorporates outside information.\\n'\n",
      " '- **PhidiaL:** Retains context for complex tasks.\\n'\n",
      " '- **PromptFlow:** Supports persistent memory for generative AI '\n",
      " 'applications.\\n'\n",
      " '\\n'\n",
      " '### Multi-Agent Collaboration\\n'\n",
      " '- **Microsoft AutoGen:** Ideal for multi-agent collaboration.\\n'\n",
      " '- **CrewAI:** Role-based collaboration for team-like environments.\\n'\n",
      " '- **LangChain:** Supports multi-step projects and complex reasoning.\\n'\n",
      " '- **PhidiaL:** Handles natural language tasks efficiently.\\n'\n",
      " '- **PromptFlow:** Integrates advanced ML models for collaboration.\\n'\n",
      " '\\n'\n",
      " '### Scalability\\n'\n",
      " '- **Microsoft AutoGen:** Highly scalable for large-scale projects.\\n'\n",
      " '- **CrewAI:** Scalable for team-like environments.\\n'\n",
      " '- **LangChain:** Designed to scale for complex projects.\\n'\n",
      " '- **PhidiaL:** Scalable for natural language tasks.\\n'\n",
      " '- **PromptFlow:** Scalable for generative AI applications.\\n'\n",
      " '\\n'\n",
      " '## Conclusion\\n'\n",
      " '\\n'\n",
      " 'Choosing the right agentic AI framework depends on the specific needs of '\n",
      " 'your project. Whether you need robust state management, advanced memory '\n",
      " 'capabilities, efficient multi-agent collaboration, or scalability, there’s a '\n",
      " 'framework suited to your requirements. Explore these frameworks to find the '\n",
      " 'best fit for your AI project and leverage their capabilities to build '\n",
      " 'powerful and intelligent systems.\\n'\n",
      " '\\n'\n",
      " 'Stay tuned for more updates and insights on the latest advancements in AI '\n",
      " 'and machine learning!')\n"
     ]
    }
   ],
   "source": [
    "from pprint import pprint\n",
    "inputs = {\"input_query\":\"Agentic Ai frameworks?\"}\n",
    "for output in app.stream(inputs):\n",
    "    for key, value in output.items():\n",
    "        # Node\n",
    "        pprint(f\"Node '{key}':\")\n",
    "        # Optional: print full state at each node\n",
    "        # pprint.pprint(value[\"keys\"], indent=2, width=80, depth=None)\n",
    "# Final generation\n",
    "pprint(value[\"content\"].content)"
   ]
  },
  {
   "cell_type": "code",
   "execution_count": 50,
   "metadata": {},
   "outputs": [],
   "source": [
    "import requests"
   ]
  },
  {
   "cell_type": "code",
   "execution_count": 53,
   "metadata": {},
   "outputs": [],
   "source": [
    "def fetch_github_code(repo: str, file_path: str):\n",
    "    url = f\"https://raw.githubusercontent.com/{repo}/refs/heads/main/{file_path}\"\n",
    "    response = requests.get(url)\n",
    "    if response.status_code == 200:\n",
    "        return response.text\n",
    "    return \"Error fetching code.\""
   ]
  },
  {
   "cell_type": "code",
   "execution_count": 58,
   "metadata": {},
   "outputs": [],
   "source": [
    "response = fetch_github_code(repo=\"45-Hrishi/MCQ-Generator-LLM-Application\",file_path=\"src/mcq_generator/mcq_generator.py\")"
   ]
  },
  {
   "cell_type": "code",
   "execution_count": 17,
   "metadata": {},
   "outputs": [],
   "source": [
    "def clean_script(script):\n",
    "    lines = script.split(\"\\n\")\n",
    "    cleaned_lines = []\n",
    "    \n",
    "    for line in lines:\n",
    "        # Remove Jupyter magic commands (like %matplotlib inline, %timeit, etc.)\n",
    "        if line.strip().startswith(\"%\") or line.strip().startswith(\"!\") or line.startswith('# In['):\n",
    "            continue\n",
    "        \n",
    "        cleaned_lines.append(line)\n",
    "\n",
    "    return \"\\n\".join(cleaned_lines)"
   ]
  },
  {
   "cell_type": "code",
   "execution_count": 18,
   "metadata": {},
   "outputs": [],
   "source": [
    "import nbformat\n",
    "from nbconvert import PythonExporter\n",
    "\n",
    "def convert_notebook_to_script(notebook_path, script_path):\n",
    "    with open(notebook_path, \"r\", encoding=\"utf-8\") as f:\n",
    "        notebook_content = nbformat.read(f, as_version=4)\n",
    "    \n",
    "    python_exporter = PythonExporter()\n",
    "    script, _ = python_exporter.from_notebook_node(notebook_content)\n",
    "\n",
    "    \n",
    "    # Clean the script\n",
    "    cleaned_script = clean_script(script)\n",
    "\n",
    "    with open(script_path, \"w\", encoding=\"utf-8\") as f:\n",
    "        f.write(cleaned_script)\n",
    "\n",
    "# Example usage\n",
    "convert_notebook_to_script(\"research.ipynb\", \"output_script.py\")"
   ]
  },
  {
   "cell_type": "code",
   "execution_count": null,
   "metadata": {},
   "outputs": [],
   "source": []
  }
 ],
 "metadata": {
  "kernelspec": {
   "display_name": "env_phidata_agents",
   "language": "python",
   "name": "python3"
  },
  "language_info": {
   "codemirror_mode": {
    "name": "ipython",
    "version": 3
   },
   "file_extension": ".py",
   "mimetype": "text/x-python",
   "name": "python",
   "nbconvert_exporter": "python",
   "pygments_lexer": "ipython3",
   "version": "3.11.11"
  }
 },
 "nbformat": 4,
 "nbformat_minor": 2
}
