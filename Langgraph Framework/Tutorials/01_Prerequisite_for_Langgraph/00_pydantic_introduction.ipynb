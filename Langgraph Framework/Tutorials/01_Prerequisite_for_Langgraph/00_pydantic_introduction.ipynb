{
 "cells": [
  {
   "cell_type": "markdown",
   "metadata": {},
   "source": [
    "#### Pydantic"
   ]
  },
  {
   "cell_type": "code",
   "execution_count": null,
   "metadata": {},
   "outputs": [],
   "source": [
    "!pip install pydantic==2.10.6\n",
    "!pip install pydantic[Email]"
   ]
  },
  {
   "cell_type": "code",
   "execution_count": 43,
   "metadata": {},
   "outputs": [
    {
     "name": "stdout",
     "output_type": "stream",
     "text": [
      "2.10.6\n"
     ]
    }
   ],
   "source": [
    "# Importing required library\n",
    "import pydantic\n",
    "from typing import List, Optional, Any\n",
    "from pydantic import BaseModel,EmailStr,PositiveInt,conlist,Field,HttpUrl,field_validator,model_validator\n",
    "print(pydantic.__version__)"
   ]
  },
  {
   "cell_type": "markdown",
   "metadata": {},
   "source": [
    "##### Data Validation without Pydantic & with Pydantic"
   ]
  },
  {
   "cell_type": "code",
   "execution_count": 4,
   "metadata": {},
   "outputs": [
    {
     "name": "stdout",
     "output_type": "stream",
     "text": [
      "Expected id to be an int, got str\n"
     ]
    }
   ],
   "source": [
    "# Data Validation without pydantic\n",
    "class User:\n",
    "    def __init__(self,id:int,name=\"Hrishikesh Kothawade\"):\n",
    "        if not isinstance(id,int):\n",
    "            raise TypeError(f\"Expected id to be an int, got {type(id).__name__}\")\n",
    "        if not isinstance(name,str):\n",
    "            raise TypeError(f\"Expected name to be an str, got {type(name).__name__}\")\n",
    "        \n",
    "        self.id = id\n",
    "        self.name = name\n",
    "        \n",
    "try:\n",
    "    user = User(id=\"123\")\n",
    "except TypeError as te:\n",
    "    print(te)"
   ]
  },
  {
   "cell_type": "code",
   "execution_count": null,
   "metadata": {},
   "outputs": [],
   "source": [
    "# Data Validation with pydantic\n",
    "class User(BaseModel):\n",
    "    id:int\n",
    "    name:str=\"Hrishikesh Kothawade\"\n",
    "    \n",
    "# If I put string as a id then, pydantic will try to convert it into integer, if not possible then raises an error\n",
    "user = User(id='123')\n",
    "print(user.id)\n",
    "\n",
    "# Unable to parse the \n",
    "user2 = User(id='Hrishikesh Kothawade')\n",
    "print(user2.id)"
   ]
  },
  {
   "cell_type": "code",
   "execution_count": 13,
   "metadata": {},
   "outputs": [
    {
     "name": "stdout",
     "output_type": "stream",
     "text": [
      "{'id'}\n",
      "{'id', 'name'}\n"
     ]
    }
   ],
   "source": [
    "# printing the model_field_set\n",
    "print(user.model_fields_set)\n",
    "user=User(id='123',name=\"Hrishikesh\")\n",
    "print(user.model_fields_set)"
   ]
  },
  {
   "cell_type": "code",
   "execution_count": 15,
   "metadata": {},
   "outputs": [
    {
     "name": "stdout",
     "output_type": "stream",
     "text": [
      "{'id': 123, 'name': 'Hrishikesh'}\n",
      "{\"id\":123,\"name\":\"Hrishikesh\"}\n",
      "{'properties': {'id': {'title': 'Id', 'type': 'integer'}, 'name': {'default': 'Hrishikesh Kothawade', 'title': 'Name', 'type': 'string'}}, 'required': ['id'], 'title': 'User', 'type': 'object'}\n"
     ]
    }
   ],
   "source": [
    "# dump the arguments into structure format\n",
    "# Generate a dictionary representation of the model, optionally specifying which fields to include or exclude.\n",
    "print(user.model_dump())\n",
    "\n",
    "# Convert into json format\n",
    "print(user.model_dump_json())\n",
    "\n",
    "# Convert into json schema format\n",
    "print(user.model_json_schema())"
   ]
  },
  {
   "cell_type": "markdown",
   "metadata": {},
   "source": [
    "##### Nessted models"
   ]
  },
  {
   "cell_type": "code",
   "execution_count": 19,
   "metadata": {},
   "outputs": [
    {
     "name": "stdout",
     "output_type": "stream",
     "text": [
      "name='Tasty Burger' location='123, high street' foods=[Food(name='Cheese Pizza', price=12.5, ingredients=['Cheese', 'Tomato Sauce', 'Dough']), Food(name='Veggie Burger', price=8.99, ingredients=None)]\n",
      "{'name': 'Tasty Burger', 'location': '123, high street', 'foods': [{'name': 'Cheese Pizza', 'price': 12.5, 'ingredients': ['Cheese', 'Tomato Sauce', 'Dough']}, {'name': 'Veggie Burger', 'price': 8.99, 'ingredients': None}]}\n"
     ]
    }
   ],
   "source": [
    "class Food(BaseModel):\n",
    "    name:str\n",
    "    price:float\n",
    "    ingredients:Optional[List[str]] = None\n",
    "    \n",
    "class Restaurant(BaseModel):\n",
    "    name:str\n",
    "    location:str\n",
    "    foods: List[Food]\n",
    "    \n",
    "    \n",
    "restaurant_instance =  Restaurant(\n",
    "    name=\"Tasty Burger\",\n",
    "    location=\"123, high street\",\n",
    "    foods=[\n",
    "        {\"name\":\"Cheese Pizza\",'price':12.50,\"ingredients\":[\"Cheese\",\"Tomato Sauce\",\"Dough\"]},\n",
    "        {\"name\":\"Veggie Burger\",\"price\":8.99}\n",
    "    ]\n",
    ")\n",
    "\n",
    "# instance information\n",
    "print(restaurant_instance)\n",
    "\n",
    "# Information in specific format\n",
    "print(restaurant_instance.model_dump())"
   ]
  },
  {
   "cell_type": "markdown",
   "metadata": {},
   "source": [
    "##### Additional Parsers"
   ]
  },
  {
   "cell_type": "code",
   "execution_count": 22,
   "metadata": {},
   "outputs": [],
   "source": [
    "class Address(BaseModel):\n",
    "    street:str\n",
    "    city:str\n",
    "    zip_code:str\n",
    "    state:str\n",
    "    \n",
    "class Employee(BaseModel):\n",
    "    name:str\n",
    "    position:str\n",
    "    email:EmailStr\n",
    "    \n",
    "class Owner(BaseModel):\n",
    "    name:str\n",
    "    email:EmailStr\n",
    "    \n",
    "class Restaurant(BaseModel):\n",
    "    # ... -> tells us that its required property\n",
    "    name:str = Field(..., pattern=r\"^[a-zA-Z0-9-' ]+$\")\n",
    "    owner:Owner\n",
    "    address:Address\n",
    "    employees:conlist(Employee,min_length=2)\n",
    "    number_of_seats:PositiveInt\n",
    "    delivery: bool\n",
    "    website: HttpUrl\n"
   ]
  },
  {
   "cell_type": "code",
   "execution_count": 26,
   "metadata": {},
   "outputs": [
    {
     "name": "stdout",
     "output_type": "stream",
     "text": [
      "name='Tasty Bites' owner=Owner(name='Hrishikesh Kothawade', email='hrishikesh.kothawade@hrtech.com') address=Address(street='123, Flavour Street', city='Tastytown', zip_code='424001', state='MH') employees=[Employee(name='hrishikesh', position='CEO', email='hrishikesh.kothawade@hrtech.com'), Employee(name='sachin', position='CFO', email='sachin.kukriti@hrtech.com'), Employee(name='Banchoddas', position='COO', email='banshoddas.chanchad@hrtech.com')] number_of_seats=120 delivery=True website=HttpUrl('https://hrtech.com/')\n"
     ]
    }
   ],
   "source": [
    "# Create instance of restaurant class\n",
    "restaurant_instance = Restaurant(\n",
    "    name=\"Tasty Bites\",\n",
    "    owner={\n",
    "        \"name\":\"Hrishikesh Kothawade\",\n",
    "        \"email\":\"hrishikesh.kothawade@hrtech.com\"\n",
    "    },\n",
    "    address={\n",
    "        \"street\":\"123, Flavour Street\",\n",
    "        \"city\":\"Tastytown\",\n",
    "        \"state\":\"MH\",\n",
    "        \"zip_code\":'424001'\n",
    "    },\n",
    "    employees=[\n",
    "        {\n",
    "        \"name\":\"hrishikesh\",\n",
    "        \"position\":\"CEO\",\n",
    "        \"email\":\"hrishikesh.kothawade@hrtech.com\"\n",
    "         },\n",
    "        {\n",
    "        \"name\":\"sachin\",\n",
    "        \"position\":\"CFO\",\n",
    "        \"email\":\"sachin.kukriti@hrtech.com\"\n",
    "         },\n",
    "        {\n",
    "        \"name\":\"Banchoddas\",\n",
    "        \"position\":\"COO\",\n",
    "        \"email\":\"banshoddas.chanchad@hrtech.com\"\n",
    "         }\n",
    "    ],\n",
    "    number_of_seats=120,\n",
    "    delivery=True,\n",
    "    website=\"https://hrtech.com\"\n",
    ")\n",
    "print(restaurant_instance)\n"
   ]
  },
  {
   "cell_type": "markdown",
   "metadata": {},
   "source": [
    "##### Field Validators"
   ]
  },
  {
   "cell_type": "code",
   "execution_count": 39,
   "metadata": {},
   "outputs": [],
   "source": [
    "class Owner(BaseModel):\n",
    "    name:str\n",
    "    email:EmailStr\n",
    "    \n",
    "    # We mention 'name' in field_validator\n",
    "    @field_validator('name')\n",
    "    @classmethod\n",
    "    def name_must_contain_space(cls,v:str) -> str:\n",
    "        if ' ' not in v:\n",
    "            raise ValueError(\"Owner name must contains space\")\n",
    "        return v.title()\n",
    "    \n",
    "try:\n",
    "    owner_instance = Owner(name=\"hrishikesh Kothawade\", email=\"hrishikesh.kothawade@hrtech.com\")\n",
    "except ValueError as e:\n",
    "    print(e)\n",
    "# Owner(name=\"HrishikeshKothawade\",email=\"hrishikesh.kothawade@hrtech.com\")"
   ]
  },
  {
   "cell_type": "code",
   "execution_count": 41,
   "metadata": {},
   "outputs": [
    {
     "name": "stdout",
     "output_type": "stream",
     "text": [
      "name='Hrishikesh Kothawade' email='hrishikesh.kothawade@hrtech.com'\n"
     ]
    },
    {
     "data": {
      "text/plain": [
       "'Hrishikesh Kothawade'"
      ]
     },
     "execution_count": 41,
     "metadata": {},
     "output_type": "execute_result"
    }
   ],
   "source": [
    "print(owner_instance)\n",
    "# .title() makes it like title\n",
    "owner_instance.name"
   ]
  },
  {
   "cell_type": "markdown",
   "metadata": {},
   "source": [
    "##### Model Validators"
   ]
  },
  {
   "cell_type": "code",
   "execution_count": 49,
   "metadata": {},
   "outputs": [
    {
     "name": "stdout",
     "output_type": "stream",
     "text": [
      "name='Hrishikesh Kothawade' email='hrishikesh.kothawade@hrtech.com'\n"
     ]
    }
   ],
   "source": [
    "class Owner(BaseModel):\n",
    "    name:str\n",
    "    email:EmailStr\n",
    "    \n",
    "    @model_validator(mode=\"before\")\n",
    "    @classmethod\n",
    "    def check_sensitive_info_omitted(cls,data:Any) -> Any:\n",
    "        if isinstance(data,dict):\n",
    "            if 'password' in data:\n",
    "                raise ValueError('password should not be included')\n",
    "            if 'card_number' in data:\n",
    "                raise ValueError(\"card_number should not be included\")\n",
    "        return data\n",
    "    \n",
    "    @model_validator(mode=\"after\")  \n",
    "    def check_name_contains_space(self) -> Owner:\n",
    "        if ' ' not in self.name:\n",
    "            raise ValueError(\"Owner name must contains space\")\n",
    "        return self\n",
    "    \n",
    "print(Owner(name=\"Hrishikesh Kothawade\",email=\"hrishikesh.kothawade@hrtech.com\"))\n",
    "\n",
    "   \n",
    "    "
   ]
  },
  {
   "cell_type": "code",
   "execution_count": 50,
   "metadata": {},
   "outputs": [
    {
     "name": "stdout",
     "output_type": "stream",
     "text": [
      "1 validation error for Owner\n",
      "  Value error, password should not be included [type=value_error, input_value={'name': 123, 'email': 'h...assword': 'password123'}, input_type=dict]\n",
      "    For further information visit https://errors.pydantic.dev/2.10/v/value_error\n"
     ]
    }
   ],
   "source": [
    "try:\n",
    "    Owner(name=123,email=\"hrishikesh.kothawade@hrtech.com\",password=\"password123\")\n",
    "except Exception as e:\n",
    "    print(e) "
   ]
  },
  {
   "cell_type": "code",
   "execution_count": null,
   "metadata": {},
   "outputs": [],
   "source": []
  }
 ],
 "metadata": {
  "kernelspec": {
   "display_name": "env_phidata_agents",
   "language": "python",
   "name": "python3"
  },
  "language_info": {
   "codemirror_mode": {
    "name": "ipython",
    "version": 3
   },
   "file_extension": ".py",
   "mimetype": "text/x-python",
   "name": "python",
   "nbconvert_exporter": "python",
   "pygments_lexer": "ipython3",
   "version": "3.11.11"
  }
 },
 "nbformat": 4,
 "nbformat_minor": 2
}
