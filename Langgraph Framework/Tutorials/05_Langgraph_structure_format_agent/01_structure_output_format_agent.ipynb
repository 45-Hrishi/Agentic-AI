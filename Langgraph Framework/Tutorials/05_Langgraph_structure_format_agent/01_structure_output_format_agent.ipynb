{
 "cells": [
  {
   "cell_type": "markdown",
   "metadata": {},
   "source": [
    "##### Structure Output Format"
   ]
  },
  {
   "cell_type": "markdown",
   "metadata": {},
   "source": [
    "**A Structured Output Agent in LangChain (or other LLM frameworks) refers to an agent that produces responses in a specific structured format, such as JSON, dictionaries, or other structured data types. These agents are particularly useful when you want to ensure that your responses conform to a defined schema, making it easier to parse, validate, and utilize in downstream applications.**\n",
    "\n",
    "**Why Use a Structured Output Agent?**\n",
    "\n",
    "Controlled Responses: Ensures that the outputs follow a specific format, reducing ambiguity.\n",
    "Data Validation: Useful when you want the model output to fit predefined structures, like for APIs or database entries.\n",
    "Automation: Makes integration with systems like dashboards, ETL pipelines, or business workflows easier."
   ]
  },
  {
   "cell_type": "code",
   "execution_count": 18,
   "metadata": {},
   "outputs": [
    {
     "data": {
      "text/plain": [
       "True"
      ]
     },
     "execution_count": 18,
     "metadata": {},
     "output_type": "execute_result"
    }
   ],
   "source": [
    "# Importing neccessary libraries and packages\n",
    "import os\n",
    "from dotenv import load_dotenv\n",
    "from langchain_community.tools import TavilySearchResults\n",
    "from langchain_core.tools import tool\n",
    "from pydantic import BaseModel, Field\n",
    "from langgraph.graph import Graph,StateGraph,MessagesState,END\n",
    "from langgraph.checkpoint import memory\n",
    "from langgraph.prebuilt import ToolNode\n",
    "from langchain_core.messages import HumanMessage\n",
    "from langchain.prompts import PromptTemplate\n",
    "from langchain_groq import ChatGroq\n",
    "load_dotenv()"
   ]
  },
  {
   "cell_type": "code",
   "execution_count": 6,
   "metadata": {},
   "outputs": [],
   "source": [
    "# Setting the environment variables\n",
    "os.environ[\"HUGGINGFACEHUB_API_TOKEN\"] = os.getenv(\"HUGGINGFACEHUB_API_TOKEN\")\n",
    "os.environ[\"GROQ_API_KEY\"] = os.getenv(\"GROQ_API_KEY\")\n",
    "os.environ[\"MISTRAL_API_KEY\"] = os.getenv(\"MISTRAL_API_KEY\")\n",
    "os.environ[\"TAVILY_API_KEY\"] = os.getenv(\"TAVILY_API_KEY\")"
   ]
  },
  {
   "cell_type": "code",
   "execution_count": 60,
   "metadata": {},
   "outputs": [],
   "source": [
    "# Initializing the LLM model\n",
    "llm = ChatGroq(model=\"llama-3.3-70b-versatile\",temperature=0)\n",
    "llm=ChatGroq(model_name=\"Gemma2-9b-It\")"
   ]
  },
  {
   "cell_type": "code",
   "execution_count": 95,
   "metadata": {},
   "outputs": [],
   "source": [
    "# defining the schema for the output\n",
    "class CityDetails(BaseModel):\n",
    "    \"\"\"Respond to the user with this\"\"\"\n",
    "    state_name:str = Field(description=\"State name of the city\")\n",
    "    state_capital:str = Field(description=\"State capital name of the city\")\n",
    "    counry_name:str = Field(description=\"Country name of the city\")\n",
    "    country_capital:str = Field(description=\"Country capital of the city\")"
   ]
  },
  {
   "cell_type": "code",
   "execution_count": 105,
   "metadata": {},
   "outputs": [],
   "source": [
    "# Defining the agentstate\n",
    "# list of messages which should follow the CityDetails schema\n",
    "class AgentState(MessagesState):\n",
    "    final_response : CityDetails"
   ]
  },
  {
   "cell_type": "code",
   "execution_count": 106,
   "metadata": {},
   "outputs": [],
   "source": [
    "# Tools\n",
    "\n",
    "# get the city details based on given prompt\n",
    "@tool\n",
    "def get_city_details(prompt):\n",
    "    \"Should do a web search to find the required city details\"\n",
    "    print(\"step from the tool get city details\")\n",
    "    travily_tool = TavilySearchResults()\n",
    "    response = travily_tool.invoke(prompt)\n",
    "    return response\n",
    "\n",
    "\n",
    "# Bind the tools with llm and LLM will decide call the LLM or tool\n",
    "tools = [get_city_details]\n",
    "llm_with_tool = llm.bind_tools(tools)"
   ]
  },
  {
   "cell_type": "code",
   "execution_count": 98,
   "metadata": {},
   "outputs": [],
   "source": [
    "# model with strcutured output\n",
    "llm_with_structure_output = llm.with_structured_output(CityDetails)"
   ]
  },
  {
   "cell_type": "code",
   "execution_count": 134,
   "metadata": {},
   "outputs": [],
   "source": [
    "# LLM / Agent\n",
    "def call_model(state:AgentState):\n",
    "    print(f\" This is 1st step input from call model {state}\")\n",
    "    response = llm_with_tool.invoke(state['messages'])\n",
    "    print(f\"This is 2nd step response from call model  {response}\")\n",
    "    # We return a list, because this will get added to the existing list\n",
    "    return {\"messages\": [response]}\n",
    "\n",
    "# Router\n",
    "def should_continue(state: AgentState):\n",
    "    messages = state[\"messages\"]\n",
    "    last_message = messages[-1]\n",
    "    \n",
    "    # If there is no function call, then we respond to the user\n",
    "    if not last_message.tool_calls:\n",
    "        return \"respond\"\n",
    "    # Otherwise if there is, we continue with the tool\n",
    "    else:\n",
    "        return \"continue\"\n",
    "    \n",
    "\n",
    "# Respond\n",
    "def respond(state: AgentState):\n",
    "    print(f\"This is 03rd step state from respond {state}\")\n",
    "    # messages = state['messages']\n",
    "    \n",
    "    # for msg in messages:\n",
    "    #     print(\"Message : \",msg)\n",
    "        \n",
    "    response = llm_with_structure_output.invoke([HumanMessage(content=state['messages'][-1].content)])\n",
    "    # We return the final answer\n",
    "    print(f\"This is 04th response from respond {response}\")\n",
    "    return {'final_response':response}"
   ]
  },
  {
   "cell_type": "code",
   "execution_count": 135,
   "metadata": {},
   "outputs": [],
   "source": [
    "# Build the workflow \n",
    "workflow = StateGraph(AgentState)\n",
    "\n",
    "# Addition of nodes \n",
    "workflow.add_node(\"LLM\",call_model)\n",
    "workflow.add_node(\"Tool\",ToolNode(tools))\n",
    "workflow.add_node(\"respond\",respond)\n",
    "\n",
    "# Addition of edges\n",
    "workflow.add_conditional_edges(\n",
    "    \"LLM\",\n",
    "    should_continue,\n",
    "    {\n",
    "        \"continue\":\"Tool\",\n",
    "        \"respond\":\"respond\"\n",
    "    },\n",
    ")\n",
    "\n",
    "workflow.set_entry_point(\"LLM\")\n",
    "workflow.add_edge(\"Tool\",\"LLM\")\n",
    "workflow.add_edge(\"respond\", END)\n",
    "app = workflow.compile()\n",
    "# app"
   ]
  },
  {
   "cell_type": "code",
   "execution_count": 136,
   "metadata": {},
   "outputs": [
    {
     "data": {
      "image/png": "[encoded data removed]",
      "text/plain": [
       "<langgraph.graph.state.CompiledStateGraph object at 0x0000022AE2CA24D0>"
      ]
     },
     "execution_count": 136,
     "metadata": {},
     "output_type": "execute_result"
    }
   ],
   "source": [
    "app"
   ]
  },
  {
   "cell_type": "code",
   "execution_count": 137,
   "metadata": {},
   "outputs": [
    {
     "name": "stdout",
     "output_type": "stream",
     "text": [
      " This is 1st step input from call model {'messages': [HumanMessage(content='Tell me about the city details for gwalior?', additional_kwargs={}, response_metadata={}, id='da3cdc78-dc2e-4143-9750-6de95c6efae8')]}\n",
      "This is 2nd step response from call model  content='' additional_kwargs={'tool_calls': [{'id': 'call_jg9p', 'function': {'arguments': '{\"prompt\":\"gwalior\"}', 'name': 'get_city_details'}, 'type': 'function'}]} response_metadata={'token_usage': {'completion_tokens': 86, 'prompt_tokens': 946, 'total_tokens': 1032, 'completion_time': 0.156363636, 'prompt_time': 0.030092786, 'queue_time': 0.023390864, 'total_time': 0.186456422}, 'model_name': 'Gemma2-9b-It', 'system_fingerprint': 'fp_10c08bf97d', 'finish_reason': 'tool_calls', 'logprobs': None} id='run-b9f06e44-ea83-4c42-835a-5647980e2a67-0' tool_calls=[{'name': 'get_city_details', 'args': {'prompt': 'gwalior'}, 'id': 'call_jg9p', 'type': 'tool_call'}] usage_metadata={'input_tokens': 946, 'output_tokens': 86, 'total_tokens': 1032}\n",
      "step from the tool get city details\n",
      " This is 1st step input from call model {'messages': [HumanMessage(content='Tell me about the city details for gwalior?', additional_kwargs={}, response_metadata={}, id='da3cdc78-dc2e-4143-9750-6de95c6efae8'), AIMessage(content='', additional_kwargs={'tool_calls': [{'id': 'call_jg9p', 'function': {'arguments': '{\"prompt\":\"gwalior\"}', 'name': 'get_city_details'}, 'type': 'function'}]}, response_metadata={'token_usage': {'completion_tokens': 86, 'prompt_tokens': 946, 'total_tokens': 1032, 'completion_time': 0.156363636, 'prompt_time': 0.030092786, 'queue_time': 0.023390864, 'total_time': 0.186456422}, 'model_name': 'Gemma2-9b-It', 'system_fingerprint': 'fp_10c08bf97d', 'finish_reason': 'tool_calls', 'logprobs': None}, id='run-b9f06e44-ea83-4c42-835a-5647980e2a67-0', tool_calls=[{'name': 'get_city_details', 'args': {'prompt': 'gwalior'}, 'id': 'call_jg9p', 'type': 'tool_call'}], usage_metadata={'input_tokens': 946, 'output_tokens': 86, 'total_tokens': 1032}), ToolMessage(content='[{\"url\": \"https://en.wikipedia.org/wiki/Gwalior\", \"content\": \"Gwalior (Hindi: IPA: [ɡʋɑːlɪjəɾ], pronunciation ⓘ) is a major city in the central Indian state of Madhya Pradesh; It is known as the City of Music of India [5] having oldest musical gharana in existence. It is a major sports, cultural, industrial, and political centre in Madhya Pradesh. Gwalior is among the seven cities selected for new startup centres under India\\'s growing innovation\"}, {\"url\": \"https://www.britannica.com/place/Gwalior-India\", \"content\": \"Gwalior, city, northern Madhya Pradesh state, central India. It is situated about 75 miles (120 km) south of Agra. Gwalior is a cultural, industrial, and political centre and takes its name from the historic rock fortress that forms the centre of the city. It has been referred to as Gopa Parvat,\"}, {\"url\": \"https://www.india.com/travel/gwalior/\", \"content\": \"Gwalior Gwalior has always been loved and visited by tourists for their stunning forts and intricate palaces that were at some point ruled by rulers of different era like the Mughals and in fact even the Tomars. Because Gwalior is so rich historically many tourists visit this city of forts and places for the architecture of the magnificent monuments that were built here. Gwalior Fort Gwalior is one of the most popular tourist places of Madhya Pradesh and hence the town is well connected to every major city of India like Delhi, Jaipur and also Mumbai. When in Gwalior, to make the most of your stay in this historical town, make sure that you opt for accommodation in the heart of the city so that all the major attractions are situated closely to your hotel. Forts in Gwalior\"}, {\"url\": \"https://www.thrillophilia.com/places-to-visit-in-gwalior\", \"content\": \"Explore the historic and cultural attractions of Gwalior, a regal town in Madhya Pradesh. Discover the Gwalior fort, Saas Bahu temple, Jai Vilas palace, and more with photos, reviews, and tips.\"}, {\"url\": \"https://www.mptourism.com/destination-gwalior.php\", \"content\": \"Gwalior is a significant railway station that is governed by the Jhansi Rail Division. By Road. The roads leading to Gwalior are very good in terms of connectivity. All of Madhya Pradesh\\'s major towns and the surrounding regions are connected to the location. Chanderi is located 239 kilometres, Lucknow and Bhopal are both only 423 kilometres\"}]', name='get_city_details', id='fd90e4c4-ef25-486b-91db-28796019e0e4', tool_call_id='call_jg9p')]}\n",
      "This is 2nd step response from call model  content='Gwalior is a major city in the central Indian state of Madhya Pradesh. It is known as the City of Music of India and is a major sports, cultural, industrial, and political center. \\n\\n\\n' additional_kwargs={} response_metadata={'token_usage': {'completion_tokens': 44, 'prompt_tokens': 1601, 'total_tokens': 1645, 'completion_time': 0.08, 'prompt_time': 0.070392378, 'queue_time': 0.02163101699999999, 'total_time': 0.150392378}, 'model_name': 'Gemma2-9b-It', 'system_fingerprint': 'fp_10c08bf97d', 'finish_reason': 'stop', 'logprobs': None} id='run-263e89fa-2346-4701-810e-63c4985f658b-0' usage_metadata={'input_tokens': 1601, 'output_tokens': 44, 'total_tokens': 1645}\n",
      "This is 03rd step state from respond {'messages': [HumanMessage(content='Tell me about the city details for gwalior?', additional_kwargs={}, response_metadata={}, id='da3cdc78-dc2e-4143-9750-6de95c6efae8'), AIMessage(content='', additional_kwargs={'tool_calls': [{'id': 'call_jg9p', 'function': {'arguments': '{\"prompt\":\"gwalior\"}', 'name': 'get_city_details'}, 'type': 'function'}]}, response_metadata={'token_usage': {'completion_tokens': 86, 'prompt_tokens': 946, 'total_tokens': 1032, 'completion_time': 0.156363636, 'prompt_time': 0.030092786, 'queue_time': 0.023390864, 'total_time': 0.186456422}, 'model_name': 'Gemma2-9b-It', 'system_fingerprint': 'fp_10c08bf97d', 'finish_reason': 'tool_calls', 'logprobs': None}, id='run-b9f06e44-ea83-4c42-835a-5647980e2a67-0', tool_calls=[{'name': 'get_city_details', 'args': {'prompt': 'gwalior'}, 'id': 'call_jg9p', 'type': 'tool_call'}], usage_metadata={'input_tokens': 946, 'output_tokens': 86, 'total_tokens': 1032}), ToolMessage(content='[{\"url\": \"https://en.wikipedia.org/wiki/Gwalior\", \"content\": \"Gwalior (Hindi: IPA: [ɡʋɑːlɪjəɾ], pronunciation ⓘ) is a major city in the central Indian state of Madhya Pradesh; It is known as the City of Music of India [5] having oldest musical gharana in existence. It is a major sports, cultural, industrial, and political centre in Madhya Pradesh. Gwalior is among the seven cities selected for new startup centres under India\\'s growing innovation\"}, {\"url\": \"https://www.britannica.com/place/Gwalior-India\", \"content\": \"Gwalior, city, northern Madhya Pradesh state, central India. It is situated about 75 miles (120 km) south of Agra. Gwalior is a cultural, industrial, and political centre and takes its name from the historic rock fortress that forms the centre of the city. It has been referred to as Gopa Parvat,\"}, {\"url\": \"https://www.india.com/travel/gwalior/\", \"content\": \"Gwalior Gwalior has always been loved and visited by tourists for their stunning forts and intricate palaces that were at some point ruled by rulers of different era like the Mughals and in fact even the Tomars. Because Gwalior is so rich historically many tourists visit this city of forts and places for the architecture of the magnificent monuments that were built here. Gwalior Fort Gwalior is one of the most popular tourist places of Madhya Pradesh and hence the town is well connected to every major city of India like Delhi, Jaipur and also Mumbai. When in Gwalior, to make the most of your stay in this historical town, make sure that you opt for accommodation in the heart of the city so that all the major attractions are situated closely to your hotel. Forts in Gwalior\"}, {\"url\": \"https://www.thrillophilia.com/places-to-visit-in-gwalior\", \"content\": \"Explore the historic and cultural attractions of Gwalior, a regal town in Madhya Pradesh. Discover the Gwalior fort, Saas Bahu temple, Jai Vilas palace, and more with photos, reviews, and tips.\"}, {\"url\": \"https://www.mptourism.com/destination-gwalior.php\", \"content\": \"Gwalior is a significant railway station that is governed by the Jhansi Rail Division. By Road. The roads leading to Gwalior are very good in terms of connectivity. All of Madhya Pradesh\\'s major towns and the surrounding regions are connected to the location. Chanderi is located 239 kilometres, Lucknow and Bhopal are both only 423 kilometres\"}]', name='get_city_details', id='fd90e4c4-ef25-486b-91db-28796019e0e4', tool_call_id='call_jg9p'), AIMessage(content='Gwalior is a major city in the central Indian state of Madhya Pradesh. It is known as the City of Music of India and is a major sports, cultural, industrial, and political center. \\n\\n\\n', additional_kwargs={}, response_metadata={'token_usage': {'completion_tokens': 44, 'prompt_tokens': 1601, 'total_tokens': 1645, 'completion_time': 0.08, 'prompt_time': 0.070392378, 'queue_time': 0.02163101699999999, 'total_time': 0.150392378}, 'model_name': 'Gemma2-9b-It', 'system_fingerprint': 'fp_10c08bf97d', 'finish_reason': 'stop', 'logprobs': None}, id='run-263e89fa-2346-4701-810e-63c4985f658b-0', usage_metadata={'input_tokens': 1601, 'output_tokens': 44, 'total_tokens': 1645})]}\n",
      "Message :  content='Tell me about the city details for gwalior?' additional_kwargs={} response_metadata={} id='da3cdc78-dc2e-4143-9750-6de95c6efae8'\n",
      "Message :  content='' additional_kwargs={'tool_calls': [{'id': 'call_jg9p', 'function': {'arguments': '{\"prompt\":\"gwalior\"}', 'name': 'get_city_details'}, 'type': 'function'}]} response_metadata={'token_usage': {'completion_tokens': 86, 'prompt_tokens': 946, 'total_tokens': 1032, 'completion_time': 0.156363636, 'prompt_time': 0.030092786, 'queue_time': 0.023390864, 'total_time': 0.186456422}, 'model_name': 'Gemma2-9b-It', 'system_fingerprint': 'fp_10c08bf97d', 'finish_reason': 'tool_calls', 'logprobs': None} id='run-b9f06e44-ea83-4c42-835a-5647980e2a67-0' tool_calls=[{'name': 'get_city_details', 'args': {'prompt': 'gwalior'}, 'id': 'call_jg9p', 'type': 'tool_call'}] usage_metadata={'input_tokens': 946, 'output_tokens': 86, 'total_tokens': 1032}\n",
      "Message :  content='[{\"url\": \"https://en.wikipedia.org/wiki/Gwalior\", \"content\": \"Gwalior (Hindi: IPA: [ɡʋɑːlɪjəɾ], pronunciation ⓘ) is a major city in the central Indian state of Madhya Pradesh; It is known as the City of Music of India [5] having oldest musical gharana in existence. It is a major sports, cultural, industrial, and political centre in Madhya Pradesh. Gwalior is among the seven cities selected for new startup centres under India\\'s growing innovation\"}, {\"url\": \"https://www.britannica.com/place/Gwalior-India\", \"content\": \"Gwalior, city, northern Madhya Pradesh state, central India. It is situated about 75 miles (120 km) south of Agra. Gwalior is a cultural, industrial, and political centre and takes its name from the historic rock fortress that forms the centre of the city. It has been referred to as Gopa Parvat,\"}, {\"url\": \"https://www.india.com/travel/gwalior/\", \"content\": \"Gwalior Gwalior has always been loved and visited by tourists for their stunning forts and intricate palaces that were at some point ruled by rulers of different era like the Mughals and in fact even the Tomars. Because Gwalior is so rich historically many tourists visit this city of forts and places for the architecture of the magnificent monuments that were built here. Gwalior Fort Gwalior is one of the most popular tourist places of Madhya Pradesh and hence the town is well connected to every major city of India like Delhi, Jaipur and also Mumbai. When in Gwalior, to make the most of your stay in this historical town, make sure that you opt for accommodation in the heart of the city so that all the major attractions are situated closely to your hotel. Forts in Gwalior\"}, {\"url\": \"https://www.thrillophilia.com/places-to-visit-in-gwalior\", \"content\": \"Explore the historic and cultural attractions of Gwalior, a regal town in Madhya Pradesh. Discover the Gwalior fort, Saas Bahu temple, Jai Vilas palace, and more with photos, reviews, and tips.\"}, {\"url\": \"https://www.mptourism.com/destination-gwalior.php\", \"content\": \"Gwalior is a significant railway station that is governed by the Jhansi Rail Division. By Road. The roads leading to Gwalior are very good in terms of connectivity. All of Madhya Pradesh\\'s major towns and the surrounding regions are connected to the location. Chanderi is located 239 kilometres, Lucknow and Bhopal are both only 423 kilometres\"}]' name='get_city_details' id='fd90e4c4-ef25-486b-91db-28796019e0e4' tool_call_id='call_jg9p'\n",
      "Message :  content='Gwalior is a major city in the central Indian state of Madhya Pradesh. It is known as the City of Music of India and is a major sports, cultural, industrial, and political center. \\n\\n\\n' additional_kwargs={} response_metadata={'token_usage': {'completion_tokens': 44, 'prompt_tokens': 1601, 'total_tokens': 1645, 'completion_time': 0.08, 'prompt_time': 0.070392378, 'queue_time': 0.02163101699999999, 'total_time': 0.150392378}, 'model_name': 'Gemma2-9b-It', 'system_fingerprint': 'fp_10c08bf97d', 'finish_reason': 'stop', 'logprobs': None} id='run-263e89fa-2346-4701-810e-63c4985f658b-0' usage_metadata={'input_tokens': 1601, 'output_tokens': 44, 'total_tokens': 1645}\n",
      "This is 04th response from respond state_name='Madhya Pradesh' state_capital='Bhopal' counry_name='India' country_capital='New Delhi'\n"
     ]
    }
   ],
   "source": [
    "answer = app.invoke(input={\"messages\": [\"Tell me about the city details for gwalior?\"]})"
   ]
  },
  {
   "cell_type": "code",
   "execution_count": 138,
   "metadata": {},
   "outputs": [
    {
     "data": {
      "text/plain": [
       "CityDetails(state_name='Madhya Pradesh', state_capital='Bhopal', counry_name='India', country_capital='New Delhi')"
      ]
     },
     "execution_count": 138,
     "metadata": {},
     "output_type": "execute_result"
    }
   ],
   "source": [
    "answer['final_response']"
   ]
  },
  {
   "cell_type": "code",
   "execution_count": 139,
   "metadata": {},
   "outputs": [],
   "source": [
    "# Complete flow of the graph\n",
    "# LLM -> decides(toolcall or not) --> If tool call --> (tool) --> again call LLM --> get response --> pass to respond for strcutured output"
   ]
  },
  {
   "cell_type": "code",
   "execution_count": null,
   "metadata": {},
   "outputs": [],
   "source": []
  },
  {
   "cell_type": "code",
   "execution_count": null,
   "metadata": {},
   "outputs": [],
   "source": []
  }
 ],
 "metadata": {
  "kernelspec": {
   "display_name": "env_phidata_agents",
   "language": "python",
   "name": "python3"
  },
  "language_info": {
   "codemirror_mode": {
    "name": "ipython",
    "version": 3
   },
   "file_extension": ".py",
   "mimetype": "text/x-python",
   "name": "python",
   "nbconvert_exporter": "python",
   "pygments_lexer": "ipython3",
   "version": "3.11.11"
  }
 },
 "nbformat": 4,
 "nbformat_minor": 2
}
