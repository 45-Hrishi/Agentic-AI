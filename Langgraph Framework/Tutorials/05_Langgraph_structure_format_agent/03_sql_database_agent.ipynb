{
 "cells": [
  {
   "cell_type": "code",
   "execution_count": 2,
   "metadata": {},
   "outputs": [
    {
     "name": "stderr",
     "output_type": "stream",
     "text": [
      "C:\\Users\\admin\\AppData\\Roaming\\Python\\Python311\\site-packages\\IPython\\core\\interactiveshell.py:3508: LangChainDeprecationWarning: As of langchain-core 0.3.0, LangChain uses pydantic v2 internally. The langchain_core.pydantic_v1 module was a compatibility shim for pydantic v1, and should no longer be used. Please update the code to import from Pydantic directly.\n",
      "\n",
      "For example, replace imports like: `from langchain_core.pydantic_v1 import BaseModel`\n",
      "with: `from pydantic import BaseModel`\n",
      "or the v1 compatibility namespace if you are working in a code base that has not been fully upgraded to pydantic 2 yet. \tfrom pydantic.v1 import BaseModel\n",
      "\n",
      "  exec(code_obj, self.user_global_ns, self.user_ns)\n"
     ]
    },
    {
     "data": {
      "text/plain": [
       "True"
      ]
     },
     "execution_count": 2,
     "metadata": {},
     "output_type": "execute_result"
    }
   ],
   "source": [
    "# Import required libraries / packages\n",
    "from langchain_community.agent_toolkits import SQLDatabaseToolkit\n",
    "from langchain.utilities import SQLDatabase\n",
    "from langchain_groq import ChatGroq\n",
    "from langchain_core.tools import tool\n",
    "from langchain.prompts import PromptTemplate,ChatPromptTemplate\n",
    "import sqlite3\n",
    "from langchain_core.runnables import RunnablePassthrough,RunnableLambda\n",
    "from langchain import hub\n",
    "from typing import Annotated, Literal\n",
    "from langgraph.prebuilt import ToolNode\n",
    "from langchain_core.messages import AIMessage,ToolMessage\n",
    "from langchain_core.pydantic_v1 import BaseModel, Field\n",
    "from typing_extensions import TypedDict\n",
    "from langgraph.graph import END, StateGraph, START\n",
    "from langgraph.graph.message import AnyMessage, add_messages\n",
    "import os\n",
    "from dotenv import load_dotenv\n",
    "load_dotenv()"
   ]
  },
  {
   "cell_type": "code",
   "execution_count": 3,
   "metadata": {},
   "outputs": [],
   "source": [
    "# Initialized the environment variables\n",
    "os.environ[\"HUGGINGFACEHUB_API_TOKEN\"] = os.getenv(\"HUGGINGFACEHUB_API_TOKEN\")\n",
    "os.environ[\"GROQ_API_KEY\"] = os.getenv(\"GROQ_API_KEY\")\n",
    "os.environ[\"MISTRAL_API_KEY\"] = os.getenv(\"MISTRAL_API_KEY\")\n",
    "os.environ[\"TAVILY_API_KEY\"] = os.getenv(\"TAVILY_API_KEY\")"
   ]
  },
  {
   "cell_type": "markdown",
   "metadata": {},
   "source": [
    "##### Database Handling"
   ]
  },
  {
   "cell_type": "code",
   "execution_count": 3,
   "metadata": {},
   "outputs": [],
   "source": [
    "class Database:\n",
    "    def __init__(self,db_name):\n",
    "        self.db_name = db_name\n",
    "    \n",
    "    \n",
    "    def connect_to_db(self):\n",
    "        conn = sqlite3.connect(f'{self.db_name}')\n",
    "        return conn\n",
    "    \n",
    "    def create_table(self):\n",
    "        conn = self.connect_to_db()\n",
    "        cursor = conn.cursor()\n",
    "        \n",
    "        # Create candidates_table\n",
    "        cursor.execute('''\n",
    "        CREATE TABLE IF NOT EXISTS candidates_table (\n",
    "            cand_id TEXT PRIMARY KEY,\n",
    "            cand_name TEXT NOT NULL,\n",
    "            cand_skills TEXT NOT NULL,\n",
    "            cand_email TEXT NOT NULL,\n",
    "            job_id TEXT NOT NULL\n",
    "        )\n",
    "        ''')\n",
    "        print(\"Candidates table created\")\n",
    "        \n",
    "        # Create job_posting_table\n",
    "        cursor.execute('''\n",
    "        CREATE TABLE IF NOT EXISTS job_posting_table (\n",
    "            job_id TEXT PRIMARY KEY,\n",
    "            job_name TEXT NOT NULL,\n",
    "            job_location TEXT NOT NULL,\n",
    "            job_description TEXT NOT NULL\n",
    "        )\n",
    "        ''')\n",
    "        print(\"job postings table created\")\n",
    "        conn.commit()\n",
    "        conn.close()\n",
    "\n",
    "    def generate_id(self,prefix, table_name, column_name):\n",
    "        conn = self.connect_to_db()\n",
    "        cursor = conn.cursor()\n",
    "\n",
    "        # Fetch the latest ID from the table\n",
    "        cursor.execute(f\"SELECT {column_name} FROM {table_name} ORDER BY {column_name} DESC LIMIT 1\")\n",
    "        last_id = cursor.fetchone()\n",
    "\n",
    "        if last_id:\n",
    "            # Extract the numeric part, increment it, and format with leading zeros\n",
    "            numeric_part = int(last_id[0][len(prefix):])\n",
    "            new_id = f\"{prefix}{numeric_part + 1:05d}\"\n",
    "        else:\n",
    "            # Start from 1 if no ID exists\n",
    "            new_id = f\"{prefix}00001\"\n",
    "\n",
    "        conn.close()\n",
    "        return new_id\n",
    "    \n",
    "    def insert_candidate(self,cand_name, cand_skills, cand_email, job_id):\n",
    "        conn = self.connect_to_db()\n",
    "        cursor = conn.cursor()\n",
    "\n",
    "        # Generate new candidate ID\n",
    "        cand_id = self.generate_id(\"CAND\", \"candidates_table\", \"cand_id\")\n",
    "\n",
    "        # Insert data into candidates_table\n",
    "        cursor.execute('''\n",
    "        INSERT INTO candidates_table (cand_id, cand_name, cand_skills, cand_email, job_id)\n",
    "        VALUES (?, ?, ?, ?, ?)\n",
    "        ''', (cand_id, cand_name, cand_skills, cand_email, job_id))\n",
    "\n",
    "        conn.commit()\n",
    "        conn.close()\n",
    "\n",
    "        return cand_id\n",
    "\n",
    "    def insert_job(self,job_name, job_location, job_description):\n",
    "        conn = self.connect_to_db()\n",
    "        cursor = conn.cursor()\n",
    "\n",
    "        # Generate new job ID\n",
    "        job_id = self.generate_id(\"JOB\", \"job_posting_table\", \"job_id\")\n",
    "\n",
    "        # Insert data into job_posting_table\n",
    "        cursor.execute('''\n",
    "        INSERT INTO job_posting_table (job_id, job_name, job_location, job_description)\n",
    "        VALUES (?, ?, ?, ?)\n",
    "        ''', (job_id, job_name, job_location, job_description))\n",
    "\n",
    "        conn.commit()\n",
    "        conn.close()\n",
    "\n",
    "        return job_id"
   ]
  },
  {
   "cell_type": "code",
   "execution_count": 4,
   "metadata": {},
   "outputs": [
    {
     "name": "stdout",
     "output_type": "stream",
     "text": [
      "Candidates table created\n",
      "job postings table created\n",
      "CAND00008 JOB00009\n"
     ]
    }
   ],
   "source": [
    "db = Database(db_name='hrtech.db')\n",
    "db.create_table()\n",
    "job_id = db.insert_job(\"Software Engineer\", \"New York\", \"Develop and maintain software applications.\")\n",
    "cand_id = db.insert_candidate(\"John Doe\", \"Python, SQL, Machine Learning\", \"johndoe@example.com\", job_id)\n",
    "print(cand_id,job_id)"
   ]
  },
  {
   "cell_type": "code",
   "execution_count": 5,
   "metadata": {},
   "outputs": [],
   "source": [
    "job_1 = db.insert_job(\"Software Engineer\", \"New York\", \"Develop and maintain software applications.\")\n",
    "job_2 = db.insert_job(\"Data Scientist\", \"San Francisco\", \"Analyze large datasets and build predictive models.\")\n",
    "job_3 =db.insert_job(\"Frontend Developer\", \"Austin\", \"Create responsive user interfaces with React and CSS.\")\n",
    "job_4 =db.insert_job(\"Backend Developer\", \"Seattle\", \"Design and implement server-side logic with Node.js.\")\n",
    "job_5 =db.insert_job(\"Product Manager\", \"Boston\", \"Manage product lifecycle and collaborate with teams.\")"
   ]
  },
  {
   "cell_type": "code",
   "execution_count": 6,
   "metadata": {},
   "outputs": [
    {
     "data": {
      "text/plain": [
       "'CAND00013'"
      ]
     },
     "execution_count": 6,
     "metadata": {},
     "output_type": "execute_result"
    }
   ],
   "source": [
    "db.insert_candidate(\"Alice Johnson\", \"Python, Machine Learning\", \"alice.johnson@example.com\",job_1 )\n",
    "db.insert_candidate(\"Bob Smith\", \"React, JavaScript, HTML\", \"bob.smith@example.com\",job_1 )\n",
    "db.insert_candidate(\"Charlie Brown\", \"Node.js, SQL\", \"charlie.brown@example.com\", job_2)\n",
    "db.insert_candidate(\"Diana Prince\", \"Agile, Product Management\", \"diana.prince@example.com\",job_3 )\n",
    "db.insert_candidate(\"Evan Davis\", \"Java, Spring Boot\", \"evan.davis@example.com\", job_4)"
   ]
  },
  {
   "cell_type": "markdown",
   "metadata": {},
   "source": [
    "##### Tool Creation"
   ]
  },
  {
   "cell_type": "code",
   "execution_count": 63,
   "metadata": {},
   "outputs": [],
   "source": [
    "# Initializing the LLM\n",
    "llm = ChatGroq(model=\"llama-3.3-70b-versatile\",temperature=0)\n",
    "# llm=ChatGroq(model_name=\"Gemma2-9b-It\")"
   ]
  },
  {
   "cell_type": "code",
   "execution_count": 64,
   "metadata": {},
   "outputs": [
    {
     "name": "stdout",
     "output_type": "stream",
     "text": [
      "sqlite\n",
      "['candidates_table', 'job_posting_table']\n"
     ]
    }
   ],
   "source": [
    "db = SQLDatabase.from_uri(\"sqlite:///hrtech.db\")\n",
    "print(db.dialect)\n",
    "print(db.get_usable_table_names())"
   ]
  },
  {
   "cell_type": "code",
   "execution_count": 65,
   "metadata": {},
   "outputs": [
    {
     "data": {
      "text/plain": [
       "SQLDatabaseToolkit(db=<langchain_community.utilities.sql_database.SQLDatabase object at 0x000002178CE90110>, llm=ChatGroq(client=<groq.resources.chat.completions.Completions object at 0x000002178FB0FCD0>, async_client=<groq.resources.chat.completions.AsyncCompletions object at 0x000002178F9C8D50>, model_name='llama-3.3-70b-versatile', temperature=1e-08, model_kwargs={}, groq_api_key=SecretStr('**********')))"
      ]
     },
     "execution_count": 65,
     "metadata": {},
     "output_type": "execute_result"
    }
   ],
   "source": [
    "# Initialized the toolkit and get the tools\n",
    "toolkit = SQLDatabaseToolkit(db=db,llm=llm)\n",
    "toolkit"
   ]
  },
  {
   "cell_type": "code",
   "execution_count": 66,
   "metadata": {},
   "outputs": [],
   "source": [
    "sql_tools = toolkit.get_tools()"
   ]
  },
  {
   "cell_type": "code",
   "execution_count": 67,
   "metadata": {},
   "outputs": [
    {
     "data": {
      "text/plain": [
       "[QuerySQLDatabaseTool(description=\"Input to this tool is a detailed and correct SQL query, output is a result from the database. If the query is not correct, an error message will be returned. If an error is returned, rewrite the query, check the query, and try again. If you encounter an issue with Unknown column 'xxxx' in 'field list', use sql_db_schema to query the correct table fields.\", db=<langchain_community.utilities.sql_database.SQLDatabase object at 0x000002178CE90110>),\n",
       " InfoSQLDatabaseTool(description='Input to this tool is a comma-separated list of tables, output is the schema and sample rows for those tables. Be sure that the tables actually exist by calling sql_db_list_tables first! Example Input: table1, table2, table3', db=<langchain_community.utilities.sql_database.SQLDatabase object at 0x000002178CE90110>),\n",
       " ListSQLDatabaseTool(db=<langchain_community.utilities.sql_database.SQLDatabase object at 0x000002178CE90110>),\n",
       " QuerySQLCheckerTool(description='Use this tool to double check if your query is correct before executing it. Always use this tool before executing a query with sql_db_query!', db=<langchain_community.utilities.sql_database.SQLDatabase object at 0x000002178CE90110>, llm=ChatGroq(client=<groq.resources.chat.completions.Completions object at 0x000002178FB0FCD0>, async_client=<groq.resources.chat.completions.AsyncCompletions object at 0x000002178F9C8D50>, model_name='llama-3.3-70b-versatile', temperature=1e-08, model_kwargs={}, groq_api_key=SecretStr('**********')), llm_chain=LLMChain(verbose=False, prompt=PromptTemplate(input_variables=['dialect', 'query'], input_types={}, partial_variables={}, template='\\n{query}\\nDouble check the {dialect} query above for common mistakes, including:\\n- Using NOT IN with NULL values\\n- Using UNION when UNION ALL should have been used\\n- Using BETWEEN for exclusive ranges\\n- Data type mismatch in predicates\\n- Properly quoting identifiers\\n- Using the correct number of arguments for functions\\n- Casting to the correct data type\\n- Using the proper columns for joins\\n\\nIf there are any of the above mistakes, rewrite the query. If there are no mistakes, just reproduce the original query.\\n\\nOutput the final SQL query only.\\n\\nSQL Query: '), llm=ChatGroq(client=<groq.resources.chat.completions.Completions object at 0x000002178FB0FCD0>, async_client=<groq.resources.chat.completions.AsyncCompletions object at 0x000002178F9C8D50>, model_name='llama-3.3-70b-versatile', temperature=1e-08, model_kwargs={}, groq_api_key=SecretStr('**********')), output_parser=StrOutputParser(), llm_kwargs={}))]"
      ]
     },
     "execution_count": 67,
     "metadata": {},
     "output_type": "execute_result"
    }
   ],
   "source": [
    "sql_tools"
   ]
  },
  {
   "cell_type": "code",
   "execution_count": 68,
   "metadata": {},
   "outputs": [],
   "source": [
    "# list out the tables present in databse\n",
    "list_tables_tool = next((tool for tool in sql_tools if tool.name=='sql_db_list_tables'),None)"
   ]
  },
  {
   "cell_type": "code",
   "execution_count": 69,
   "metadata": {},
   "outputs": [
    {
     "data": {
      "text/plain": [
       "'candidates_table, job_posting_table'"
      ]
     },
     "execution_count": 69,
     "metadata": {},
     "output_type": "execute_result"
    }
   ],
   "source": [
    "list_tables_tool.invoke(\"give me all jobs\")"
   ]
  },
  {
   "cell_type": "code",
   "execution_count": 70,
   "metadata": {},
   "outputs": [],
   "source": [
    "# get the schema of mention table\n",
    "get_schema_tool = next((tool for tool in sql_tools if tool.name=='sql_db_schema'),None)"
   ]
  },
  {
   "cell_type": "code",
   "execution_count": 71,
   "metadata": {},
   "outputs": [],
   "source": [
    "# query sql database\n",
    "query_database = next((tool for tool in sql_tools if tool.name=='sql_db_query'),None)"
   ]
  },
  {
   "cell_type": "code",
   "execution_count": 72,
   "metadata": {},
   "outputs": [
    {
     "data": {
      "text/plain": [
       "\"[('CAND00001', 'John Doe', 'Python, SQL, Machine Learning', 'johndoe@example.com', 'JOB00002'), ('CAND00002', 'John Doe', 'Python, SQL, Machine Learning', 'johndoe@example.com', 'JOB00003'), ('CAND00008', 'John Doe', 'Python, SQL, Machine Learning', 'johndoe@example.com', 'JOB00009')]\""
      ]
     },
     "execution_count": 72,
     "metadata": {},
     "output_type": "execute_result"
    }
   ],
   "source": [
    "query_database.invoke(\"select * from candidates_table where cand_name='John Doe'\")"
   ]
  },
  {
   "cell_type": "code",
   "execution_count": 73,
   "metadata": {},
   "outputs": [],
   "source": [
    "# Defined the message state --> this state will pass to each node in the langgraph workflow\n",
    "class State(TypedDict):\n",
    "    messages : Annotated[list[AnyMessage],add_messages]"
   ]
  },
  {
   "cell_type": "code",
   "execution_count": 74,
   "metadata": {},
   "outputs": [],
   "source": [
    "# Class to get the final_answer\n",
    "class SubmitFinalAnswer(BaseModel):\n",
    "    \"\"\"Submit the final answer to the user based on the query results.\"\"\"\n",
    "    final_answer: str = Field(..., description=\"The final answer to the user\")"
   ]
  },
  {
   "cell_type": "code",
   "execution_count": 75,
   "metadata": {},
   "outputs": [],
   "source": [
    "def create_tool_node_with_fallback(tools: list):\n",
    "    \"\"\"\n",
    "    Create a ToolNode with a fallback to handle errors and surface them to the agent.\n",
    "    \"\"\"\n",
    "    return ToolNode(tools).with_fallbacks(\n",
    "        [RunnableLambda(handle_tool_error)], exception_key=\"error\"\n",
    "    )\n",
    "\n",
    "\n",
    "def handle_tool_error(state) -> dict:\n",
    "    error = state.get(\"error\")\n",
    "    tool_calls = state[\"messages\"][-1].tool_calls\n",
    "    return {\n",
    "        \"messages\": [\n",
    "            ToolMessage(\n",
    "                content=f\"Error: {repr(error)}\\n please fix your mistakes.\",\n",
    "                tool_call_id=tc[\"id\"],\n",
    "            )\n",
    "            for tc in tool_calls\n",
    "        ]\n",
    "    }"
   ]
  },
  {
   "cell_type": "code",
   "execution_count": 76,
   "metadata": {},
   "outputs": [],
   "source": [
    "@tool\n",
    "def db_query_tool(query:str) -> str:\n",
    "    \n",
    "    \"\"\"Execute a SQL query against the database and return the result.\n",
    "    If the query is invalid or returns no result, an error message will be returned.\n",
    "    In case of an error, the user is advised to rewrite the query and try again.\"\"\"\n",
    "    print(f\"Into the db query tool : {query}\")\n",
    "    result = db.run_no_throw(query)\n",
    "    print(f\"The result of db_query_tool : {result}\")\n",
    "    if not result:\n",
    "        return \"Error: Query failed, please rewrite the query and try again\"\n",
    "    else:\n",
    "        return result\n",
    "# testing\n",
    "# db_query_tool.invoke(\"SELECT * FROM candidates_table\")"
   ]
  },
  {
   "cell_type": "code",
   "execution_count": 77,
   "metadata": {},
   "outputs": [],
   "source": [
    "from langchain_core.prompts import ChatPromptTemplate\n",
    "\n",
    "query_check_system = \"\"\"\n",
    "You are a SQL expert with a strong attention to detail.\n",
    "Double check the SQLite query for common mistakes, including:\n",
    "- Using NOT IN with NULL values\n",
    "- Using UNION when UNION ALL should have been used\n",
    "- Using BETWEEN for exclusive ranges\n",
    "- Data type mismatch in predicates\n",
    "- Properly quoting identifiers\n",
    "- Using the correct number of arguments for functions\n",
    "- Casting to the correct data type\n",
    "- Using the proper columns for joins\n",
    "\n",
    "If there are any of the above mistakes, rewrite the query. If there are no mistakes, just reproduce the original query.\n",
    "\n",
    "You will call the appropriate tool to execute the query after running this check.\"\"\"\n",
    "\n",
    "query_check_prompt = ChatPromptTemplate.from_messages(\n",
    "  [(\"system\", query_check_system), (\"placeholder\", \"{messages}\")]\n",
    ")\n",
    "llm_with_tools = llm.bind_tools([db_query_tool],tool_choice=\"required\")\n",
    "query_check_chain = (query_check_prompt | llm_with_tools)"
   ]
  },
  {
   "cell_type": "code",
   "execution_count": 78,
   "metadata": {},
   "outputs": [],
   "source": [
    "# As soon as user query entered the workflow the list_tables tool gets called\n",
    "def first_tool_call(state: State) -> dict[str, list[AIMessage]]:\n",
    "    print(f\"From first_tool_call, state message : {state['messages']}\")\n",
    "    return {\"messages\": [AIMessage(content=\"\",tool_calls=[{\"name\": \"sql_db_list_tables\",\"args\": {},\"id\": \"tool_abcd123\",}],)]}"
   ]
  },
  {
   "cell_type": "code",
   "execution_count": 79,
   "metadata": {},
   "outputs": [],
   "source": [
    "# list out the tables present in database\n",
    "list_tables_tool = next((tool for tool in sql_tools if tool.name=='sql_db_list_tables'),None)"
   ]
  },
  {
   "cell_type": "code",
   "execution_count": 80,
   "metadata": {},
   "outputs": [],
   "source": [
    "# now get the schema for the required table\n",
    "get_schema_tool = next((tool for tool in sql_tools if tool.name=='sql_db_schema'),None)\n",
    "get_model_schema = llm.bind_tools([get_schema_tool])"
   ]
  },
  {
   "cell_type": "code",
   "execution_count": 81,
   "metadata": {},
   "outputs": [],
   "source": [
    "# now get the schema with error handling\n",
    "get_schema_tool = next((tool for tool in sql_tools if tool.name=='sql_db_schema'),None)"
   ]
  },
  {
   "cell_type": "code",
   "execution_count": 94,
   "metadata": {},
   "outputs": [],
   "source": [
    "# Generate the query based on the question and schema\n",
    "query_gen_template = \"\"\"\n",
    "You are a SQL expert with a strong attention to detail.\n",
    "\n",
    "Given an input question, output a syntactically correct SQLite query to run, then look at the results of the query and return the answer.\n",
    "\n",
    "DO NOT call any tool besides SubmitFinalAnswer to submit the final answer.\n",
    "\n",
    "When generating the query:\n",
    "\n",
    "Output the SQL query that answers the input question without a tool call.\n",
    "\n",
    "Unless the user specifies a specific number of examples they wish to obtain, always limit your query to at most 5 results.\n",
    "You can order the results by a relevant column to return the most interesting examples in the database.\n",
    "Never query for all the columns from a specific table, only ask for the relevant columns given the question.\n",
    "\n",
    "If you get an error while executing a query, rewrite the query and try again.\n",
    "\n",
    "If you get an empty result set, you should try to rewrite the query to get a non-empty result set. \n",
    "NEVER make stuff up if you don't have enough information to answer the query... just say you don't have enough information.\n",
    "\n",
    "If you have enough information to answer the input question, simply invoke the appropriate tool to submit the final answer to the user.\n",
    "\n",
    "DO NOT make any DML statements (INSERT, UPDATE, DELETE, DROP etc.) to the database.\n",
    "\"\"\"\n",
    "query_gen_prompt = ChatPromptTemplate.from_messages(\n",
    "    [(\"system\",query_gen_template),(\"placeholder\",\"{messages}\")]\n",
    ")\n",
    "llm_with_tools = llm.bind_tools([SubmitFinalAnswer])\n",
    "query_gen_chain = query_gen_prompt | llm_with_tools\n",
    "\n",
    "def query_gen_node(state:State):\n",
    "    print(f\"Into the query generation tool : {state['messages']}\")\n",
    "    message = query_gen_chain.invoke(state)\n",
    "    tool_messages = []\n",
    "    if message.tool_calls:\n",
    "        for tc in message.tool_calls:\n",
    "            if tc[\"name\"] != \"SubmitFinalAnswer\":\n",
    "                tool_messages.append(\n",
    "                    ToolMessage(\n",
    "                        content=f\"Error: The wrong tool was called: {tc['name']}. Please fix your mistakes. Remember to only call SubmitFinalAnswer to submit the final answer. Generated queries should be outputted WITHOUT a tool call.\",\n",
    "                        tool_call_id=tc[\"id\"],\n",
    "                    ))\n",
    "    else:\n",
    "        tool_messages = []\n",
    "    print(f\"The result of query_gen_node : {[message]+tool_messages}\")\n",
    "    return {\"messages\":[message] + tool_messages}\n",
    "    "
   ]
  },
  {
   "cell_type": "code",
   "execution_count": 95,
   "metadata": {},
   "outputs": [],
   "source": [
    "def model_check_query(state: State) -> dict[str, list[AIMessage]]:\n",
    "    \"\"\"\n",
    "    Use this tool to double-check if your query is correct before executing it.\n",
    "    \"\"\"\n",
    "    print(f\"Into the model check query tool : {state['messages'][-1]}\")\n",
    "    return {\"messages\": [query_check_chain.invoke({\"messages\": [state[\"messages\"][-1]]})]}"
   ]
  },
  {
   "cell_type": "code",
   "execution_count": 96,
   "metadata": {},
   "outputs": [],
   "source": [
    "# Router\n",
    "def should_continue(state:State):\n",
    "    messages = state[\"messages\"]\n",
    "    last_message = messages[-1]\n",
    "    # If there is a tool call, then we finish\n",
    "    if getattr(last_message, \"tool_calls\", None):\n",
    "        return END\n",
    "    if last_message.content.startswith(\"Error:\"):\n",
    "        return \"query_gen\"\n",
    "    else:\n",
    "        return \"correct_query\""
   ]
  },
  {
   "cell_type": "code",
   "execution_count": 97,
   "metadata": {},
   "outputs": [],
   "source": [
    "# Define workflow\n",
    "workflow = StateGraph(State)\n",
    "\n",
    "# Add nodes in the graph\n",
    "workflow.add_node(\"first_tool_call\", first_tool_call)\n",
    "workflow.add_node(\"list_tables_tool\", create_tool_node_with_fallback([list_tables_tool]))\n",
    "workflow.add_node(\"get_model_schema\",lambda state: {\"messages\": [get_model_schema.invoke(state[\"messages\"])],},)\n",
    "workflow.add_node(\"get_schema_tool\", create_tool_node_with_fallback([get_schema_tool]))\n",
    "workflow.add_node(\"query_gen\", query_gen_node)\n",
    "workflow.add_node(\"correct_query\", model_check_query)\n",
    "workflow.add_node(\"execute_query\", create_tool_node_with_fallback([db_query_tool]))\n",
    "\n",
    "# Add edges in the graph\n",
    "workflow.add_edge(START, \"first_tool_call\")\n",
    "workflow.add_edge(\"first_tool_call\", \"list_tables_tool\")\n",
    "workflow.add_edge(\"list_tables_tool\", \"get_model_schema\")\n",
    "workflow.add_edge(\"get_model_schema\", \"get_schema_tool\")\n",
    "workflow.add_edge(\"get_schema_tool\", \"query_gen\")\n",
    "\n",
    "workflow.add_conditional_edges(\"query_gen\",should_continue,{\"query_gen\":\"query_gen\",\"correct_query\":\"correct_query\",END:END})\n",
    "\n",
    "workflow.add_edge(\"correct_query\", \"execute_query\")\n",
    "workflow.add_edge(\"execute_query\", \"query_gen\")\n",
    "\n",
    "# Compile the workflow into a runnable\n",
    "app = workflow.compile()"
   ]
  },
  {
   "cell_type": "code",
   "execution_count": 98,
   "metadata": {},
   "outputs": [
    {
     "data": {
      "image/png": "[encoded data removed]",
      "text/plain": [
       "<langgraph.graph.state.CompiledStateGraph object at 0x000002178FC3E750>"
      ]
     },
     "execution_count": 98,
     "metadata": {},
     "output_type": "execute_result"
    }
   ],
   "source": [
    "app"
   ]
  },
  {
   "cell_type": "code",
   "execution_count": 99,
   "metadata": {},
   "outputs": [
    {
     "name": "stdout",
     "output_type": "stream",
     "text": [
      "From first_tool_call, state message : [HumanMessage(content='give me the all job name present in the jobs table', additional_kwargs={}, response_metadata={}, id='51bdc481-116c-40d3-bfb1-79fcaa38d144')]\n",
      "Into the query generation tool : [HumanMessage(content='give me the all job name present in the jobs table', additional_kwargs={}, response_metadata={}, id='51bdc481-116c-40d3-bfb1-79fcaa38d144'), AIMessage(content='', additional_kwargs={}, response_metadata={}, id='370399dd-7bf7-4ea0-b4b7-f27da6b9f816', tool_calls=[{'name': 'sql_db_list_tables', 'args': {}, 'id': 'tool_abcd123', 'type': 'tool_call'}]), ToolMessage(content='candidates_table, job_posting_table', name='sql_db_list_tables', id='4972a6ab-17c2-415c-adab-a936ac3eef76', tool_call_id='tool_abcd123'), AIMessage(content='', additional_kwargs={'tool_calls': [{'id': 'call_4ex0', 'function': {'arguments': '{\"table_names\": \"job_posting_table\"}', 'name': 'sql_db_schema'}, 'type': 'function'}]}, response_metadata={'token_usage': {'completion_tokens': 20, 'prompt_tokens': 373, 'total_tokens': 393, 'completion_time': 0.072727273, 'prompt_time': 0.046987947, 'queue_time': 0.021310410000000002, 'total_time': 0.11971522}, 'model_name': 'llama-3.3-70b-versatile', 'system_fingerprint': 'fp_4e32347616', 'finish_reason': 'tool_calls', 'logprobs': None}, id='run-47090ebd-0fdf-4d70-b94f-e591c750fe6b-0', tool_calls=[{'name': 'sql_db_schema', 'args': {'table_names': 'job_posting_table'}, 'id': 'call_4ex0', 'type': 'tool_call'}], usage_metadata={'input_tokens': 373, 'output_tokens': 20, 'total_tokens': 393}), ToolMessage(content='\\nCREATE TABLE job_posting_table (\\n\\tjob_id TEXT, \\n\\tjob_name TEXT NOT NULL, \\n\\tjob_location TEXT NOT NULL, \\n\\tjob_description TEXT NOT NULL, \\n\\tPRIMARY KEY (job_id)\\n)\\n\\n/*\\n3 rows from job_posting_table table:\\njob_id\\tjob_name\\tjob_location\\tjob_description\\nJOB00001\\tSoftware Engineer\\tNew York\\tDevelop and maintain software applications.\\nJOB00002\\tSoftware Engineer\\tNew York\\tDevelop and maintain software applications.\\nJOB00003\\tSoftware Engineer\\tNew York\\tDevelop and maintain software applications.\\n*/', name='sql_db_schema', id='6aaa4859-f6ea-4df7-b773-ab890e2cbb96', tool_call_id='call_4ex0')]\n",
      "The result of query_gen_node : [AIMessage(content='', additional_kwargs={'tool_calls': [{'id': 'call_ww91', 'function': {'arguments': '{\"final_answer\": \"Software Engineer\"}', 'name': 'SubmitFinalAnswer'}, 'type': 'function'}]}, response_metadata={'token_usage': {'completion_tokens': 51, 'prompt_tokens': 644, 'total_tokens': 695, 'completion_time': 0.185454545, 'prompt_time': 0.073219907, 'queue_time': 0.020209429, 'total_time': 0.258674452}, 'model_name': 'llama-3.3-70b-versatile', 'system_fingerprint': 'fp_4e32347616', 'finish_reason': 'tool_calls', 'logprobs': None}, id='run-7970b904-85fb-46c7-9719-8cd0b3a92b4c-0', tool_calls=[{'name': 'SubmitFinalAnswer', 'args': {'final_answer': 'Software Engineer'}, 'id': 'call_ww91', 'type': 'tool_call'}], usage_metadata={'input_tokens': 644, 'output_tokens': 51, 'total_tokens': 695})]\n"
     ]
    },
    {
     "data": {
      "text/plain": [
       "{'messages': [HumanMessage(content='give me the all job name present in the jobs table', additional_kwargs={}, response_metadata={}, id='51bdc481-116c-40d3-bfb1-79fcaa38d144'),\n",
       "  AIMessage(content='', additional_kwargs={}, response_metadata={}, id='370399dd-7bf7-4ea0-b4b7-f27da6b9f816', tool_calls=[{'name': 'sql_db_list_tables', 'args': {}, 'id': 'tool_abcd123', 'type': 'tool_call'}]),\n",
       "  ToolMessage(content='candidates_table, job_posting_table', name='sql_db_list_tables', id='4972a6ab-17c2-415c-adab-a936ac3eef76', tool_call_id='tool_abcd123'),\n",
       "  AIMessage(content='', additional_kwargs={'tool_calls': [{'id': 'call_4ex0', 'function': {'arguments': '{\"table_names\": \"job_posting_table\"}', 'name': 'sql_db_schema'}, 'type': 'function'}]}, response_metadata={'token_usage': {'completion_tokens': 20, 'prompt_tokens': 373, 'total_tokens': 393, 'completion_time': 0.072727273, 'prompt_time': 0.046987947, 'queue_time': 0.021310410000000002, 'total_time': 0.11971522}, 'model_name': 'llama-3.3-70b-versatile', 'system_fingerprint': 'fp_4e32347616', 'finish_reason': 'tool_calls', 'logprobs': None}, id='run-47090ebd-0fdf-4d70-b94f-e591c750fe6b-0', tool_calls=[{'name': 'sql_db_schema', 'args': {'table_names': 'job_posting_table'}, 'id': 'call_4ex0', 'type': 'tool_call'}], usage_metadata={'input_tokens': 373, 'output_tokens': 20, 'total_tokens': 393}),\n",
       "  ToolMessage(content='\\nCREATE TABLE job_posting_table (\\n\\tjob_id TEXT, \\n\\tjob_name TEXT NOT NULL, \\n\\tjob_location TEXT NOT NULL, \\n\\tjob_description TEXT NOT NULL, \\n\\tPRIMARY KEY (job_id)\\n)\\n\\n/*\\n3 rows from job_posting_table table:\\njob_id\\tjob_name\\tjob_location\\tjob_description\\nJOB00001\\tSoftware Engineer\\tNew York\\tDevelop and maintain software applications.\\nJOB00002\\tSoftware Engineer\\tNew York\\tDevelop and maintain software applications.\\nJOB00003\\tSoftware Engineer\\tNew York\\tDevelop and maintain software applications.\\n*/', name='sql_db_schema', id='6aaa4859-f6ea-4df7-b773-ab890e2cbb96', tool_call_id='call_4ex0'),\n",
       "  AIMessage(content='', additional_kwargs={'tool_calls': [{'id': 'call_ww91', 'function': {'arguments': '{\"final_answer\": \"Software Engineer\"}', 'name': 'SubmitFinalAnswer'}, 'type': 'function'}]}, response_metadata={'token_usage': {'completion_tokens': 51, 'prompt_tokens': 644, 'total_tokens': 695, 'completion_time': 0.185454545, 'prompt_time': 0.073219907, 'queue_time': 0.020209429, 'total_time': 0.258674452}, 'model_name': 'llama-3.3-70b-versatile', 'system_fingerprint': 'fp_4e32347616', 'finish_reason': 'tool_calls', 'logprobs': None}, id='run-7970b904-85fb-46c7-9719-8cd0b3a92b4c-0', tool_calls=[{'name': 'SubmitFinalAnswer', 'args': {'final_answer': 'Software Engineer'}, 'id': 'call_ww91', 'type': 'tool_call'}], usage_metadata={'input_tokens': 644, 'output_tokens': 51, 'total_tokens': 695})]}"
      ]
     },
     "execution_count": 99,
     "metadata": {},
     "output_type": "execute_result"
    }
   ],
   "source": [
    "app.invoke({\"messages\":(\"user\",\"give me the all job name present in the jobs table\")})"
   ]
  }
 ],
 "metadata": {
  "kernelspec": {
   "display_name": "env_phidata_agents",
   "language": "python",
   "name": "python3"
  },
  "language_info": {
   "codemirror_mode": {
    "name": "ipython",
    "version": 3
   },
   "file_extension": ".py",
   "mimetype": "text/x-python",
   "name": "python",
   "nbconvert_exporter": "python",
   "pygments_lexer": "ipython3",
   "version": "3.11.11"
  }
 },
 "nbformat": 4,
 "nbformat_minor": 2
}
