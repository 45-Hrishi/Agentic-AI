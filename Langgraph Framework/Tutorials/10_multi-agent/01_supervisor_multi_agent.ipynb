{
 "cells": [
  {
   "cell_type": "code",
   "execution_count": null,
   "metadata": {},
   "outputs": [],
   "source": [
    "https://langchain-ai.github.io/langgraph/concepts/multi_agent/#multi-agent-architectures\n",
    "https://langchain-ai.github.io/langgraph/tutorials/multi_agent/agent_supervisor/\n",
    "https://langchain-ai.github.io/langgraph/tutorials/multi_agent/multi-agent-collaboration/"
   ]
  }
 ],
 "metadata": {
  "kernelspec": {
   "display_name": "env_phidata_agents",
   "language": "python",
   "name": "python3"
  },
  "language_info": {
   "name": "python",
   "version": "3.11.11"
  }
 },
 "nbformat": 4,
 "nbformat_minor": 2
}
