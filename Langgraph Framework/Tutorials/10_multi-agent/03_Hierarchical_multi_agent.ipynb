{
 "cells": [
  {
   "cell_type": "markdown",
   "metadata": {},
   "source": [
    "#### Hierarchical Multi Agent System"
   ]
  },
  {
   "cell_type": "markdown",
   "metadata": {},
   "source": [
    "This system has Top supervisor which will route flow to two teams (Research / Document Authoring). Then both teams wil have agents with multiple tools bind to themselves."
   ]
  },
  {
   "cell_type": "code",
   "execution_count": 14,
   "metadata": {},
   "outputs": [],
   "source": [
    "# Import the necessary libraries\n",
    "from typing import Annotated, List,Dict, Optional\n",
    "from typing_extensions import TypedDict, Literal\n",
    "from langchain_community.document_loaders import WebBaseLoader\n",
    "from langchain_community.tools.tavily_search import TavilySearchResults\n",
    "from langchain_core.tools import tool\n",
    "from pathlib import Path\n",
    "from langchain_groq import ChatGroq\n",
    "from tempfile import TemporaryDirectory\n",
    "from langchain_experimental.utilities import PythonREPL\n",
    "from langgraph.prebuilt import create_react_agent\n",
    "from langchain_core.language_models.chat_models import BaseChatModel\n",
    "from langgraph.graph import StateGraph, MessagesState, START, END\n",
    "from langgraph.types import Command\n",
    "from langchain_core.messages import HumanMessage, trim_messages"
   ]
  },
  {
   "cell_type": "code",
   "execution_count": 23,
   "metadata": {},
   "outputs": [],
   "source": [
    "# Define LLM model\n",
    "llm = ChatGroq(model=\"llama-3.3-70b-versatile\",temperature=0.3)"
   ]
  },
  {
   "cell_type": "markdown",
   "metadata": {},
   "source": [
    "##### Research Team"
   ]
  },
  {
   "cell_type": "code",
   "execution_count": 24,
   "metadata": {},
   "outputs": [],
   "source": [
    "# Define the tools\n",
    "tavily_tool = TavilySearchResults(max_results=5) \n",
    "\n",
    "@tool\n",
    "def scrape_webpages(urls: List[str]) -> str:\n",
    "    \"\"\"Use requests and bs4 to scrape the provided web pages for detailed information.\"\"\"\n",
    "    loader = WebBaseLoader(web_path=urls)\n",
    "    docs = loader.load()\n",
    "    return \"\\n\\n\".join(\n",
    "        [\n",
    "            f'<Document name=\"{doc.metadata.get(\"title\",\"\")}\">\\n{doc.page_content}\\n</Document>'\n",
    "            for doc in docs\n",
    "        ]\n",
    "    )"
   ]
  },
  {
   "cell_type": "markdown",
   "metadata": {},
   "source": [
    "##### Document Writing Team"
   ]
  },
  {
   "cell_type": "code",
   "execution_count": 25,
   "metadata": {},
   "outputs": [],
   "source": [
    "_TEMP_DIRECTORY = TemporaryDirectory()\n",
    "WORKING_DIRECTORY = Path(_TEMP_DIRECTORY.name)"
   ]
  },
  {
   "cell_type": "code",
   "execution_count": 26,
   "metadata": {},
   "outputs": [],
   "source": [
    "# Define the tools\n",
    "@tool\n",
    "def create_outline(points: Annotated[List[str],\"List of main points or sections\"],\n",
    "                   file_name: Annotated[str, \"File path to save the outline.\"],\n",
    "                   ) -> Annotated[str, \"Path of the saved outline file.\"]:\n",
    "    \"\"\"Create and save an outline.\"\"\"\n",
    "    with open(WORKING_DIRECTORY / file_name,'w') as file:\n",
    "        for i, point in enumerate(points):\n",
    "            file.write(f\"{i+1}. {point}\\n\")\n",
    "    return f\"Outline saved to {file_name}\"\n",
    "\n",
    "@tool\n",
    "def read_document(\n",
    "    file_name: Annotated[str, \"File path to read the document from.\"],\n",
    "    start: Annotated[Optional[int], \"The start line. Default is 0\"] = None,\n",
    "    end: Annotated[Optional[int], \"The end line. Default is None\"] = None,\n",
    ") -> str:\n",
    "    \"\"\"Read the specified document.\"\"\"\n",
    "    with open(WORKING_DIRECTORY/file_name,'r') as file:\n",
    "        lines = file.readlines\n",
    "    if start is None:\n",
    "        start = 0\n",
    "    return '\\n'.join(lines[start:end])\n",
    "\n",
    "@tool\n",
    "def write_document(\n",
    "    content: Annotated[str, \"Text content to be written into the document.\"],\n",
    "    file_name: Annotated[str, \"File path to save the document.\"],\n",
    ") -> Annotated[str, \"Path of the saved document file.\"]:\n",
    "    \"\"\"Create and save a text document.\"\"\"\n",
    "    with open(WORKING_DIRECTORY/file_name,'w') as file:\n",
    "        file.write(content)\n",
    "    return f\"Document saved to the {file_name}\"\n",
    "\n",
    "@tool\n",
    "def edit_document(\n",
    "    file_name: Annotated[str, \"Path of the document to be edited.\"],\n",
    "    inserts: Annotated[\n",
    "        Dict[int, str],\n",
    "        \"Dictionary where key is the line number (1-indexed) and value is the text to be inserted at that line.\",\n",
    "    ],\n",
    ") -> Annotated[str, \"Path of the edited document file.\"]:\n",
    "    \"\"\"Edit a document by inserting text at specific line numbers.\"\"\"\n",
    "    with open(WORKING_DIRECTORY/file_name,'w') as file:\n",
    "        lines = file.readlines\n",
    "\n",
    "    sorted_inserts = sorted(inserts.items())\n",
    "    for line_number, text in sorted_inserts:\n",
    "        if 1 <= line_number <= len(lines)+1:\n",
    "            lines.insert(line_number-1,text+\"\\n\")\n",
    "        else:\n",
    "            return f\"Error: Line number {line_number} is out of range.\"\n",
    "\n",
    "\n",
    "    with open(WORKING_DIRECTORY/file_name,\"w\") as file:\n",
    "        file.writelines(lines)\n",
    "    return f\"Document edited and saved to {file_name}\"\n",
    "\n",
    "repl = PythonREPL()\n",
    "\n",
    "@tool\n",
    "def python_repl_tool(\n",
    "    code: Annotated[str, \"The python code to execute to generate your chart.\"],\n",
    "):\n",
    "    \"\"\"Use this to execute python code. If you want to see the output of a value,\n",
    "    you should print it out with `print(...)`. This is visible to the user.\"\"\"\n",
    "    try:\n",
    "        result = repl.run(code)\n",
    "    except Exception as e:\n",
    "        return f\"Failed to execute. Error : {repr(e)}\"\n",
    "    return f\"Successfully executed:\\n\\`\\`\\`python\\n{code}\\n\\`\\`\\`\\nStdout: {result}\""
   ]
  },
  {
   "cell_type": "code",
   "execution_count": 27,
   "metadata": {},
   "outputs": [],
   "source": [
    "# Define the state:\n",
    "class State(MessagesState):\n",
    "    next: str"
   ]
  },
  {
   "cell_type": "code",
   "execution_count": 28,
   "metadata": {},
   "outputs": [],
   "source": [
    "def make_supervisor_node(llm: BaseChatModel, members: list[str]) -> str:\n",
    "    options = [\"FINISH\"] + members\n",
    "    system_prompt = (\n",
    "        \"You are a supervisor tasked with managing a conversation between the\"\n",
    "        f\" following workers: {members}. Given the following user request,\"\n",
    "        \" respond with the worker to act next. Each worker will perform a\"\n",
    "        \" task and respond with their results and status. When finished,\"\n",
    "        \" respond with FINISH.\"\n",
    "    )\n",
    "\n",
    "    class Router(TypedDict):\n",
    "        \"\"\"Worker to route to next. If no workers needed, route to FINISH.\"\"\"\n",
    "        next: Literal[*options]\n",
    "\n",
    "    def supervisor_node(state: State) -> Command[Literal[*members, \"__end__\"]]:\n",
    "        \"\"\"An LLM-based router.\"\"\"\n",
    "        messages = [{\"role\": \"system\", \"content\": system_prompt}] + state[\"messages\"]\n",
    "        response = llm.with_structured_output(Router).invoke(messages)\n",
    "        goto = response[\"next\"]\n",
    "        if goto == \"FINISH\":\n",
    "            goto = END\n",
    "\n",
    "        return Command(goto=goto, update={\"next\": goto})\n",
    "\n",
    "    return supervisor_node \n",
    "\n"
   ]
  },
  {
   "cell_type": "code",
   "execution_count": 29,
   "metadata": {},
   "outputs": [],
   "source": [
    "# search agent\n",
    "search_agent = create_react_agent(llm, tools=[tavily_tool])\n",
    "def search_node(state:State) -> Command[Literal[\"supervisor\"]]:\n",
    "    result = search_agent.invoke(state)\n",
    "    return Command(goto='supervisor',update={\"messages\":[HumanMessage(content=result[\"messages\"][-1].content,name=\"search\")]})\n",
    "\n",
    "# web scraper agent\n",
    "web_scraper_agent = create_react_agent(llm,tools=[scrape_webpages])\n",
    "def web_scraper_node(state:State) -> Command[Literal[\"supervisor\"]]:\n",
    "    result = web_scraper_agent.invoke(state)\n",
    "    return Command(goto=\"supervisor\",update={\"messages\":[HumanMessage(content=result[\"messages\"][-1].content,name=\"web_scraper\")]})\n",
    "\n",
    "research_supervisor_node = make_supervisor_node(llm,[\"search\",\"web_scraper\"])"
   ]
  },
  {
   "cell_type": "code",
   "execution_count": 30,
   "metadata": {},
   "outputs": [],
   "source": [
    "research_builder = StateGraph(State)\n",
    "\n",
    "research_builder.add_node(\"supervisor\",research_supervisor_node)\n",
    "research_builder.add_node(\"search\",search_node)\n",
    "research_builder.add_node(\"web_scraper\",web_scraper_node)\n",
    "\n",
    "research_builder.add_edge(START,\"supervisor\")\n",
    "research_graph = research_builder.compile()"
   ]
  },
  {
   "cell_type": "code",
   "execution_count": 31,
   "metadata": {},
   "outputs": [
    {
     "data": {
      "image/png": "[encoded data removed]",
      "text/plain": [
       "<langgraph.graph.state.CompiledStateGraph object at 0x000002082E135550>"
      ]
     },
     "execution_count": 31,
     "metadata": {},
     "output_type": "execute_result"
    }
   ],
   "source": [
    "research_graph"
   ]
  },
  {
   "cell_type": "code",
   "execution_count": 32,
   "metadata": {},
   "outputs": [
    {
     "name": "stdout",
     "output_type": "stream",
     "text": [
      "{'supervisor': {'next': 'search'}}\n",
      "---\n",
      "{'search': {'messages': [HumanMessage(content='The next ODI World Cup is scheduled to take place in India from October 5 to November 19, 2023.', additional_kwargs={}, response_metadata={}, name='search', id='bf0a6e8f-d91c-4e7e-95ad-ed6107343741')]}}\n",
      "---\n",
      "{'supervisor': {'next': '__end__'}}\n",
      "---\n"
     ]
    }
   ],
   "source": [
    "for s in research_graph.stream(\n",
    "    {\"messages\": [(\"user\", \"The next ODI world cup venue and when it will happen ?\")]},\n",
    "    {\"recursion_limit\": 100},\n",
    "):\n",
    "    print(s)\n",
    "    print(\"---\")"
   ]
  },
  {
   "cell_type": "code",
   "execution_count": null,
   "metadata": {},
   "outputs": [],
   "source": []
  }
 ],
 "metadata": {
  "kernelspec": {
   "display_name": "env_agentic_ai",
   "language": "python",
   "name": "python3"
  },
  "language_info": {
   "codemirror_mode": {
    "name": "ipython",
    "version": 3
   },
   "file_extension": ".py",
   "mimetype": "text/x-python",
   "name": "python",
   "nbconvert_exporter": "python",
   "pygments_lexer": "ipython3",
   "version": "3.11.1"
  }
 },
 "nbformat": 4,
 "nbformat_minor": 2
}
