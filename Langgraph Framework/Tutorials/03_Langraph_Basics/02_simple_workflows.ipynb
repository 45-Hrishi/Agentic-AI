{
 "cells": [
  {
   "cell_type": "markdown",
   "metadata": {},
   "source": [
    "#### **LangGraph WorkFlows**"
   ]
  },
  {
   "cell_type": "code",
   "execution_count": 36,
   "metadata": {},
   "outputs": [
    {
     "data": {
      "text/plain": [
       "True"
      ]
     },
     "execution_count": 36,
     "metadata": {},
     "output_type": "execute_result"
    }
   ],
   "source": [
    "# Installing required libraries\n",
    "import os\n",
    "from langgraph.graph import Graph,StateGraph,END\n",
    "from langchain_groq import ChatGroq\n",
    "from langchain_huggingface import HuggingFaceEmbeddings\n",
    "from langchain_chroma import Chroma\n",
    "from langchain.prompts import PromptTemplate,ChatPromptTemplate\n",
    "from langchain_core.output_parsers import StrOutputParser\n",
    "from langchain_core.runnables import RunnablePassthrough,RunnableParallel,RunnableLambda\n",
    "from langchain_chroma import Chroma\n",
    "from langchain.document_loaders import TextLoader\n",
    "from langchain.text_splitter import RecursiveCharacterTextSplitter\n",
    "from pydantic import BaseModel , Field\n",
    "from langchain.output_parsers import PydanticOutputParser\n",
    "from typing import TypedDict, Annotated, Sequence\n",
    "import operator\n",
    "from langchain_core.messages import BaseMessage\n",
    "from dotenv import load_dotenv\n",
    "load_dotenv()"
   ]
  },
  {
   "cell_type": "markdown",
   "metadata": {},
   "source": [
    "##### Workflow 1 : Simple Workflow"
   ]
  },
  {
   "cell_type": "code",
   "execution_count": 11,
   "metadata": {},
   "outputs": [
    {
     "name": "stdout",
     "output_type": "stream",
     "text": [
      "Here is output from function1\n",
      "-----------\n",
      "from function1: Hrishikesh \n",
      "\n",
      "\n",
      "Here is output from function2\n",
      "-----------\n",
      "from function1: Hrishikesh from function2\n",
      "\n",
      "\n"
     ]
    }
   ],
   "source": [
    "def function1(input1):\n",
    "    return \"from function1: \"+input1 + \" \"\n",
    "\n",
    "def function2(input2):\n",
    "    return input2 + \"from function2\"\n",
    "\n",
    "# initializing the Graph workflow\n",
    "workflow1 = Graph()\n",
    "\n",
    "# adding nodes into the workflow\n",
    "workflow1.add_node(\"function1\",function1)\n",
    "workflow1.add_node(\"function2\",function2)\n",
    "\n",
    "# adding edge between two nodes --> Pass the output of node1 to node2\n",
    "workflow1.add_edge(\"function1\",\"function2\")\n",
    "\n",
    "# setting the entry point for the workflow\n",
    "workflow1.set_entry_point(\"function1\")\n",
    "\n",
    "# setting the finish point for the workflow\n",
    "workflow1.set_finish_point(\"function2\")\n",
    "\n",
    "# compiling the complete workflow\n",
    "app1 = workflow1.compile()\n",
    "# print(app1)\n",
    "\n",
    "# Invoking the workflow with the .invoke() function\n",
    "result = app1.invoke(\"Hi Hrishikesh here\")\n",
    "# print(result)\n",
    "\n",
    "# Streaming the input to the function\n",
    "for output in app1.stream(\"Hrishikesh\"):\n",
    "    for key,value in output.items():\n",
    "        print(f\"Here is output from {key}\")\n",
    "        print(\"-----------\")\n",
    "        \n",
    "        print(value)\n",
    "        print(\"\\n\")"
   ]
  },
  {
   "cell_type": "markdown",
   "metadata": {},
   "source": [
    "##### Workflow2 : External function + simple workflow"
   ]
  },
  {
   "cell_type": "code",
   "execution_count": 21,
   "metadata": {},
   "outputs": [],
   "source": [
    "# Keeping third function outside of workflow\n",
    "def function3(input3):\n",
    "    return f\"Called by function2  {input3}\""
   ]
  },
  {
   "cell_type": "code",
   "execution_count": 23,
   "metadata": {},
   "outputs": [
    {
     "name": "stdout",
     "output_type": "stream",
     "text": [
      "Here is output from function1\n",
      "-----------\n",
      "Hi from function1 Hrishikesh \n",
      "\n",
      "\n",
      "Here is output from function2\n",
      "-----------\n",
      "Calling function 3, Called by function2  Hi from function1 Hrishikesh \n",
      "\n",
      "\n"
     ]
    }
   ],
   "source": [
    "def function1(input1):\n",
    "    return \"Hi from function1 \"+input1 + \" \"\n",
    "\n",
    "def function2(input2):\n",
    "    out_func_3 = function3(input2)\n",
    "    return \"Calling function 3, \" + out_func_3 \n",
    "\n",
    "# initializing the Graph workflow\n",
    "workflow2 = Graph()\n",
    "\n",
    "# adding nodes into the workflow\n",
    "workflow2.add_node(\"function1\",function1)\n",
    "workflow2.add_node(\"function2\",function2)\n",
    "\n",
    "# adding edge between two nodes --> Pass the output of node1 to node2\n",
    "workflow2.add_edge(\"function1\",\"function2\")\n",
    "\n",
    "# setting the entry point for the workflow\n",
    "workflow2.set_entry_point(\"function1\")\n",
    "\n",
    "# setting the finish point for the workflow\n",
    "workflow2.set_finish_point(\"function2\")\n",
    "\n",
    "# compiling the complete workflow\n",
    "app2 = workflow2.compile()\n",
    "# print(app1)\n",
    "\n",
    "# Invoking the workflow with the .invoke() function\n",
    "result = app2.invoke(\"Hi Hrishikesh here\")\n",
    "# print(result)\n",
    "\n",
    "# Streaming the input to the function\n",
    "for output in app2.stream(\"Hrishikesh\"):\n",
    "    for key,value in output.items():\n",
    "        print(f\"Here is output from {key}\")\n",
    "        print(\"-----------\")\n",
    "        \n",
    "        print(value)\n",
    "        print(\"\\n\")"
   ]
  },
  {
   "cell_type": "code",
   "execution_count": 24,
   "metadata": {},
   "outputs": [
    {
     "data": {
      "image/png": "[encoded data removed]",
      "text/plain": [
       "<langgraph.graph.graph.CompiledGraph object at 0x000001A66D405D90>"
      ]
     },
     "execution_count": 24,
     "metadata": {},
     "output_type": "execute_result"
    }
   ],
   "source": [
    "# checking the graph after calling external function \"function3\"\n",
    "app2"
   ]
  },
  {
   "cell_type": "markdown",
   "metadata": {},
   "source": [
    "##### Workflow3: LLM + Simple Workflow"
   ]
  },
  {
   "cell_type": "code",
   "execution_count": 34,
   "metadata": {},
   "outputs": [
    {
     "name": "stdout",
     "output_type": "stream",
     "text": [
      "<langgraph.graph.graph.CompiledGraph object at 0x000001A66E434F50>\n",
      "THE CURRENT PRESIDENT OF INDIA IS DROUPADI MURMU. SHE TOOK OFFICE ON JULY 25, 2022, AND IS THE 15TH PRESIDENT OF INDIA. PRIOR TO HER PRESIDENCY, SHE SERVED AS THE GOVERNOR OF JHARKHAND FROM 2015 TO 2021.\n"
     ]
    }
   ],
   "source": [
    "# Initializing the LLM model\n",
    "llm = ChatGroq(model=\"llama-3.3-70b-versatile\",temperature=0)\n",
    "\n",
    "# Defining the 1st function\n",
    "def function1(input):\n",
    "    result = llm.invoke(input)\n",
    "    return result\n",
    "\n",
    "# Defining the 2nd function\n",
    "def ToUpper(input):\n",
    "    return input.content.upper()\n",
    "\n",
    "# Initializing workflow\n",
    "workflow3 = Graph()\n",
    "\n",
    "# Creating the nodes\n",
    "workflow3.add_node(\"LLM\",function1)\n",
    "workflow3.add_node(\"ToUpper\",ToUpper)\n",
    "\n",
    "# Creating edges\n",
    "workflow3.add_edge(\"LLM\",\"ToUpper\")\n",
    "\n",
    "# Defining start point and finish point\n",
    "workflow3.set_entry_point(\"LLM\")\n",
    "workflow3.set_finish_point(\"ToUpper\")\n",
    "\n",
    "# Compiling the workflow\n",
    "app3 = workflow3.compile()\n",
    "print(app3)\n",
    "\n",
    "# getting the response from workflow\n",
    "response = app3.invoke(\"Current precident of India\")\n",
    "print(response)"
   ]
  },
  {
   "cell_type": "markdown",
   "metadata": {},
   "source": [
    "##### Workflow4: LLM + Token Counter"
   ]
  },
  {
   "cell_type": "code",
   "execution_count": 38,
   "metadata": {},
   "outputs": [
    {
     "name": "stdout",
     "output_type": "stream",
     "text": [
      "Total tokens return : 154\n"
     ]
    }
   ],
   "source": [
    "# Initializing the LLM model\n",
    "llm = ChatGroq(model=\"llama-3.3-70b-versatile\",temperature=0)\n",
    "\n",
    "# Defining the 1st function\n",
    "def get_response(input):\n",
    "    result = llm.invoke(input)\n",
    "    return result\n",
    "\n",
    "# Defining the 2nd function\n",
    "def count_tokens(input):\n",
    "    tokens_lst = input.content.split()\n",
    "    return f\"Total tokens return : {len(tokens_lst)}\"\n",
    "\n",
    "# Initializing workflow\n",
    "workflow4 = Graph()\n",
    "\n",
    "# Creating the nodes\n",
    "workflow4.add_node(\"LLM\",function1)\n",
    "workflow4.add_node(\"Count Tokens\",count_tokens)\n",
    "\n",
    "# Creating edges\n",
    "workflow4.add_edge(\"LLM\",\"Count Tokens\")\n",
    "\n",
    "# Defining start point and finish point\n",
    "workflow4.set_entry_point(\"LLM\")\n",
    "workflow4.set_finish_point(\"Count Tokens\")\n",
    "\n",
    "# Compiling the workflow\n",
    "app4 = workflow4.compile()\n",
    "# print(app4)\n",
    "\n",
    "# getting the response from workflow\n",
    "response = app4.invoke(\"Rohit Sharama 200\")\n",
    "print(response)"
   ]
  },
  {
   "cell_type": "code",
   "execution_count": 39,
   "metadata": {},
   "outputs": [
    {
     "data": {
      "image/png": "[encoded data removed]",
      "text/plain": [
       "<langgraph.graph.graph.CompiledGraph object at 0x000001A66E47B450>"
      ]
     },
     "execution_count": 39,
     "metadata": {},
     "output_type": "execute_result"
    }
   ],
   "source": [
    "app4"
   ]
  },
  {
   "cell_type": "markdown",
   "metadata": {},
   "source": [
    "##### Workflow 5: LLM + RAG"
   ]
  },
  {
   "cell_type": "code",
   "execution_count": 53,
   "metadata": {},
   "outputs": [],
   "source": [
    "os.chdir(\"E:/Programming/Projects/LLM/Agents\")"
   ]
  },
  {
   "cell_type": "code",
   "execution_count": 54,
   "metadata": {},
   "outputs": [],
   "source": [
    "# Defining LLM model and Huggingface Embeddings\n",
    "llm = ChatGroq(model=\"llama-3.3-70b-versatile\",temperature=0)\n",
    "embeddings = HuggingFaceEmbeddings(model_name=\"all-MiniLM-L6-v2\")"
   ]
  },
  {
   "cell_type": "code",
   "execution_count": 57,
   "metadata": {},
   "outputs": [],
   "source": [
    "# Loading the articles from data folder\n",
    "loader = TextLoader(file_path=\"data/article.txt\")\n",
    "document = loader.load()\n",
    "\n",
    "# Chunking the document into multiple chunks\n",
    "text_splitter = RecursiveCharacterTextSplitter(chunk_size=100,chunk_overlap=30)\n",
    "docs = text_splitter.split_documents(document)"
   ]
  },
  {
   "cell_type": "code",
   "execution_count": 58,
   "metadata": {},
   "outputs": [],
   "source": [
    "# Storing the embeddings and chunks inside vector database\n",
    "db = Chroma.from_documents(documents=docs,embedding=embeddings)\n",
    "retriever = db.as_retriever(search_kwargs={\"k\":3})"
   ]
  },
  {
   "cell_type": "code",
   "execution_count": 64,
   "metadata": {},
   "outputs": [],
   "source": [
    "# Creating functions which works as nodes\n",
    "\n",
    "# Function1 \n",
    "def function1(AgentState:dict)->dict:\n",
    "    message = AgentState[\"messages\"]\n",
    "    question = message[-1]\n",
    "    \n",
    "    complete_prompt=\"Your task is to provide only the brief answer based on the user query. \\\n",
    "        Don't include too much reasoning. Following is the user query: \" + question\n",
    "        \n",
    "    response = llm.invoke(complete_prompt)\n",
    "    AgentState['messages'].append(response.content)\n",
    "    return AgentState\n",
    "\n",
    "\n",
    "# Function2 : Rag\n",
    "def function2(AgentState):\n",
    "    messages = AgentState[\"messages\"]\n",
    "    \n",
    "    question = messages[0]\n",
    "    template = \"\"\"Answer the question based only on the following context:\n",
    "    {context}\n",
    "\n",
    "    Question: {question}\n",
    "    \"\"\"\n",
    "    prompt = PromptTemplate.from_template(template=template)\n",
    "    \n",
    "    retrieval_chain = (\n",
    "        {\"context\":retriever,\"question\":RunnablePassthrough()}\n",
    "        | prompt\n",
    "        | llm\n",
    "        | StrOutputParser()\n",
    "    )\n",
    "    result =retrieval_chain.invoke(question)\n",
    "    return result"
   ]
  },
  {
   "cell_type": "code",
   "execution_count": 68,
   "metadata": {},
   "outputs": [],
   "source": [
    "workflow5 = Graph()\n",
    "workflow5.add_node(\"LLM\",function1)\n",
    "workflow5.add_node(\"RAGTool\",function2)\n",
    "\n",
    "workflow5.add_edge(start_key=\"LLM\",end_key=\"RAGTool\")\n",
    "workflow5.set_entry_point(\"LLM\")\n",
    "workflow5.set_finish_point(\"RAGTool\")\n",
    "\n",
    "app5 = workflow5.compile()\n",
    "# app5"
   ]
  },
  {
   "cell_type": "code",
   "execution_count": 69,
   "metadata": {},
   "outputs": [
    {
     "name": "stdout",
     "output_type": "stream",
     "text": [
      "Output from node : LLM\n",
      "-------------------\n",
      "{'messages': ['What is langgraph', 'LangGraph is an open-source, large language model developed by Meta AI.']}\n",
      "\n",
      "\n",
      "\n",
      "Output from node : RAGTool\n",
      "-------------------\n",
      "LangGraph is an open-source library developed by LangChain Inc. designed to facilitate the creation.\n",
      "\n",
      "\n",
      "\n"
     ]
    }
   ],
   "source": [
    "# Invoking the workflow to get response back\n",
    "app5.invoke({\"messages\":[\"What is langgraph\"]})\n",
    "\n",
    "# Use stream to get the answer\n",
    "input = {\"messages\":[\"What is langgraph\"]}\n",
    "for output in app5.stream(input):\n",
    "    for key,value in output.items():\n",
    "        print(f\"Output from node : {key}\")\n",
    "        print(\"-------------------\")\n",
    "        print(value)\n",
    "    print(\"\\n\\n\")"
   ]
  },
  {
   "cell_type": "markdown",
   "metadata": {},
   "source": [
    "##### Workflow6 : LLM + RAG + Router"
   ]
  },
  {
   "cell_type": "code",
   "execution_count": 7,
   "metadata": {},
   "outputs": [],
   "source": [
    "os.chdir(\"E:/Programming/Projects/LLM/Agents\")"
   ]
  },
  {
   "cell_type": "code",
   "execution_count": 8,
   "metadata": {},
   "outputs": [],
   "source": [
    "# Defining LLM model and Huggingface Embeddings\n",
    "llm = ChatGroq(model=\"llama-3.3-70b-versatile\",temperature=0)\n",
    "embeddings = HuggingFaceEmbeddings(model_name=\"all-MiniLM-L6-v2\")"
   ]
  },
  {
   "cell_type": "code",
   "execution_count": 9,
   "metadata": {},
   "outputs": [],
   "source": [
    "# Loading the articles from data folder\n",
    "loader = TextLoader(file_path=\"data/Indian_industrial_revolution.txt\")\n",
    "document = loader.load()\n",
    "\n",
    "# Chunking the document into multiple chunks\n",
    "text_splitter = RecursiveCharacterTextSplitter(chunk_size=100,chunk_overlap=30)\n",
    "docs = text_splitter.split_documents(document)"
   ]
  },
  {
   "cell_type": "code",
   "execution_count": 10,
   "metadata": {},
   "outputs": [],
   "source": [
    "# Storing the embeddings and chunks inside vector database\n",
    "db = Chroma.from_documents(documents=docs,embedding=embeddings)\n",
    "retriever = db.as_retriever(search_kwargs={\"k\":3})"
   ]
  },
  {
   "cell_type": "code",
   "execution_count": 11,
   "metadata": {},
   "outputs": [
    {
     "name": "stderr",
     "output_type": "stream",
     "text": [
      "C:\\Users\\admin\\AppData\\Local\\Temp\\ipykernel_5040\\2839617881.py:2: LangChainDeprecationWarning: The method `BaseRetriever.get_relevant_documents` was deprecated in langchain-core 0.1.46 and will be removed in 1.0. Use :meth:`~invoke` instead.\n",
      "  docs = retriever.get_relevant_documents(query)\n"
     ]
    },
    {
     "name": "stdout",
     "output_type": "stream",
     "text": [
      "{'source': 'data/Indian_industrial_revolution.txt'}\n",
      "evolution, colonial legacy, and modern economic progress. India's journey to industrialization\n",
      "page_content='evolution, colonial legacy, and modern economic progress. India's journey to industrialization' metadata={'source': 'data/Indian_industrial_revolution.txt'}\n",
      "page_content='The 21st Century: India’s Modern Industrial Revolution' metadata={'source': 'data/Indian_industrial_revolution.txt'}\n",
      "page_content='The Indian Industrial Revolution: A Catalyst for Economic Transformation' metadata={'source': 'data/Indian_industrial_revolution.txt'}\n"
     ]
    }
   ],
   "source": [
    "query = \"Tell me about India's Industrial Growth?\"\n",
    "docs = retriever.get_relevant_documents(query)\n",
    "print(docs[0].metadata)\n",
    "print(docs[0].page_content)\n",
    "\n",
    "for doc in docs:\n",
    "    print(doc)"
   ]
  },
  {
   "cell_type": "markdown",
   "metadata": {},
   "source": [
    "**TypedDict:**\n",
    "TypedDict is a special type that allows you to define a dictionary in Python where each key has a specific type. It’s useful when you want to enforce type checks on the keys and values of a dictionary.\n",
    "\n",
    "**Annotated:**\n",
    "Annotated is used to add metadata or constraints to a type. It’s typically used for adding additional information, like constraints or descriptions, to the type.\n",
    "\n",
    "**Sequence[BaseMessage]:**\n",
    "Sequence is a generic type from Python's typing module that represents a list-like structure (such as a list or tuple) where the order matters, and you can access elements by their position.\n",
    "\n",
    "**BaseMessage:**\n",
    "Basemessage: This assumes you're working with the LangChain framework, and BaseMessage is part of its core messaging system. It is typically used when handling or processing messages in LangChain's workflows\n",
    "\n",
    "**operator.add:**\n",
    "operator.add is a function from Python’s operator module that performs addition (+) on its arguments. In this context, operator.add is being used as metadata for the Annotated type, likely suggesting that the sequence of BaseMessage objects is meant to be \"added\" or concatenated with another sequence at some point. It’s an indicator of how the messages field will be treated in the logic of your program.\n",
    "\n",
    "**TopicSelectionParser:** A Pydantic model that defines two fields (Topic and Reasoning), both of which are required to be strings.\n",
    "\n",
    "**Field:** Adds metadata, like descriptions, and can also be used for validation and constraints.\n",
    "\n",
    "**Pydantic’s Role:** Ensures that the data matches the expected structure and types, raising validation errors if the data is invalid.\n",
    "\n",
    "**Putting It All Together:**\n",
    "\n",
    "- The line messages: Annotated[Sequence[BaseMessage], operator.add] defines a field messages that:\n",
    "\n",
    "- Must be a sequence (like a list or tuple) of BaseMessage objects. Has the additional annotation operator.add, which suggests that this sequence is intended to support addition (i.e., concatenation of multiple sequences of messages).\n",
    "\n",
    "**messages:** Annotated[Sequence[BaseMessage], operator.add]\n",
    "\n",
    "**\"messages\":** [BaseMessage(\"Hello!\", \"Alice\"), BaseMessage(\"Hi!\", \"Bob\")]"
   ]
  },
  {
   "cell_type": "code",
   "execution_count": 41,
   "metadata": {},
   "outputs": [],
   "source": [
    "class AgentState(TypedDict):\n",
    "    # The 'messages' field should be a sequence of strings, and we annotate it with 'operator.add'\n",
    "    # This implies we might want to \"add\" new messages to the sequence later\n",
    "    messages: Annotated[Sequence[BaseMessage], operator.add]"
   ]
  },
  {
   "cell_type": "code",
   "execution_count": 42,
   "metadata": {},
   "outputs": [],
   "source": [
    "class TopicSelectionParser(BaseModel):\n",
    "    Topic: str = Field(description='Selected Topic')\n",
    "    Reasoning: str = Field(description='Reasoning behind topic selection')"
   ]
  },
  {
   "cell_type": "code",
   "execution_count": 43,
   "metadata": {},
   "outputs": [],
   "source": [
    "parser = PydanticOutputParser(pydantic_object=TopicSelectionParser)"
   ]
  },
  {
   "cell_type": "code",
   "execution_count": 44,
   "metadata": {},
   "outputs": [
    {
     "name": "stdout",
     "output_type": "stream",
     "text": [
      "The output should be formatted as a JSON instance that conforms to the JSON schema below.\n",
      "\n",
      "As an example, for the schema {\"properties\": {\"foo\": {\"title\": \"Foo\", \"description\": \"a list of strings\", \"type\": \"array\", \"items\": {\"type\": \"string\"}}}, \"required\": [\"foo\"]}\n",
      "the object {\"foo\": [\"bar\", \"baz\"]} is a well-formatted instance of the schema. The object {\"properties\": {\"foo\": [\"bar\", \"baz\"]}} is not well-formatted.\n",
      "\n",
      "Here is the output schema:\n",
      "```\n",
      "{\"properties\": {\"Topic\": {\"description\": \"Selected Topic\", \"title\": \"Topic\", \"type\": \"string\"}, \"Reasoning\": {\"description\": \"Reasoning behind topic selection\", \"title\": \"Reasoning\", \"type\": \"string\"}}, \"required\": [\"Topic\", \"Reasoning\"]}\n",
      "```\n"
     ]
    }
   ],
   "source": [
    "print(parser.get_format_instructions())"
   ]
  },
  {
   "cell_type": "code",
   "execution_count": 57,
   "metadata": {},
   "outputs": [],
   "source": [
    "def function_1(state):\n",
    "    message=state[\"messages\"]\n",
    "    question=message[-1]\n",
    "    print(question)\n",
    "    \n",
    "    template=\"\"\"\n",
    "    Your task is to classify the given user query into one of the following categories: [Related to India,Not related to India]. \n",
    "    Only respond with the category name and nothing else.\n",
    "\n",
    "    User query: {question}\n",
    "    {format_instructions}\n",
    "    \"\"\"\n",
    "    \n",
    "    prompt = PromptTemplate(template=template,\n",
    "                                    input_variables=[question],\n",
    "                                    partial_variables={\n",
    "                                        \"format_instructions\" : parser.get_format_instructions()                                    }\n",
    "                                    )\n",
    "    chain =  (prompt | llm | parser)\n",
    "    \n",
    "    response = chain.invoke({\"question\":question,\"format_instructions\" : parser.get_format_instructions() })\n",
    "\n",
    "    print(response)\n",
    "\n",
    "    return {\"messages\": [response.Topic]}"
   ]
  },
  {
   "cell_type": "code",
   "execution_count": 58,
   "metadata": {},
   "outputs": [
    {
     "name": "stdout",
     "output_type": "stream",
     "text": [
      "Eiffel Tower\n",
      "Topic='Not related to India' Reasoning='The Eiffel Tower is a famous landmark located in Paris, France, and has no direct relation to India.'\n"
     ]
    },
    {
     "data": {
      "text/plain": [
       "{'messages': ['Not related to India']}"
      ]
     },
     "execution_count": 58,
     "metadata": {},
     "output_type": "execute_result"
    }
   ],
   "source": [
    "state={\"messages\": [\"Eiffel Tower\"]}\n",
    "function_1(state)"
   ]
  },
  {
   "cell_type": "code",
   "execution_count": 47,
   "metadata": {},
   "outputs": [],
   "source": [
    "def function_2(state):\n",
    "    print('-> Calling RAG ->')\n",
    "    messages = state['messages']\n",
    "    question = messages[0] ## Fetching the user question\n",
    "    print(question)\n",
    "\n",
    "    template = \"\"\"Answer the question based only on the following context:\n",
    "    {context}\n",
    "\n",
    "    Question: {question}\n",
    "    \"\"\"\n",
    "    prompt = ChatPromptTemplate.from_template(template)\n",
    "    \n",
    "    print(prompt)\n",
    "\n",
    "    retrieval_chain = (\n",
    "        {\"context\": retriever, \"question\": RunnablePassthrough()}\n",
    "        | prompt\n",
    "        | llm\n",
    "        | StrOutputParser()\n",
    "        )\n",
    "    result = retrieval_chain.invoke(question)\n",
    "    return  {\"messages\": [result]}"
   ]
  },
  {
   "cell_type": "code",
   "execution_count": 60,
   "metadata": {},
   "outputs": [
    {
     "name": "stdout",
     "output_type": "stream",
     "text": [
      "-> Calling RAG ->\n",
      "India\n",
      "input_variables=['context', 'question'] input_types={} partial_variables={} messages=[HumanMessagePromptTemplate(prompt=PromptTemplate(input_variables=['context', 'question'], input_types={}, partial_variables={}, template='Answer the question based only on the following context:\\n    {context}\\n\\n    Question: {question}\\n    '), additional_kwargs={})]\n"
     ]
    },
    {
     "data": {
      "text/plain": [
       "{'messages': [\"India's position as a global industrial leader. India's journey to industrialization. an emphasis on research and development will further solidify India’s position as a global\"]}"
      ]
     },
     "execution_count": 60,
     "metadata": {},
     "output_type": "execute_result"
    }
   ],
   "source": [
    "function_2({\"messages\":[\"India\"]})"
   ]
  },
  {
   "cell_type": "code",
   "execution_count": 49,
   "metadata": {},
   "outputs": [],
   "source": [
    "def function_3(state):\n",
    "    print('-> Calling LLM ->')\n",
    "\n",
    "    messages = state['messages']\n",
    "    question = messages[0] ## Fetching the user question\n",
    "\n",
    "    # Normal LLM call\n",
    "    complete_query = \"Anwer the follow question with your knowledge of the real world. Following is the user question: \" + question\n",
    "    response = llm.invoke(complete_query)\n",
    "    return {\"messages\": [response.content]}"
   ]
  },
  {
   "cell_type": "code",
   "execution_count": null,
   "metadata": {},
   "outputs": [],
   "source": [
    "function_3"
   ]
  },
  {
   "cell_type": "code",
   "execution_count": 67,
   "metadata": {},
   "outputs": [],
   "source": [
    "def router(state):\n",
    "    print('-> Router ->')\n",
    "    \n",
    "    messages = state[\"messages\"]\n",
    "    last_message = messages[-1]\n",
    "    print(f\"Last Message : {last_message}\")\n",
    "    if last_message == 'Related to India':\n",
    "        return 'Calling RAG'\n",
    "    elif last_message == 'Not related to India':\n",
    "        return 'Calling LLM'\n",
    "    else:\n",
    "        print('Unexpected classification result:', last_message)\n",
    "        # Handle unexpected result"
   ]
  },
  {
   "cell_type": "code",
   "execution_count": 68,
   "metadata": {},
   "outputs": [],
   "source": [
    "workflow6 = StateGraph(AgentState) ### StateGraph with AgentState\n",
    "workflow6.add_node(\"agent\", function_1)\n",
    "workflow6.add_node(\"RAG\", function_2)\n",
    "workflow6.add_node(\"LLM\", function_3)\n",
    "workflow6.set_entry_point(\"agent\")\n",
    "\n",
    "workflow6.add_conditional_edges(\n",
    "    \"agent\",\n",
    "    router,\n",
    "    {\n",
    "        \"Calling RAG\": \"RAG\",\n",
    "        \"Calling LLM\": \"LLM\",\n",
    "    }\n",
    ")\n",
    "\n",
    "workflow6.add_edge(\"RAG\",END)\n",
    "workflow6.add_edge(\"LLM\",END)\n",
    "app6=workflow6.compile()"
   ]
  },
  {
   "cell_type": "code",
   "execution_count": 69,
   "metadata": {},
   "outputs": [
    {
     "data": {
      "image/png": "[encoded data removed]",
      "text/plain": [
       "<langgraph.graph.state.CompiledStateGraph object at 0x0000022AE016FED0>"
      ]
     },
     "execution_count": 69,
     "metadata": {},
     "output_type": "execute_result"
    }
   ],
   "source": [
    "app6"
   ]
  },
  {
   "cell_type": "code",
   "execution_count": 71,
   "metadata": {},
   "outputs": [
    {
     "name": "stdout",
     "output_type": "stream",
     "text": [
      "Steve Smith\n",
      "Topic='Not related to India' Reasoning=\"The query 'Steve Smith' refers to an Australian cricketer, with no direct relation to India.\"\n",
      "-> Router ->\n",
      "Last Message : Not related to India\n",
      "-> Calling LLM ->\n"
     ]
    },
    {
     "data": {
      "text/plain": [
       "{'messages': ['Steve Smith',\n",
       "  'Not related to India',\n",
       "  \"There are several notable individuals named Steve Smith, so it's possible that you're referring to one of the following:\\n\\n1. Steve Smith (cricketer): An Australian international cricketer who has played for the Australian national team as a batsman. He is widely regarded as one of the best batsmen in the world.\\n2. Steve Smith (American football): A former American football wide receiver who played in the National Football League (NFL) for several teams, including the Carolina Panthers and Baltimore Ravens.\\n3. Steve Smith (musician): An American drummer who has played with several bands, including Journey and Vital Information.\\n4. Steve Smith (basketball): An American former professional basketball player who played in the NBA for several teams, including the Miami Heat and San Antonio Spurs.\\n\\nWithout more context, it's difficult to determine which Steve Smith you are referring to. If you could provide more information or clarify which Steve Smith you are interested in, I'd be happy to try and provide more specific information.\"]}"
      ]
     },
     "execution_count": 71,
     "metadata": {},
     "output_type": "execute_result"
    }
   ],
   "source": [
    "inputs = {\"messages\": [\"Steve Smith\"]}\n",
    "app6.invoke(inputs)"
   ]
  },
  {
   "cell_type": "code",
   "execution_count": null,
   "metadata": {},
   "outputs": [],
   "source": []
  }
 ],
 "metadata": {
  "kernelspec": {
   "display_name": "env_phidata_agents",
   "language": "python",
   "name": "python3"
  },
  "language_info": {
   "codemirror_mode": {
    "name": "ipython",
    "version": 3
   },
   "file_extension": ".py",
   "mimetype": "text/x-python",
   "name": "python",
   "nbconvert_exporter": "python",
   "pygments_lexer": "ipython3",
   "version": "3.11.11"
  }
 },
 "nbformat": 4,
 "nbformat_minor": 2
}
