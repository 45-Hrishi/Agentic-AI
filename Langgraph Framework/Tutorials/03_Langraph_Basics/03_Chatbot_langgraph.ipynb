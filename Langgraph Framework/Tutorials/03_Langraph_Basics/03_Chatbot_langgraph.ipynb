{
 "cells": [
  {
   "cell_type": "code",
   "execution_count": 1,
   "metadata": {},
   "outputs": [
    {
     "data": {
      "text/plain": [
       "True"
      ]
     },
     "execution_count": 1,
     "metadata": {},
     "output_type": "execute_result"
    }
   ],
   "source": [
    "# Importing required libraires and packages\n",
    "\n",
    "import os\n",
    "from dotenv import load_dotenv\n",
    "from langgraph.graph import MessagesState,StateGraph,Graph,START,END\n",
    "from langgraph.graph.message import add_messages\n",
    "from langgraph.prebuilt import ToolNode\n",
    "from langgraph.checkpoint.memory import MemorySaver\n",
    "from langchain.prompts import PromptTemplate,ChatPromptTemplate\n",
    "from langchain_chroma import Chroma\n",
    "from langchain_groq import ChatGroq\n",
    "from langchain_huggingface import HuggingFaceEmbeddings\n",
    "from langchain_text_splitters import RecursiveCharacterTextSplitter\n",
    "from typing import Annotated, Literal, TypedDict\n",
    "from langchain_core.tools import tool\n",
    "from langchain_core.messages import HumanMessage\n",
    "from langchain_community.tools import TavilySearchResults\n",
    "from langchain_core.messages import ToolMessage\n",
    "load_dotenv()"
   ]
  },
  {
   "cell_type": "code",
   "execution_count": 2,
   "metadata": {},
   "outputs": [],
   "source": [
    "# loading the environment variables\n",
    "os.environ[\"HUGGINGFACEHUB_API_TOKEN\"] = os.getenv(\"HUGGINGFACEHUB_API_TOKEN\")\n",
    "os.environ[\"GROQ_API_KEY\"] = os.getenv(\"GROQ_API_KEY\")\n",
    "os.environ[\"MISTRAL_API_KEY\"] = os.getenv(\"MISTRAL_API_KEY\")\n",
    "os.environ[\"TAVILY_API_KEY\"] = os.getenv(\"TAVILY_API_KEY\")"
   ]
  },
  {
   "cell_type": "code",
   "execution_count": 3,
   "metadata": {},
   "outputs": [],
   "source": [
    "# Define the llm using chatgroq\n",
    "llm = ChatGroq(model=\"llama-3.3-70b-versatile\",temperature=0)"
   ]
  },
  {
   "cell_type": "markdown",
   "metadata": {},
   "source": [
    "##### Simple Workflow"
   ]
  },
  {
   "cell_type": "code",
   "execution_count": 4,
   "metadata": {},
   "outputs": [],
   "source": [
    "def call_model(state:MessagesState):\n",
    "    messages = state['messages']\n",
    "    response = llm.invoke(messages)\n",
    "    return {\"messages\":response}\n"
   ]
  },
  {
   "cell_type": "code",
   "execution_count": 5,
   "metadata": {},
   "outputs": [
    {
     "data": {
      "image/png": "[encoded data removed]",
      "text/plain": [
       "<langgraph.graph.state.CompiledStateGraph object at 0x000001DB6DDBA590>"
      ]
     },
     "execution_count": 5,
     "metadata": {},
     "output_type": "execute_result"
    }
   ],
   "source": [
    "# Create a simple workflow\n",
    "workflow = StateGraph(MessagesState)\n",
    "workflow.add_node(\"chatbot\",call_model)\n",
    "workflow.add_edge(START,\"chatbot\")\n",
    "workflow.add_edge(\"chatbot\",END)\n",
    "app = workflow.compile()\n",
    "app"
   ]
  },
  {
   "cell_type": "code",
   "execution_count": 6,
   "metadata": {},
   "outputs": [
    {
     "name": "stdout",
     "output_type": "stream",
     "text": [
      "[HumanMessage(content='Hi My name is Hrishikesh', additional_kwargs={}, response_metadata={}, id='205cd256-c80e-4c2e-9e5d-dd41c601d5e2'), HumanMessage(content='My surname is Kothawade', additional_kwargs={}, response_metadata={}, id='522b3b87-2c2b-4433-a69a-72fb144480a4'), AIMessage(content='Nice to meet you, Hrishikesh Kothawade! How are you doing today? Is there something I can help you with or would you like to chat?', additional_kwargs={}, response_metadata={'token_usage': {'completion_tokens': 36, 'prompt_tokens': 55, 'total_tokens': 91, 'completion_time': 0.171859278, 'prompt_time': 0.012848039, 'queue_time': 0.02045314, 'total_time': 0.184707317}, 'model_name': 'llama-3.3-70b-versatile', 'system_fingerprint': 'fp_c0cfa69934', 'finish_reason': 'stop', 'logprobs': None}, id='run-810dce26-5a7d-4b36-8037-089918b67087-0', usage_metadata={'input_tokens': 55, 'output_tokens': 36, 'total_tokens': 91})]\n"
     ]
    }
   ],
   "source": [
    "# invoking the response by providing the input\n",
    "input = {\"messages\":[\"Hi My name is Hrishikesh\",\"My surname is Kothawade\"]}\n",
    "response = app.invoke(input)\n",
    "print(response[\"messages\"])"
   ]
  },
  {
   "cell_type": "code",
   "execution_count": 7,
   "metadata": {},
   "outputs": [
    {
     "name": "stdout",
     "output_type": "stream",
     "text": [
      "Output from the chatbot Node\n",
      "_________________________\n",
      "{'messages': AIMessage(content='Nice to meet you, Hrishikesh Kothawade! How are you doing today? Is there something I can help you with or would you like to chat?', additional_kwargs={}, response_metadata={'token_usage': {'completion_tokens': 36, 'prompt_tokens': 55, 'total_tokens': 91, 'completion_time': 0.17131415, 'prompt_time': 0.013072212, 'queue_time': 0.021207155, 'total_time': 0.184386362}, 'model_name': 'llama-3.3-70b-versatile', 'system_fingerprint': 'fp_3884478861', 'finish_reason': 'stop', 'logprobs': None}, id='run-738c27f7-18ae-481c-b6be-131230b6355c-0', usage_metadata={'input_tokens': 55, 'output_tokens': 36, 'total_tokens': 91})}\n",
      "\n",
      "\n"
     ]
    }
   ],
   "source": [
    "# Streaming the output\n",
    "for output in app.stream(input):\n",
    "    for key,value in output.items():\n",
    "        print(f\"Output from the {key} Node\")\n",
    "        print(\"_________________________\")\n",
    "        print(value)\n",
    "        print(\"\\n\")"
   ]
  },
  {
   "cell_type": "markdown",
   "metadata": {},
   "source": [
    "##### Workflow with custom tool"
   ]
  },
  {
   "cell_type": "code",
   "execution_count": 8,
   "metadata": {},
   "outputs": [],
   "source": [
    "# Custom tool\n",
    "@tool\n",
    "def search(query: str):\n",
    "    \"\"\"this is my custom tool.\"\"\"\n",
    "    if \"sf\" in query.lower() or \"san francisco\" in query.lower():\n",
    "        return \"It's 60 degrees and foggy.\"\n",
    "    return \"It's 90 degrees and sunny.\""
   ]
  },
  {
   "cell_type": "code",
   "execution_count": 9,
   "metadata": {},
   "outputs": [
    {
     "data": {
      "text/plain": [
       "\"It's 60 degrees and foggy.\""
      ]
     },
     "execution_count": 9,
     "metadata": {},
     "output_type": "execute_result"
    }
   ],
   "source": [
    "search.invoke(\"What is temperature in India\")\n",
    "search.invoke(\"What temperature in SF\")"
   ]
  },
  {
   "cell_type": "code",
   "execution_count": 10,
   "metadata": {},
   "outputs": [],
   "source": [
    "# placed custom tool inside the list\n",
    "tools = [search]\n",
    "\n",
    "# create the node of tool\n",
    "tool_node = ToolNode(tools=tools)\n",
    "\n",
    "# Bind the tools with the LLM\n",
    "llm_with_tools = llm.bind_tools(tools)\n"
   ]
  },
  {
   "cell_type": "code",
   "execution_count": 11,
   "metadata": {},
   "outputs": [],
   "source": [
    "# Agent\n",
    "def call_model(state:MessagesState):\n",
    "    messages = state['messages']\n",
    "    response = llm_with_tools.invoke(messages)\n",
    "    return {\"messages\":response}"
   ]
  },
  {
   "cell_type": "code",
   "execution_count": 12,
   "metadata": {},
   "outputs": [],
   "source": [
    "# Router function to route to specific tool\n",
    "def router_function(state: MessagesState) -> Literal[\"tools\", END]:\n",
    "    #print(f\"here is a state from should continue {state}\")\n",
    "    messages = state['messages']\n",
    "    last_message = messages[-1]\n",
    "    #print(f\"here is a last message from should continue {last_message}\")\n",
    "    if last_message.tool_calls:\n",
    "        return \"tools\"\n",
    "    return END"
   ]
  },
  {
   "cell_type": "code",
   "execution_count": 13,
   "metadata": {},
   "outputs": [],
   "source": [
    "# desgin the workflow now\n",
    "workflow = StateGraph(MessagesState)\n",
    "\n",
    "workflow.add_node(\"agent\",call_model)\n",
    "workflow.add_node(\"tools\",tool_node)\n",
    "\n",
    "workflow.add_edge(START,\"agent\")\n",
    "workflow.add_conditional_edges(\"agent\",router_function,{\"tools\":\"tools\",END:END})\n",
    "\n",
    "app = workflow.compile()"
   ]
  },
  {
   "cell_type": "code",
   "execution_count": 14,
   "metadata": {},
   "outputs": [
    {
     "data": {
      "image/png": "[encoded data removed]",
      "text/plain": [
       "<langgraph.graph.state.CompiledStateGraph object at 0x000001DB6D12F9D0>"
      ]
     },
     "execution_count": 14,
     "metadata": {},
     "output_type": "execute_result"
    }
   ],
   "source": [
    "app"
   ]
  },
  {
   "cell_type": "code",
   "execution_count": 15,
   "metadata": {},
   "outputs": [
    {
     "data": {
      "text/plain": [
       "{'messages': [HumanMessage(content='How are you?', additional_kwargs={}, response_metadata={}, id='40247979-f19b-46cd-bdc5-7945ed10f3ce'),\n",
       "  AIMessage(content=\"I'm just a language model, so I don't have feelings or emotions like humans do, but I'm functioning properly and ready to assist you. Is there something I can help you with?\", additional_kwargs={}, response_metadata={'token_usage': {'completion_tokens': 40, 'prompt_tokens': 212, 'total_tokens': 252, 'completion_time': 0.145454545, 'prompt_time': 0.025401219, 'queue_time': 0.023408012000000002, 'total_time': 0.170855764}, 'model_name': 'llama-3.3-70b-versatile', 'system_fingerprint': 'fp_4e32347616', 'finish_reason': 'stop', 'logprobs': None}, id='run-4370b1d6-016b-49a9-bbd2-3a396762f520-0', usage_metadata={'input_tokens': 212, 'output_tokens': 40, 'total_tokens': 252})]}"
      ]
     },
     "execution_count": 15,
     "metadata": {},
     "output_type": "execute_result"
    }
   ],
   "source": [
    "response = app.invoke({\"messages\":[\"How are you?\"]})\n",
    "response"
   ]
  },
  {
   "cell_type": "code",
   "execution_count": 16,
   "metadata": {},
   "outputs": [
    {
     "data": {
      "text/plain": [
       "{'messages': [HumanMessage(content='What temperature in SF', additional_kwargs={}, response_metadata={}, id='472752f2-7e92-4671-9241-4af6a53303cc'),\n",
       "  AIMessage(content='', additional_kwargs={'tool_calls': [{'id': 'call_1hfe', 'function': {'arguments': '{\"query\": \"San Francisco temperature\"}', 'name': 'search'}, 'type': 'function'}]}, response_metadata={'token_usage': {'completion_tokens': 15, 'prompt_tokens': 212, 'total_tokens': 227, 'completion_time': 0.054545455, 'prompt_time': 0.023673452, 'queue_time': 0.029606406999999998, 'total_time': 0.078218907}, 'model_name': 'llama-3.3-70b-versatile', 'system_fingerprint': 'fp_4196e754db', 'finish_reason': 'tool_calls', 'logprobs': None}, id='run-2292fc14-14e4-4ace-8b12-ec9917cede1f-0', tool_calls=[{'name': 'search', 'args': {'query': 'San Francisco temperature'}, 'id': 'call_1hfe', 'type': 'tool_call'}], usage_metadata={'input_tokens': 212, 'output_tokens': 15, 'total_tokens': 227}),\n",
       "  ToolMessage(content=\"It's 60 degrees and foggy.\", name='search', id='e64835f2-3a49-441b-b3b6-707a7ba95d47', tool_call_id='call_1hfe')]}"
      ]
     },
     "execution_count": 16,
     "metadata": {},
     "output_type": "execute_result"
    }
   ],
   "source": [
    "app.invoke({\"messages\": [\"What temperature in SF\"]})"
   ]
  },
  {
   "cell_type": "markdown",
   "metadata": {},
   "source": [
    "##### Looping in the workflow"
   ]
  },
  {
   "cell_type": "code",
   "execution_count": 17,
   "metadata": {},
   "outputs": [],
   "source": [
    "# Now create the loop from tools to agent\n",
    "workflow = StateGraph(MessagesState)\n",
    "\n",
    "workflow.add_node(\"agent\",call_model)\n",
    "workflow.add_node(\"tools\",tool_node)\n",
    "\n",
    "workflow.add_edge(START,\"agent\")\n",
    "workflow.add_conditional_edges(\"agent\",router_function,{\"tools\":\"tools\",END:END})\n",
    "loop_app = workflow.compile()"
   ]
  },
  {
   "cell_type": "code",
   "execution_count": 18,
   "metadata": {},
   "outputs": [
    {
     "name": "stderr",
     "output_type": "stream",
     "text": [
      "Adding an edge to a graph that has already been compiled. This will not be reflected in the compiled graph.\n"
     ]
    }
   ],
   "source": [
    "workflow.add_edge(\"tools\",\"agent\")\n",
    "loop_app =workflow.compile()"
   ]
  },
  {
   "cell_type": "code",
   "execution_count": 19,
   "metadata": {},
   "outputs": [
    {
     "data": {
      "image/png": "[encoded data removed]",
      "text/plain": [
       "<langgraph.graph.state.CompiledStateGraph object at 0x000001DB6EFC4D50>"
      ]
     },
     "execution_count": 19,
     "metadata": {},
     "output_type": "execute_result"
    }
   ],
   "source": [
    "loop_app"
   ]
  },
  {
   "cell_type": "code",
   "execution_count": 20,
   "metadata": {},
   "outputs": [
    {
     "name": "stdout",
     "output_type": "stream",
     "text": [
      "here is output from agent\n",
      "_______\n",
      "{'messages': AIMessage(content='', additional_kwargs={'tool_calls': [{'id': 'call_byey', 'function': {'arguments': '{\"query\": \"San Francisco weather\"}', 'name': 'search'}, 'type': 'function'}]}, response_metadata={'token_usage': {'completion_tokens': 15, 'prompt_tokens': 214, 'total_tokens': 229, 'completion_time': 0.054545455, 'prompt_time': 0.023893102, 'queue_time': 0.026796918000000003, 'total_time': 0.078438557}, 'model_name': 'llama-3.3-70b-versatile', 'system_fingerprint': 'fp_4196e754db', 'finish_reason': 'tool_calls', 'logprobs': None}, id='run-77eb639c-de67-4881-b73b-6f75467b6774-0', tool_calls=[{'name': 'search', 'args': {'query': 'San Francisco weather'}, 'id': 'call_byey', 'type': 'tool_call'}], usage_metadata={'input_tokens': 214, 'output_tokens': 15, 'total_tokens': 229})}\n",
      "\n",
      "\n",
      "here is output from tools\n",
      "_______\n",
      "{'messages': [ToolMessage(content=\"It's 60 degrees and foggy.\", name='search', id='0748c157-0504-47ad-918e-aed29170a073', tool_call_id='call_byey')]}\n",
      "\n",
      "\n",
      "here is output from agent\n",
      "_______\n",
      "{'messages': AIMessage(content='', additional_kwargs={'tool_calls': [{'id': 'call_xe24', 'function': {'arguments': '{\"query\": \"current weather in San Francisco\"}', 'name': 'search'}, 'type': 'function'}]}, response_metadata={'token_usage': {'completion_tokens': 17, 'prompt_tokens': 248, 'total_tokens': 265, 'completion_time': 0.081234936, 'prompt_time': 0.052280133, 'queue_time': 0.082683475, 'total_time': 0.133515069}, 'model_name': 'llama-3.3-70b-versatile', 'system_fingerprint': 'fp_c0cfa69934', 'finish_reason': 'tool_calls', 'logprobs': None}, id='run-363763f2-ff78-4a5e-8223-cc987c2c398f-0', tool_calls=[{'name': 'search', 'args': {'query': 'current weather in San Francisco'}, 'id': 'call_xe24', 'type': 'tool_call'}], usage_metadata={'input_tokens': 248, 'output_tokens': 17, 'total_tokens': 265})}\n",
      "\n",
      "\n",
      "here is output from tools\n",
      "_______\n",
      "{'messages': [ToolMessage(content=\"It's 60 degrees and foggy.\", name='search', id='3064f876-b707-40a3-bd79-bb98aede2a3f', tool_call_id='call_xe24')]}\n",
      "\n",
      "\n",
      "here is output from agent\n",
      "_______\n",
      "{'messages': AIMessage(content='', additional_kwargs={'tool_calls': [{'id': 'call_ew1b', 'function': {'arguments': '{\"query\": \"San Francisco weather forecast\"}', 'name': 'search'}, 'type': 'function'}]}, response_metadata={'token_usage': {'completion_tokens': 16, 'prompt_tokens': 284, 'total_tokens': 300, 'completion_time': 0.058181818, 'prompt_time': 0.03080649, 'queue_time': 0.027327637000000002, 'total_time': 0.088988308}, 'model_name': 'llama-3.3-70b-versatile', 'system_fingerprint': 'fp_4196e754db', 'finish_reason': 'tool_calls', 'logprobs': None}, id='run-b29821d8-6327-4f0e-8206-9b5f450c263e-0', tool_calls=[{'name': 'search', 'args': {'query': 'San Francisco weather forecast'}, 'id': 'call_ew1b', 'type': 'tool_call'}], usage_metadata={'input_tokens': 284, 'output_tokens': 16, 'total_tokens': 300})}\n",
      "\n",
      "\n",
      "here is output from tools\n",
      "_______\n",
      "{'messages': [ToolMessage(content=\"It's 60 degrees and foggy.\", name='search', id='c803b400-f064-4cb6-a63c-eb2ee1a7d92d', tool_call_id='call_ew1b')]}\n",
      "\n",
      "\n",
      "here is output from agent\n",
      "_______\n",
      "{'messages': AIMessage(content='', additional_kwargs={'tool_calls': [{'id': 'call_tet3', 'function': {'arguments': '{\"query\": \"San Francisco weather today\"}', 'name': 'search'}, 'type': 'function'}]}, response_metadata={'token_usage': {'completion_tokens': 16, 'prompt_tokens': 319, 'total_tokens': 335, 'completion_time': 0.058181818, 'prompt_time': 0.034198178, 'queue_time': 0.027176019999999995, 'total_time': 0.092379996}, 'model_name': 'llama-3.3-70b-versatile', 'system_fingerprint': 'fp_4196e754db', 'finish_reason': 'tool_calls', 'logprobs': None}, id='run-b205774c-a897-4c18-883a-e7c7ca75e9bc-0', tool_calls=[{'name': 'search', 'args': {'query': 'San Francisco weather today'}, 'id': 'call_tet3', 'type': 'tool_call'}], usage_metadata={'input_tokens': 319, 'output_tokens': 16, 'total_tokens': 335})}\n",
      "\n",
      "\n",
      "here is output from tools\n",
      "_______\n",
      "{'messages': [ToolMessage(content=\"It's 60 degrees and foggy.\", name='search', id='2856440e-f223-489d-ae0a-499c4bf7b566', tool_call_id='call_tet3')]}\n",
      "\n",
      "\n",
      "here is output from agent\n",
      "_______\n",
      "{'messages': AIMessage(content='', additional_kwargs={'tool_calls': [{'id': 'call_mnpg', 'function': {'arguments': '{\"query\": \"San Francisco current weather\"}', 'name': 'search'}, 'type': 'function'}]}, response_metadata={'token_usage': {'completion_tokens': 16, 'prompt_tokens': 354, 'total_tokens': 370, 'completion_time': 0.058181818, 'prompt_time': 0.04446177, 'queue_time': 0.021683298000000004, 'total_time': 0.102643588}, 'model_name': 'llama-3.3-70b-versatile', 'system_fingerprint': 'fp_fcc3b74982', 'finish_reason': 'tool_calls', 'logprobs': None}, id='run-d7359f26-28e1-4b98-baf3-43c99db1b360-0', tool_calls=[{'name': 'search', 'args': {'query': 'San Francisco current weather'}, 'id': 'call_mnpg', 'type': 'tool_call'}], usage_metadata={'input_tokens': 354, 'output_tokens': 16, 'total_tokens': 370})}\n",
      "\n",
      "\n",
      "here is output from tools\n",
      "_______\n",
      "{'messages': [ToolMessage(content=\"It's 60 degrees and foggy.\", name='search', id='b6bf8778-06b2-438d-8a23-17135f404910', tool_call_id='call_mnpg')]}\n",
      "\n",
      "\n",
      "here is output from agent\n",
      "_______\n",
      "{'messages': AIMessage(content='', additional_kwargs={'tool_calls': [{'id': 'call_v6x0', 'function': {'arguments': '{\"query\": \"weather in San Francisco\"}', 'name': 'search'}, 'type': 'function'}]}, response_metadata={'token_usage': {'completion_tokens': 16, 'prompt_tokens': 389, 'total_tokens': 405, 'completion_time': 0.058181818, 'prompt_time': 0.048628649, 'queue_time': 0.022238068999999992, 'total_time': 0.106810467}, 'model_name': 'llama-3.3-70b-versatile', 'system_fingerprint': 'fp_4e32347616', 'finish_reason': 'tool_calls', 'logprobs': None}, id='run-1cca4359-5e86-42a1-b319-c0d53f093cc2-0', tool_calls=[{'name': 'search', 'args': {'query': 'weather in San Francisco'}, 'id': 'call_v6x0', 'type': 'tool_call'}], usage_metadata={'input_tokens': 389, 'output_tokens': 16, 'total_tokens': 405})}\n",
      "\n",
      "\n",
      "here is output from tools\n",
      "_______\n",
      "{'messages': [ToolMessage(content=\"It's 60 degrees and foggy.\", name='search', id='b89aa2a1-fb9b-45c9-855b-ece5ea706de4', tool_call_id='call_v6x0')]}\n",
      "\n",
      "\n",
      "here is output from agent\n",
      "_______\n",
      "{'messages': AIMessage(content='', additional_kwargs={'tool_calls': [{'id': 'call_5mma', 'function': {'arguments': '{\"query\": \"San Francisco weather now\"}', 'name': 'search'}, 'type': 'function'}]}, response_metadata={'token_usage': {'completion_tokens': 16, 'prompt_tokens': 424, 'total_tokens': 440, 'completion_time': 0.079052389, 'prompt_time': 0.086295942, 'queue_time': 0.15242582, 'total_time': 0.165348331}, 'model_name': 'llama-3.3-70b-versatile', 'system_fingerprint': 'fp_3884478861', 'finish_reason': 'tool_calls', 'logprobs': None}, id='run-f81d5ffb-fdd3-4bed-ae4b-39cf604bf854-0', tool_calls=[{'name': 'search', 'args': {'query': 'San Francisco weather now'}, 'id': 'call_5mma', 'type': 'tool_call'}], usage_metadata={'input_tokens': 424, 'output_tokens': 16, 'total_tokens': 440})}\n",
      "\n",
      "\n",
      "here is output from tools\n",
      "_______\n",
      "{'messages': [ToolMessage(content=\"It's 60 degrees and foggy.\", name='search', id='ddcd8df6-c100-4853-908d-e1729ed6fbc7', tool_call_id='call_5mma')]}\n",
      "\n",
      "\n",
      "here is output from agent\n",
      "_______\n",
      "{'messages': AIMessage(content='', additional_kwargs={'tool_calls': [{'id': 'call_xg7k', 'function': {'arguments': '{\"query\": \"current San Francisco weather\"}', 'name': 'search'}, 'type': 'function'}]}, response_metadata={'token_usage': {'completion_tokens': 16, 'prompt_tokens': 459, 'total_tokens': 475, 'completion_time': 0.081469265, 'prompt_time': 0.087822865, 'queue_time': 0.24977072400000003, 'total_time': 0.16929213}, 'model_name': 'llama-3.3-70b-versatile', 'system_fingerprint': 'fp_c0cfa69934', 'finish_reason': 'tool_calls', 'logprobs': None}, id='run-56763cdc-06e1-40c0-84f9-3d247902e0e3-0', tool_calls=[{'name': 'search', 'args': {'query': 'current San Francisco weather'}, 'id': 'call_xg7k', 'type': 'tool_call'}], usage_metadata={'input_tokens': 459, 'output_tokens': 16, 'total_tokens': 475})}\n",
      "\n",
      "\n",
      "here is output from tools\n",
      "_______\n",
      "{'messages': [ToolMessage(content=\"It's 60 degrees and foggy.\", name='search', id='6daa01d2-dddb-41c8-8b52-61da4b1e4133', tool_call_id='call_xg7k')]}\n",
      "\n",
      "\n",
      "here is output from agent\n",
      "_______\n",
      "{'messages': AIMessage(content='', additional_kwargs={'tool_calls': [{'id': 'call_8h8x', 'function': {'arguments': '{\"query\": \"San Francisco weather today now\"}', 'name': 'search'}, 'type': 'function'}]}, response_metadata={'token_usage': {'completion_tokens': 17, 'prompt_tokens': 494, 'total_tokens': 511, 'completion_time': 0.086100573, 'prompt_time': 0.093316529, 'queue_time': 1.488319181, 'total_time': 0.179417102}, 'model_name': 'llama-3.3-70b-versatile', 'system_fingerprint': 'fp_c0cfa69934', 'finish_reason': 'tool_calls', 'logprobs': None}, id='run-0d043ac7-8bfe-4b90-b82a-113432dded36-0', tool_calls=[{'name': 'search', 'args': {'query': 'San Francisco weather today now'}, 'id': 'call_8h8x', 'type': 'tool_call'}], usage_metadata={'input_tokens': 494, 'output_tokens': 17, 'total_tokens': 511})}\n",
      "\n",
      "\n",
      "here is output from tools\n",
      "_______\n",
      "{'messages': [ToolMessage(content=\"It's 60 degrees and foggy.\", name='search', id='cf9670a3-fda4-4b7c-b58a-27d9603bc107', tool_call_id='call_8h8x')]}\n",
      "\n",
      "\n",
      "here is output from agent\n",
      "_______\n",
      "{'messages': AIMessage(content='', additional_kwargs={'tool_calls': [{'id': 'call_eswx', 'function': {'arguments': '{\"query\": \"San Francisco weather\"}', 'name': 'search'}, 'type': 'function'}]}, response_metadata={'token_usage': {'completion_tokens': 15, 'prompt_tokens': 530, 'total_tokens': 545, 'completion_time': 0.054545455, 'prompt_time': 0.061318521, 'queue_time': 0.022472428000000003, 'total_time': 0.115863976}, 'model_name': 'llama-3.3-70b-versatile', 'system_fingerprint': 'fp_fcc3b74982', 'finish_reason': 'tool_calls', 'logprobs': None}, id='run-2acd243a-f4cb-4fbd-bb7e-e6dfa91c5441-0', tool_calls=[{'name': 'search', 'args': {'query': 'San Francisco weather'}, 'id': 'call_eswx', 'type': 'tool_call'}], usage_metadata={'input_tokens': 530, 'output_tokens': 15, 'total_tokens': 545})}\n",
      "\n",
      "\n",
      "here is output from tools\n",
      "_______\n",
      "{'messages': [ToolMessage(content=\"It's 60 degrees and foggy.\", name='search', id='224a9832-acb9-484b-9e10-5190d8cfe6b1', tool_call_id='call_eswx')]}\n",
      "\n",
      "\n",
      "here is output from agent\n",
      "_______\n",
      "{'messages': AIMessage(content='', additional_kwargs={'tool_calls': [{'id': 'call_g9wj', 'function': {'arguments': '{\"query\": \"San Francisco weather forecast today\"}', 'name': 'search'}, 'type': 'function'}]}, response_metadata={'token_usage': {'completion_tokens': 17, 'prompt_tokens': 564, 'total_tokens': 581, 'completion_time': 0.061818182, 'prompt_time': 0.06116397, 'queue_time': 0.027658887000000007, 'total_time': 0.122982152}, 'model_name': 'llama-3.3-70b-versatile', 'system_fingerprint': 'fp_4196e754db', 'finish_reason': 'tool_calls', 'logprobs': None}, id='run-5d3dc6ac-573f-4460-8077-77cd3cf904e4-0', tool_calls=[{'name': 'search', 'args': {'query': 'San Francisco weather forecast today'}, 'id': 'call_g9wj', 'type': 'tool_call'}], usage_metadata={'input_tokens': 564, 'output_tokens': 17, 'total_tokens': 581})}\n",
      "\n",
      "\n",
      "here is output from tools\n",
      "_______\n",
      "{'messages': [ToolMessage(content=\"It's 60 degrees and foggy.\", name='search', id='6627c78e-69d5-4601-a761-0cb32dc4d13e', tool_call_id='call_g9wj')]}\n",
      "\n",
      "\n",
      "here is output from agent\n",
      "_______\n",
      "{'messages': AIMessage(content='', additional_kwargs={'tool_calls': [{'id': 'call_zw4z', 'function': {'arguments': '{\"query\": \"San Francisco current weather forecast\"}', 'name': 'search'}, 'type': 'function'}]}, response_metadata={'token_usage': {'completion_tokens': 17, 'prompt_tokens': 600, 'total_tokens': 617, 'completion_time': 0.061818182, 'prompt_time': 0.072015819, 'queue_time': 0.022010175000000007, 'total_time': 0.133834001}, 'model_name': 'llama-3.3-70b-versatile', 'system_fingerprint': 'fp_fcc3b74982', 'finish_reason': 'tool_calls', 'logprobs': None}, id='run-1cb9fdb1-4a92-432d-aac9-409c828c7435-0', tool_calls=[{'name': 'search', 'args': {'query': 'San Francisco current weather forecast'}, 'id': 'call_zw4z', 'type': 'tool_call'}], usage_metadata={'input_tokens': 600, 'output_tokens': 17, 'total_tokens': 617})}\n",
      "\n",
      "\n",
      "here is output from tools\n",
      "_______\n",
      "{'messages': [ToolMessage(content=\"It's 60 degrees and foggy.\", name='search', id='4964ca88-1a95-4dd3-8d7d-f3f32aa91b6e', tool_call_id='call_zw4z')]}\n",
      "\n",
      "\n",
      "here is output from agent\n",
      "_______\n",
      "{'messages': AIMessage(content='', additional_kwargs={'tool_calls': [{'id': 'call_ww6k', 'function': {'arguments': '{\"query\": \"San Francisco weather today forecast\"}', 'name': 'search'}, 'type': 'function'}]}, response_metadata={'token_usage': {'completion_tokens': 17, 'prompt_tokens': 636, 'total_tokens': 653, 'completion_time': 0.061818182, 'prompt_time': 0.072830807, 'queue_time': 0.020870081999999998, 'total_time': 0.134648989}, 'model_name': 'llama-3.3-70b-versatile', 'system_fingerprint': 'fp_fcc3b74982', 'finish_reason': 'tool_calls', 'logprobs': None}, id='run-a5d35abb-8bb9-4b75-b7c3-d5483121e52e-0', tool_calls=[{'name': 'search', 'args': {'query': 'San Francisco weather today forecast'}, 'id': 'call_ww6k', 'type': 'tool_call'}], usage_metadata={'input_tokens': 636, 'output_tokens': 17, 'total_tokens': 653})}\n",
      "\n",
      "\n"
     ]
    },
    {
     "ename": "GraphRecursionError",
     "evalue": "Recursion limit of 25 reached without hitting a stop condition. You can increase the limit by setting the `recursion_limit` config key.\nFor troubleshooting, visit: https://python.langchain.com/docs/troubleshooting/errors/GRAPH_RECURSION_LIMIT",
     "output_type": "error",
     "traceback": [
      "\u001b[1;31m---------------------------------------------------------------------------\u001b[0m",
      "\u001b[1;31mGraphRecursionError\u001b[0m                       Traceback (most recent call last)",
      "Cell \u001b[1;32mIn[20], line 3\u001b[0m\n\u001b[0;32m      1\u001b[0m \u001b[38;5;66;03m# Streaming the output\u001b[39;00m\n\u001b[1;32m----> 3\u001b[0m \u001b[38;5;28;01mfor\u001b[39;00m output \u001b[38;5;129;01min\u001b[39;00m loop_app\u001b[38;5;241m.\u001b[39mstream({\u001b[38;5;124m\"\u001b[39m\u001b[38;5;124mmessages\u001b[39m\u001b[38;5;124m\"\u001b[39m: [\u001b[38;5;124m\"\u001b[39m\u001b[38;5;124mwhat is the weather in sf\u001b[39m\u001b[38;5;124m\"\u001b[39m]}):\n\u001b[0;32m      4\u001b[0m     \u001b[38;5;28;01mfor\u001b[39;00m key,value \u001b[38;5;129;01min\u001b[39;00m output\u001b[38;5;241m.\u001b[39mitems():\n\u001b[0;32m      5\u001b[0m         \u001b[38;5;28mprint\u001b[39m(\u001b[38;5;124mf\u001b[39m\u001b[38;5;124m\"\u001b[39m\u001b[38;5;124mhere is output from \u001b[39m\u001b[38;5;132;01m{\u001b[39;00mkey\u001b[38;5;132;01m}\u001b[39;00m\u001b[38;5;124m\"\u001b[39m)\n",
      "File \u001b[1;32mc:\\Users\\admin\\anaconda3\\envs\\env_phidata_agents\\Lib\\site-packages\\langgraph\\pregel\\__init__.py:1690\u001b[0m, in \u001b[0;36mPregel.stream\u001b[1;34m(self, input, config, stream_mode, output_keys, interrupt_before, interrupt_after, debug, subgraphs)\u001b[0m\n\u001b[0;32m   1681\u001b[0m \u001b[38;5;28;01mif\u001b[39;00m loop\u001b[38;5;241m.\u001b[39mstatus \u001b[38;5;241m==\u001b[39m \u001b[38;5;124m\"\u001b[39m\u001b[38;5;124mout_of_steps\u001b[39m\u001b[38;5;124m\"\u001b[39m:\n\u001b[0;32m   1682\u001b[0m     msg \u001b[38;5;241m=\u001b[39m create_error_message(\n\u001b[0;32m   1683\u001b[0m         message\u001b[38;5;241m=\u001b[39m(\n\u001b[0;32m   1684\u001b[0m             \u001b[38;5;124mf\u001b[39m\u001b[38;5;124m\"\u001b[39m\u001b[38;5;124mRecursion limit of \u001b[39m\u001b[38;5;132;01m{\u001b[39;00mconfig[\u001b[38;5;124m'\u001b[39m\u001b[38;5;124mrecursion_limit\u001b[39m\u001b[38;5;124m'\u001b[39m]\u001b[38;5;132;01m}\u001b[39;00m\u001b[38;5;124m reached \u001b[39m\u001b[38;5;124m\"\u001b[39m\n\u001b[1;32m   (...)\u001b[0m\n\u001b[0;32m   1688\u001b[0m         error_code\u001b[38;5;241m=\u001b[39mErrorCode\u001b[38;5;241m.\u001b[39mGRAPH_RECURSION_LIMIT,\n\u001b[0;32m   1689\u001b[0m     )\n\u001b[1;32m-> 1690\u001b[0m     \u001b[38;5;28;01mraise\u001b[39;00m GraphRecursionError(msg)\n\u001b[0;32m   1691\u001b[0m \u001b[38;5;66;03m# set final channel values as run output\u001b[39;00m\n\u001b[0;32m   1692\u001b[0m run_manager\u001b[38;5;241m.\u001b[39mon_chain_end(loop\u001b[38;5;241m.\u001b[39moutput)\n",
      "\u001b[1;31mGraphRecursionError\u001b[0m: Recursion limit of 25 reached without hitting a stop condition. You can increase the limit by setting the `recursion_limit` config key.\nFor troubleshooting, visit: https://python.langchain.com/docs/troubleshooting/errors/GRAPH_RECURSION_LIMIT"
     ]
    }
   ],
   "source": [
    "# Streaming the output\n",
    "\n",
    "for output in loop_app.stream({\"messages\": [\"what is the weather in sf\"]}):\n",
    "    for key,value in output.items():\n",
    "        print(f\"here is output from {key}\")\n",
    "        print(\"_______\")\n",
    "        print(value)\n",
    "        print(\"\\n\")"
   ]
  },
  {
   "cell_type": "markdown",
   "metadata": {},
   "source": [
    "##### Memory in the workflow"
   ]
  },
  {
   "cell_type": "code",
   "execution_count": 4,
   "metadata": {},
   "outputs": [],
   "source": [
    "# Initialize the in-memory saver class to store the memory\n",
    "# For production-level application, you should used postgres or any relevant database\n",
    "memory = MemorySaver()\n",
    "\n",
    "# Initialize the LLM model\n",
    "llm = ChatGroq(model=\"llama-3.3-70b-versatile\",temperature=0)\n",
    "\n",
    "# Define Tools\n",
    "# Tool1 : Travily Search\n",
    "@tool\n",
    "def get_latest_news(query:str):\n",
    "    \"\"\"\n",
    "    Call this tool to answer news reataed questions.\n",
    "    Example : Give me the latest news related to Los Angelis (LA)\n",
    "    \"\"\"\n",
    "    print(\"Travily search calling....\")\n",
    "    travily_search = TavilySearchResults()\n",
    "    response = travily_search.invoke(query)\n",
    "    print(\"Response generated by travily : \",response)\n",
    "    return response\n",
    "\n",
    "@tool\n",
    "def call_model(query:str):\n",
    "    \"\"\"Call this tool for any questions\"\"\"\n",
    "    print(\"LLM model calling.....\")\n",
    "    response = llm.invoke(query)\n",
    "    print(\"Response generated by LLM\",response)\n",
    "    return response\n",
    "\n",
    "# Placed tools in list\n",
    "tools = [get_latest_news,call_model]\n",
    "\n",
    "# Create the tool node\n",
    "tool_node = ToolNode(tools)\n",
    "\n",
    "# Bind the tools with the LLM\n",
    "llm_with_tools = llm.bind_tools(tools=tools)\n",
    "\n",
    "# Agent : Build the Agent which will decide which tool to use\n",
    "def invoke_model(state:MessagesState):\n",
    "    print(\"calling Agent\")\n",
    "    messages = state[\"messages\"]\n",
    "    # print(\"messages from the invoke model : \",messages)\n",
    "    response = llm_with_tools.invoke(messages)\n",
    "    print(\"Response generated by llm_with_tools : \",response)\n",
    "    return {\"messages\":response}\n",
    "\n",
    "# Router : which will route the query\n",
    "def router(state: MessagesState):\n",
    "    print(\"Router deciding the flow\")\n",
    "    messages = state['messages']\n",
    "    last_message = messages[-1]\n",
    "\n",
    "    if last_message.tool_calls:\n",
    "        print(\"Router decided to call tools\")\n",
    "        return \"tools\"\n",
    "    \n",
    "    print(\"Router decided to END\")\n",
    "    return END\n",
    "\n",
    "# Define new workflow / graph\n",
    "memory_workflow = StateGraph(MessagesState)\n",
    "\n",
    "memory_workflow.add_node(\"agent\",invoke_model)\n",
    "memory_workflow.add_node(\"tools\",tool_node)\n",
    "memory_workflow.add_edge(START,\"agent\")\n",
    "\n",
    "memory_workflow.add_edge(\"tools\",\"agent\")\n",
    "memory_workflow.add_conditional_edges(\"agent\",router,{\"tools\":\"tools\",END:END})\n",
    "\n",
    "memory_app = memory_workflow.compile()"
   ]
  },
  {
   "cell_type": "code",
   "execution_count": 5,
   "metadata": {},
   "outputs": [
    {
     "data": {
      "image/png": "[encoded data removed]",
      "text/plain": [
       "<langgraph.graph.state.CompiledStateGraph object at 0x0000020E34E2E110>"
      ]
     },
     "execution_count": 5,
     "metadata": {},
     "output_type": "execute_result"
    }
   ],
   "source": [
    "memory_app"
   ]
  },
  {
   "cell_type": "code",
   "execution_count": 9,
   "metadata": {},
   "outputs": [
    {
     "name": "stdout",
     "output_type": "stream",
     "text": [
      "calling Agent\n",
      "Response generated by llm_with_tools :  content='' additional_kwargs={'tool_calls': [{'id': 'call_z8dq', 'function': {'arguments': '{\"query\": \"Nice to meet you, Hrishikesh Kothawade. What can I help you with today?\"}', 'name': 'call_model'}, 'type': 'function'}]} response_metadata={'token_usage': {'completion_tokens': 35, 'prompt_tokens': 328, 'total_tokens': 363, 'completion_time': 0.127272727, 'prompt_time': 0.018332875, 'queue_time': 0.27283319800000005, 'total_time': 0.145605602}, 'model_name': 'llama-3.3-70b-versatile', 'system_fingerprint': 'fp_2ca0059abb', 'finish_reason': 'tool_calls', 'logprobs': None} id='run-a017ee3f-a845-4f15-ae9e-86b42b693a7c-0' tool_calls=[{'name': 'call_model', 'args': {'query': 'Nice to meet you, Hrishikesh Kothawade. What can I help you with today?'}, 'id': 'call_z8dq', 'type': 'tool_call'}] usage_metadata={'input_tokens': 328, 'output_tokens': 35, 'total_tokens': 363}\n",
      "Router deciding the flow\n",
      "Router decided to call tools\n",
      "LLM model calling.....\n",
      "Response generated by LLM content=\"Nice to meet you too. I'm not actually Hrishikesh Kothawade, I'm an AI assistant. I don't have a personal name, but I'm here to help answer any questions or provide information on a wide range of topics. How can I assist you today?\" additional_kwargs={} response_metadata={'token_usage': {'completion_tokens': 60, 'prompt_tokens': 57, 'total_tokens': 117, 'completion_time': 0.218181818, 'prompt_time': 0.012805943, 'queue_time': 0.43076594500000004, 'total_time': 0.230987761}, 'model_name': 'llama-3.3-70b-versatile', 'system_fingerprint': 'fp_fcc3b74982', 'finish_reason': 'stop', 'logprobs': None} id='run-312ec2e1-30ed-4cac-9f1f-af1ee4e27ed6-0' usage_metadata={'input_tokens': 57, 'output_tokens': 60, 'total_tokens': 117}\n",
      "calling Agent\n",
      "Response generated by llm_with_tools :  content='' additional_kwargs={'tool_calls': [{'id': 'call_d8fs', 'function': {'arguments': '{\"query\": \"What are your interests Hrishikesh?\"}', 'name': 'call_model'}, 'type': 'function'}]} response_metadata={'token_usage': {'completion_tokens': 22, 'prompt_tokens': 611, 'total_tokens': 633, 'completion_time': 0.08, 'prompt_time': 0.07197561, 'queue_time': 0.06654516300000002, 'total_time': 0.15197561}, 'model_name': 'llama-3.3-70b-versatile', 'system_fingerprint': 'fp_3884478861', 'finish_reason': 'tool_calls', 'logprobs': None} id='run-ba5050a6-f520-4170-ae13-3bd2ceda5a75-0' tool_calls=[{'name': 'call_model', 'args': {'query': 'What are your interests Hrishikesh?'}, 'id': 'call_d8fs', 'type': 'tool_call'}] usage_metadata={'input_tokens': 611, 'output_tokens': 22, 'total_tokens': 633}\n",
      "Router deciding the flow\n",
      "Router decided to call tools\n",
      "LLM model calling.....\n",
      "Response generated by LLM content=\"I'm Hrishikesh, nice to meet you. I don't have personal interests or hobbies like humans do, but I was trained on a vast range of texts and topics. I can provide information, answer questions, and engage in conversations on various subjects, including but not limited to:\\n\\n1. Science and technology: I can discuss topics like AI, space exploration, physics, and more.\\n2. History: I have knowledge about historical events, cultures, and figures from around the world.\\n3. Entertainment: I can chat about movies, TV shows, music, books, and video games.\\n4. Culture and lifestyle: I can provide insights into different cultures, traditions, and ways of life.\\n5. Education and learning: I can help with language learning, academic subjects, and study tips.\\n\\nFeel free to ask me anything, and I'll do my best to provide a helpful and informative response! What would you like to talk about?\" additional_kwargs={} response_metadata={'token_usage': {'completion_tokens': 192, 'prompt_tokens': 44, 'total_tokens': 236, 'completion_time': 0.698181818, 'prompt_time': 0.007767702, 'queue_time': 0.023366002000000004, 'total_time': 0.70594952}, 'model_name': 'llama-3.3-70b-versatile', 'system_fingerprint': 'fp_3884478861', 'finish_reason': 'stop', 'logprobs': None} id='run-03e76d20-bb2b-43b5-a5fd-5b18d3390385-0' usage_metadata={'input_tokens': 44, 'output_tokens': 192, 'total_tokens': 236}\n",
      "calling Agent\n",
      "Response generated by llm_with_tools :  content='' additional_kwargs={'tool_calls': [{'id': 'call_cade', 'function': {'arguments': '{\"query\": \"What do you like to do in your free time as a software engineer in Capgemini?\"}', 'name': 'call_model'}, 'type': 'function'}]} response_metadata={'token_usage': {'completion_tokens': 32, 'prompt_tokens': 1019, 'total_tokens': 1051, 'completion_time': 0.116363636, 'prompt_time': 0.117722305, 'queue_time': 0.678930939, 'total_time': 0.234085941}, 'model_name': 'llama-3.3-70b-versatile', 'system_fingerprint': 'fp_3884478861', 'finish_reason': 'tool_calls', 'logprobs': None} id='run-e5a86ac3-0deb-42ed-a258-895ad7b43a9c-0' tool_calls=[{'name': 'call_model', 'args': {'query': 'What do you like to do in your free time as a software engineer in Capgemini?'}, 'id': 'call_cade', 'type': 'tool_call'}] usage_metadata={'input_tokens': 1019, 'output_tokens': 32, 'total_tokens': 1051}\n",
      "Router deciding the flow\n",
      "Router decided to call tools\n",
      "LLM model calling.....\n",
      "Response generated by LLM content=\"As a digital AI assistant, I don't have personal experiences, preferences, or a physical presence, so I'm not a software engineer at Capgemini or any other company. I exist solely to provide information and assist with inquiries. However, I can provide general insights about what software engineers might enjoy doing in their free time.\\n\\nMany software engineers enjoy activities that allow them to express their creativity, learn new skills, or relax and recharge. Some common hobbies and interests among software engineers include:\\n\\n1. Coding side projects: Many software engineers enjoy working on personal coding projects, such as developing mobile apps, contributing to open-source projects, or creating games.\\n2. Reading and learning: Software engineers often enjoy reading books, articles, and online courses to stay up-to-date with the latest technologies and trends.\\n3. Gaming: Gaming is a popular hobby among software engineers, as it allows them to relax and have fun while also exploring new technologies and innovations.\\n4. Outdoor activities: Many software engineers enjoy outdoor activities, such as hiking, cycling, or playing sports, to balance out the sedentary nature of their work.\\n5. Creative pursuits: Some software engineers enjoy creative activities like painting, drawing, writing, or playing music, which can help them express themselves and tap into their creative side.\\n6. Volunteering: Many software engineers participate in volunteer work, such as mentoring, teaching, or contributing to social causes, to give back to their communities and make a positive impact.\\n\\nKeep in mind that these are general examples, and individual interests may vary widely. If you're interested in learning more about a specific software engineer's hobbies or interests, I recommend asking them directly!\" additional_kwargs={} response_metadata={'token_usage': {'completion_tokens': 337, 'prompt_tokens': 54, 'total_tokens': 391, 'completion_time': 1.225454545, 'prompt_time': 0.01049388, 'queue_time': 0.122568834, 'total_time': 1.235948425}, 'model_name': 'llama-3.3-70b-versatile', 'system_fingerprint': 'fp_fcc3b74982', 'finish_reason': 'stop', 'logprobs': None} id='run-053e69c1-9b71-419e-b80a-d1a45d14ba3a-0' usage_metadata={'input_tokens': 54, 'output_tokens': 337, 'total_tokens': 391}\n",
      "calling Agent\n",
      "Response generated by llm_with_tools :  content='' additional_kwargs={'tool_calls': [{'id': 'call_7tge', 'function': {'arguments': '{\"query\": \"What are your favorite sports?\"}', 'name': 'call_model'}, 'type': 'function'}]} response_metadata={'token_usage': {'completion_tokens': 19, 'prompt_tokens': 1583, 'total_tokens': 1602, 'completion_time': 0.069090909, 'prompt_time': 0.212735204, 'queue_time': 0.49371979600000004, 'total_time': 0.281826113}, 'model_name': 'llama-3.3-70b-versatile', 'system_fingerprint': 'fp_fcc3b74982', 'finish_reason': 'tool_calls', 'logprobs': None} id='run-0fff05ec-cdee-4ec9-96f0-e739982598cd-0' tool_calls=[{'name': 'call_model', 'args': {'query': 'What are your favorite sports?'}, 'id': 'call_7tge', 'type': 'tool_call'}] usage_metadata={'input_tokens': 1583, 'output_tokens': 19, 'total_tokens': 1602}\n",
      "Router deciding the flow\n",
      "Router decided to call tools\n",
      "LLM model calling.....\n",
      "Response generated by LLM content=\"I don't have personal preferences, including favorite sports. I'm a large language model, my purpose is to provide information and answer questions to the best of my knowledge based on my training data. I can provide information about various sports, their rules, history, and notable events, but I don't have personal feelings or opinions.\\n\\nHowever, I can tell you about popular sports, their rules, and interesting facts if you're interested! Which sport would you like to know more about?\" additional_kwargs={} response_metadata={'token_usage': {'completion_tokens': 98, 'prompt_tokens': 41, 'total_tokens': 139, 'completion_time': 0.356363636, 'prompt_time': 0.010575449, 'queue_time': 0.751769472, 'total_time': 0.366939085}, 'model_name': 'llama-3.3-70b-versatile', 'system_fingerprint': 'fp_fcc3b74982', 'finish_reason': 'stop', 'logprobs': None} id='run-ebac1845-de0d-4eb2-a929-ed3146b3a372-0' usage_metadata={'input_tokens': 41, 'output_tokens': 98, 'total_tokens': 139}\n"
     ]
    },
    {
     "ename": "KeyboardInterrupt",
     "evalue": "",
     "output_type": "error",
     "traceback": [
      "\u001b[1;31m---------------------------------------------------------------------------\u001b[0m",
      "\u001b[1;31mKeyboardInterrupt\u001b[0m                         Traceback (most recent call last)",
      "Cell \u001b[1;32mIn[9], line 2\u001b[0m\n\u001b[0;32m      1\u001b[0m config \u001b[38;5;241m=\u001b[39m {\u001b[38;5;124m\"\u001b[39m\u001b[38;5;124mconfigurable\u001b[39m\u001b[38;5;124m\"\u001b[39m:{\u001b[38;5;124m\"\u001b[39m\u001b[38;5;124mthread_id\u001b[39m\u001b[38;5;124m\"\u001b[39m:\u001b[38;5;124m\"\u001b[39m\u001b[38;5;124m1\u001b[39m\u001b[38;5;124m\"\u001b[39m}}\n\u001b[1;32m----> 2\u001b[0m \u001b[43mmemory_app\u001b[49m\u001b[38;5;241;43m.\u001b[39;49m\u001b[43minvoke\u001b[49m\u001b[43m(\u001b[49m\u001b[43m{\u001b[49m\u001b[38;5;124;43m\"\u001b[39;49m\u001b[38;5;124;43mmessages\u001b[39;49m\u001b[38;5;124;43m\"\u001b[39;49m\u001b[43m:\u001b[49m\u001b[43m[\u001b[49m\u001b[38;5;124;43m\"\u001b[39;49m\u001b[38;5;124;43mHi My name is Hrishikesh Kothawade and I am working as a Software engineer in capgemini\u001b[39;49m\u001b[38;5;124;43m\"\u001b[39;49m\u001b[43m]\u001b[49m\u001b[43m}\u001b[49m\u001b[43m,\u001b[49m\u001b[43mconfig\u001b[49m\u001b[43m)\u001b[49m\n",
      "File \u001b[1;32mc:\\Users\\admin\\anaconda3\\envs\\env_phidata_agents\\Lib\\site-packages\\langgraph\\pregel\\__init__.py:1961\u001b[0m, in \u001b[0;36mPregel.invoke\u001b[1;34m(self, input, config, stream_mode, output_keys, interrupt_before, interrupt_after, debug, **kwargs)\u001b[0m\n\u001b[0;32m   1959\u001b[0m \u001b[38;5;28;01melse\u001b[39;00m:\n\u001b[0;32m   1960\u001b[0m     chunks \u001b[38;5;241m=\u001b[39m []\n\u001b[1;32m-> 1961\u001b[0m \u001b[38;5;28;01mfor\u001b[39;00m chunk \u001b[38;5;129;01min\u001b[39;00m \u001b[38;5;28mself\u001b[39m\u001b[38;5;241m.\u001b[39mstream(\n\u001b[0;32m   1962\u001b[0m     \u001b[38;5;28minput\u001b[39m,\n\u001b[0;32m   1963\u001b[0m     config,\n\u001b[0;32m   1964\u001b[0m     stream_mode\u001b[38;5;241m=\u001b[39mstream_mode,\n\u001b[0;32m   1965\u001b[0m     output_keys\u001b[38;5;241m=\u001b[39moutput_keys,\n\u001b[0;32m   1966\u001b[0m     interrupt_before\u001b[38;5;241m=\u001b[39minterrupt_before,\n\u001b[0;32m   1967\u001b[0m     interrupt_after\u001b[38;5;241m=\u001b[39minterrupt_after,\n\u001b[0;32m   1968\u001b[0m     debug\u001b[38;5;241m=\u001b[39mdebug,\n\u001b[0;32m   1969\u001b[0m     \u001b[38;5;241m*\u001b[39m\u001b[38;5;241m*\u001b[39mkwargs,\n\u001b[0;32m   1970\u001b[0m ):\n\u001b[0;32m   1971\u001b[0m     \u001b[38;5;28;01mif\u001b[39;00m stream_mode \u001b[38;5;241m==\u001b[39m \u001b[38;5;124m\"\u001b[39m\u001b[38;5;124mvalues\u001b[39m\u001b[38;5;124m\"\u001b[39m:\n\u001b[0;32m   1972\u001b[0m         latest \u001b[38;5;241m=\u001b[39m chunk\n",
      "File \u001b[1;32mc:\\Users\\admin\\anaconda3\\envs\\env_phidata_agents\\Lib\\site-packages\\langgraph\\pregel\\__init__.py:1670\u001b[0m, in \u001b[0;36mPregel.stream\u001b[1;34m(self, input, config, stream_mode, output_keys, interrupt_before, interrupt_after, debug, subgraphs)\u001b[0m\n\u001b[0;32m   1664\u001b[0m     \u001b[38;5;66;03m# Similarly to Bulk Synchronous Parallel / Pregel model\u001b[39;00m\n\u001b[0;32m   1665\u001b[0m     \u001b[38;5;66;03m# computation proceeds in steps, while there are channel updates.\u001b[39;00m\n\u001b[0;32m   1666\u001b[0m     \u001b[38;5;66;03m# Channel updates from step N are only visible in step N+1\u001b[39;00m\n\u001b[0;32m   1667\u001b[0m     \u001b[38;5;66;03m# channels are guaranteed to be immutable for the duration of the step,\u001b[39;00m\n\u001b[0;32m   1668\u001b[0m     \u001b[38;5;66;03m# with channel updates applied only at the transition between steps.\u001b[39;00m\n\u001b[0;32m   1669\u001b[0m     \u001b[38;5;28;01mwhile\u001b[39;00m loop\u001b[38;5;241m.\u001b[39mtick(input_keys\u001b[38;5;241m=\u001b[39m\u001b[38;5;28mself\u001b[39m\u001b[38;5;241m.\u001b[39minput_channels):\n\u001b[1;32m-> 1670\u001b[0m         \u001b[38;5;28;01mfor\u001b[39;00m _ \u001b[38;5;129;01min\u001b[39;00m runner\u001b[38;5;241m.\u001b[39mtick(\n\u001b[0;32m   1671\u001b[0m             loop\u001b[38;5;241m.\u001b[39mtasks\u001b[38;5;241m.\u001b[39mvalues(),\n\u001b[0;32m   1672\u001b[0m             timeout\u001b[38;5;241m=\u001b[39m\u001b[38;5;28mself\u001b[39m\u001b[38;5;241m.\u001b[39mstep_timeout,\n\u001b[0;32m   1673\u001b[0m             retry_policy\u001b[38;5;241m=\u001b[39m\u001b[38;5;28mself\u001b[39m\u001b[38;5;241m.\u001b[39mretry_policy,\n\u001b[0;32m   1674\u001b[0m             get_waiter\u001b[38;5;241m=\u001b[39mget_waiter,\n\u001b[0;32m   1675\u001b[0m         ):\n\u001b[0;32m   1676\u001b[0m             \u001b[38;5;66;03m# emit output\u001b[39;00m\n\u001b[0;32m   1677\u001b[0m             \u001b[38;5;28;01myield from\u001b[39;00m output()\n\u001b[0;32m   1678\u001b[0m \u001b[38;5;66;03m# emit output\u001b[39;00m\n",
      "File \u001b[1;32mc:\\Users\\admin\\anaconda3\\envs\\env_phidata_agents\\Lib\\site-packages\\langgraph\\pregel\\runner.py:230\u001b[0m, in \u001b[0;36mPregelRunner.tick\u001b[1;34m(self, tasks, reraise, timeout, retry_policy, get_waiter)\u001b[0m\n\u001b[0;32m    228\u001b[0m t \u001b[38;5;241m=\u001b[39m tasks[\u001b[38;5;241m0\u001b[39m]\n\u001b[0;32m    229\u001b[0m \u001b[38;5;28;01mtry\u001b[39;00m:\n\u001b[1;32m--> 230\u001b[0m     \u001b[43mrun_with_retry\u001b[49m\u001b[43m(\u001b[49m\n\u001b[0;32m    231\u001b[0m \u001b[43m        \u001b[49m\u001b[43mt\u001b[49m\u001b[43m,\u001b[49m\n\u001b[0;32m    232\u001b[0m \u001b[43m        \u001b[49m\u001b[43mretry_policy\u001b[49m\u001b[43m,\u001b[49m\n\u001b[0;32m    233\u001b[0m \u001b[43m        \u001b[49m\u001b[43mconfigurable\u001b[49m\u001b[38;5;241;43m=\u001b[39;49m\u001b[43m{\u001b[49m\n\u001b[0;32m    234\u001b[0m \u001b[43m            \u001b[49m\u001b[43mCONFIG_KEY_SEND\u001b[49m\u001b[43m:\u001b[49m\u001b[43m \u001b[49m\u001b[43mpartial\u001b[49m\u001b[43m(\u001b[49m\u001b[43mwriter\u001b[49m\u001b[43m,\u001b[49m\u001b[43m \u001b[49m\u001b[43mt\u001b[49m\u001b[43m)\u001b[49m\u001b[43m,\u001b[49m\n\u001b[0;32m    235\u001b[0m \u001b[43m            \u001b[49m\u001b[43mCONFIG_KEY_CALL\u001b[49m\u001b[43m:\u001b[49m\u001b[43m \u001b[49m\u001b[43mpartial\u001b[49m\u001b[43m(\u001b[49m\u001b[43mcall\u001b[49m\u001b[43m,\u001b[49m\u001b[43m \u001b[49m\u001b[43mt\u001b[49m\u001b[43m)\u001b[49m\u001b[43m,\u001b[49m\n\u001b[0;32m    236\u001b[0m \u001b[43m        \u001b[49m\u001b[43m}\u001b[49m\u001b[43m,\u001b[49m\n\u001b[0;32m    237\u001b[0m \u001b[43m    \u001b[49m\u001b[43m)\u001b[49m\n\u001b[0;32m    238\u001b[0m     \u001b[38;5;28mself\u001b[39m\u001b[38;5;241m.\u001b[39mcommit(t, \u001b[38;5;28;01mNone\u001b[39;00m)\n\u001b[0;32m    239\u001b[0m \u001b[38;5;28;01mexcept\u001b[39;00m \u001b[38;5;167;01mException\u001b[39;00m \u001b[38;5;28;01mas\u001b[39;00m exc:\n",
      "File \u001b[1;32mc:\\Users\\admin\\anaconda3\\envs\\env_phidata_agents\\Lib\\site-packages\\langgraph\\pregel\\retry.py:40\u001b[0m, in \u001b[0;36mrun_with_retry\u001b[1;34m(task, retry_policy, configurable)\u001b[0m\n\u001b[0;32m     38\u001b[0m     task\u001b[38;5;241m.\u001b[39mwrites\u001b[38;5;241m.\u001b[39mclear()\n\u001b[0;32m     39\u001b[0m     \u001b[38;5;66;03m# run the task\u001b[39;00m\n\u001b[1;32m---> 40\u001b[0m     \u001b[38;5;28;01mreturn\u001b[39;00m \u001b[43mtask\u001b[49m\u001b[38;5;241;43m.\u001b[39;49m\u001b[43mproc\u001b[49m\u001b[38;5;241;43m.\u001b[39;49m\u001b[43minvoke\u001b[49m\u001b[43m(\u001b[49m\u001b[43mtask\u001b[49m\u001b[38;5;241;43m.\u001b[39;49m\u001b[43minput\u001b[49m\u001b[43m,\u001b[49m\u001b[43m \u001b[49m\u001b[43mconfig\u001b[49m\u001b[43m)\u001b[49m\n\u001b[0;32m     41\u001b[0m \u001b[38;5;28;01mexcept\u001b[39;00m ParentCommand \u001b[38;5;28;01mas\u001b[39;00m exc:\n\u001b[0;32m     42\u001b[0m     ns: \u001b[38;5;28mstr\u001b[39m \u001b[38;5;241m=\u001b[39m config[CONF][CONFIG_KEY_CHECKPOINT_NS]\n",
      "File \u001b[1;32mc:\\Users\\admin\\anaconda3\\envs\\env_phidata_agents\\Lib\\site-packages\\langgraph\\utils\\runnable.py:462\u001b[0m, in \u001b[0;36mRunnableSeq.invoke\u001b[1;34m(self, input, config, **kwargs)\u001b[0m\n\u001b[0;32m    458\u001b[0m config \u001b[38;5;241m=\u001b[39m patch_config(\n\u001b[0;32m    459\u001b[0m     config, callbacks\u001b[38;5;241m=\u001b[39mrun_manager\u001b[38;5;241m.\u001b[39mget_child(\u001b[38;5;124mf\u001b[39m\u001b[38;5;124m\"\u001b[39m\u001b[38;5;124mseq:step:\u001b[39m\u001b[38;5;132;01m{\u001b[39;00mi\u001b[38;5;250m \u001b[39m\u001b[38;5;241m+\u001b[39m\u001b[38;5;250m \u001b[39m\u001b[38;5;241m1\u001b[39m\u001b[38;5;132;01m}\u001b[39;00m\u001b[38;5;124m\"\u001b[39m)\n\u001b[0;32m    460\u001b[0m )\n\u001b[0;32m    461\u001b[0m \u001b[38;5;28;01mif\u001b[39;00m i \u001b[38;5;241m==\u001b[39m \u001b[38;5;241m0\u001b[39m:\n\u001b[1;32m--> 462\u001b[0m     \u001b[38;5;28minput\u001b[39m \u001b[38;5;241m=\u001b[39m \u001b[43mstep\u001b[49m\u001b[38;5;241;43m.\u001b[39;49m\u001b[43minvoke\u001b[49m\u001b[43m(\u001b[49m\u001b[38;5;28;43minput\u001b[39;49m\u001b[43m,\u001b[49m\u001b[43m \u001b[49m\u001b[43mconfig\u001b[49m\u001b[43m,\u001b[49m\u001b[43m \u001b[49m\u001b[38;5;241;43m*\u001b[39;49m\u001b[38;5;241;43m*\u001b[39;49m\u001b[43mkwargs\u001b[49m\u001b[43m)\u001b[49m\n\u001b[0;32m    463\u001b[0m \u001b[38;5;28;01melse\u001b[39;00m:\n\u001b[0;32m    464\u001b[0m     \u001b[38;5;28minput\u001b[39m \u001b[38;5;241m=\u001b[39m step\u001b[38;5;241m.\u001b[39minvoke(\u001b[38;5;28minput\u001b[39m, config)\n",
      "File \u001b[1;32mc:\\Users\\admin\\anaconda3\\envs\\env_phidata_agents\\Lib\\site-packages\\langgraph\\prebuilt\\tool_node.py:246\u001b[0m, in \u001b[0;36mToolNode.invoke\u001b[1;34m(self, input, config, **kwargs)\u001b[0m\n\u001b[0;32m    244\u001b[0m \u001b[38;5;28;01mif\u001b[39;00m \u001b[38;5;124m\"\u001b[39m\u001b[38;5;124mstore\u001b[39m\u001b[38;5;124m\"\u001b[39m \u001b[38;5;129;01mnot\u001b[39;00m \u001b[38;5;129;01min\u001b[39;00m kwargs:\n\u001b[0;32m    245\u001b[0m     kwargs[\u001b[38;5;124m\"\u001b[39m\u001b[38;5;124mstore\u001b[39m\u001b[38;5;124m\"\u001b[39m] \u001b[38;5;241m=\u001b[39m \u001b[38;5;28;01mNone\u001b[39;00m\n\u001b[1;32m--> 246\u001b[0m \u001b[38;5;28;01mreturn\u001b[39;00m \u001b[38;5;28;43msuper\u001b[39;49m\u001b[43m(\u001b[49m\u001b[43m)\u001b[49m\u001b[38;5;241;43m.\u001b[39;49m\u001b[43minvoke\u001b[49m\u001b[43m(\u001b[49m\u001b[38;5;28;43minput\u001b[39;49m\u001b[43m,\u001b[49m\u001b[43m \u001b[49m\u001b[43mconfig\u001b[49m\u001b[43m,\u001b[49m\u001b[43m \u001b[49m\u001b[38;5;241;43m*\u001b[39;49m\u001b[38;5;241;43m*\u001b[39;49m\u001b[43mkwargs\u001b[49m\u001b[43m)\u001b[49m\n",
      "File \u001b[1;32mc:\\Users\\admin\\anaconda3\\envs\\env_phidata_agents\\Lib\\site-packages\\langgraph\\utils\\runnable.py:226\u001b[0m, in \u001b[0;36mRunnableCallable.invoke\u001b[1;34m(self, input, config, **kwargs)\u001b[0m\n\u001b[0;32m    224\u001b[0m \u001b[38;5;28;01melse\u001b[39;00m:\n\u001b[0;32m    225\u001b[0m     context\u001b[38;5;241m.\u001b[39mrun(_set_config_context, config)\n\u001b[1;32m--> 226\u001b[0m     ret \u001b[38;5;241m=\u001b[39m \u001b[43mcontext\u001b[49m\u001b[38;5;241;43m.\u001b[39;49m\u001b[43mrun\u001b[49m\u001b[43m(\u001b[49m\u001b[38;5;28;43mself\u001b[39;49m\u001b[38;5;241;43m.\u001b[39;49m\u001b[43mfunc\u001b[49m\u001b[43m,\u001b[49m\u001b[43m \u001b[49m\u001b[38;5;241;43m*\u001b[39;49m\u001b[43margs\u001b[49m\u001b[43m,\u001b[49m\u001b[43m \u001b[49m\u001b[38;5;241;43m*\u001b[39;49m\u001b[38;5;241;43m*\u001b[39;49m\u001b[43mkwargs\u001b[49m\u001b[43m)\u001b[49m\n\u001b[0;32m    227\u001b[0m \u001b[38;5;28;01mif\u001b[39;00m \u001b[38;5;28misinstance\u001b[39m(ret, Runnable) \u001b[38;5;129;01mand\u001b[39;00m \u001b[38;5;28mself\u001b[39m\u001b[38;5;241m.\u001b[39mrecurse:\n\u001b[0;32m    228\u001b[0m     \u001b[38;5;28;01mreturn\u001b[39;00m ret\u001b[38;5;241m.\u001b[39minvoke(\u001b[38;5;28minput\u001b[39m, config)\n",
      "File \u001b[1;32mc:\\Users\\admin\\anaconda3\\envs\\env_phidata_agents\\Lib\\site-packages\\langgraph\\prebuilt\\tool_node.py:219\u001b[0m, in \u001b[0;36mToolNode._func\u001b[1;34m(self, input, config, store)\u001b[0m\n\u001b[0;32m    217\u001b[0m input_types \u001b[38;5;241m=\u001b[39m [input_type] \u001b[38;5;241m*\u001b[39m \u001b[38;5;28mlen\u001b[39m(tool_calls)\n\u001b[0;32m    218\u001b[0m \u001b[38;5;28;01mwith\u001b[39;00m get_executor_for_config(config) \u001b[38;5;28;01mas\u001b[39;00m executor:\n\u001b[1;32m--> 219\u001b[0m     outputs \u001b[38;5;241m=\u001b[39m [\n\u001b[0;32m    220\u001b[0m         \u001b[38;5;241m*\u001b[39mexecutor\u001b[38;5;241m.\u001b[39mmap(\u001b[38;5;28mself\u001b[39m\u001b[38;5;241m.\u001b[39m_run_one, tool_calls, input_types, config_list)\n\u001b[0;32m    221\u001b[0m     ]\n\u001b[0;32m    223\u001b[0m \u001b[38;5;66;03m# preserve existing behavior for non-command tool outputs for backwards compatibility\u001b[39;00m\n\u001b[0;32m    224\u001b[0m \u001b[38;5;28;01mif\u001b[39;00m \u001b[38;5;129;01mnot\u001b[39;00m \u001b[38;5;28many\u001b[39m(\u001b[38;5;28misinstance\u001b[39m(output, Command) \u001b[38;5;28;01mfor\u001b[39;00m output \u001b[38;5;129;01min\u001b[39;00m outputs):\n\u001b[0;32m    225\u001b[0m     \u001b[38;5;66;03m# TypedDict, pydantic, dataclass, etc. should all be able to load from dict\u001b[39;00m\n",
      "File \u001b[1;32mc:\\Users\\admin\\anaconda3\\envs\\env_phidata_agents\\Lib\\concurrent\\futures\\_base.py:619\u001b[0m, in \u001b[0;36mExecutor.map.<locals>.result_iterator\u001b[1;34m()\u001b[0m\n\u001b[0;32m    616\u001b[0m \u001b[38;5;28;01mwhile\u001b[39;00m fs:\n\u001b[0;32m    617\u001b[0m     \u001b[38;5;66;03m# Careful not to keep a reference to the popped future\u001b[39;00m\n\u001b[0;32m    618\u001b[0m     \u001b[38;5;28;01mif\u001b[39;00m timeout \u001b[38;5;129;01mis\u001b[39;00m \u001b[38;5;28;01mNone\u001b[39;00m:\n\u001b[1;32m--> 619\u001b[0m         \u001b[38;5;28;01myield\u001b[39;00m \u001b[43m_result_or_cancel\u001b[49m\u001b[43m(\u001b[49m\u001b[43mfs\u001b[49m\u001b[38;5;241;43m.\u001b[39;49m\u001b[43mpop\u001b[49m\u001b[43m(\u001b[49m\u001b[43m)\u001b[49m\u001b[43m)\u001b[49m\n\u001b[0;32m    620\u001b[0m     \u001b[38;5;28;01melse\u001b[39;00m:\n\u001b[0;32m    621\u001b[0m         \u001b[38;5;28;01myield\u001b[39;00m _result_or_cancel(fs\u001b[38;5;241m.\u001b[39mpop(), end_time \u001b[38;5;241m-\u001b[39m time\u001b[38;5;241m.\u001b[39mmonotonic())\n",
      "File \u001b[1;32mc:\\Users\\admin\\anaconda3\\envs\\env_phidata_agents\\Lib\\concurrent\\futures\\_base.py:317\u001b[0m, in \u001b[0;36m_result_or_cancel\u001b[1;34m(***failed resolving arguments***)\u001b[0m\n\u001b[0;32m    315\u001b[0m \u001b[38;5;28;01mtry\u001b[39;00m:\n\u001b[0;32m    316\u001b[0m     \u001b[38;5;28;01mtry\u001b[39;00m:\n\u001b[1;32m--> 317\u001b[0m         \u001b[38;5;28;01mreturn\u001b[39;00m \u001b[43mfut\u001b[49m\u001b[38;5;241;43m.\u001b[39;49m\u001b[43mresult\u001b[49m\u001b[43m(\u001b[49m\u001b[43mtimeout\u001b[49m\u001b[43m)\u001b[49m\n\u001b[0;32m    318\u001b[0m     \u001b[38;5;28;01mfinally\u001b[39;00m:\n\u001b[0;32m    319\u001b[0m         fut\u001b[38;5;241m.\u001b[39mcancel()\n",
      "File \u001b[1;32mc:\\Users\\admin\\anaconda3\\envs\\env_phidata_agents\\Lib\\concurrent\\futures\\_base.py:451\u001b[0m, in \u001b[0;36mFuture.result\u001b[1;34m(self, timeout)\u001b[0m\n\u001b[0;32m    448\u001b[0m \u001b[38;5;28;01melif\u001b[39;00m \u001b[38;5;28mself\u001b[39m\u001b[38;5;241m.\u001b[39m_state \u001b[38;5;241m==\u001b[39m FINISHED:\n\u001b[0;32m    449\u001b[0m     \u001b[38;5;28;01mreturn\u001b[39;00m \u001b[38;5;28mself\u001b[39m\u001b[38;5;241m.\u001b[39m__get_result()\n\u001b[1;32m--> 451\u001b[0m \u001b[38;5;28;43mself\u001b[39;49m\u001b[38;5;241;43m.\u001b[39;49m\u001b[43m_condition\u001b[49m\u001b[38;5;241;43m.\u001b[39;49m\u001b[43mwait\u001b[49m\u001b[43m(\u001b[49m\u001b[43mtimeout\u001b[49m\u001b[43m)\u001b[49m\n\u001b[0;32m    453\u001b[0m \u001b[38;5;28;01mif\u001b[39;00m \u001b[38;5;28mself\u001b[39m\u001b[38;5;241m.\u001b[39m_state \u001b[38;5;129;01min\u001b[39;00m [CANCELLED, CANCELLED_AND_NOTIFIED]:\n\u001b[0;32m    454\u001b[0m     \u001b[38;5;28;01mraise\u001b[39;00m CancelledError()\n",
      "File \u001b[1;32mc:\\Users\\admin\\anaconda3\\envs\\env_phidata_agents\\Lib\\threading.py:327\u001b[0m, in \u001b[0;36mCondition.wait\u001b[1;34m(self, timeout)\u001b[0m\n\u001b[0;32m    325\u001b[0m \u001b[38;5;28;01mtry\u001b[39;00m:    \u001b[38;5;66;03m# restore state no matter what (e.g., KeyboardInterrupt)\u001b[39;00m\n\u001b[0;32m    326\u001b[0m     \u001b[38;5;28;01mif\u001b[39;00m timeout \u001b[38;5;129;01mis\u001b[39;00m \u001b[38;5;28;01mNone\u001b[39;00m:\n\u001b[1;32m--> 327\u001b[0m         \u001b[43mwaiter\u001b[49m\u001b[38;5;241;43m.\u001b[39;49m\u001b[43macquire\u001b[49m\u001b[43m(\u001b[49m\u001b[43m)\u001b[49m\n\u001b[0;32m    328\u001b[0m         gotit \u001b[38;5;241m=\u001b[39m \u001b[38;5;28;01mTrue\u001b[39;00m\n\u001b[0;32m    329\u001b[0m     \u001b[38;5;28;01melse\u001b[39;00m:\n",
      "\u001b[1;31mKeyboardInterrupt\u001b[0m: "
     ]
    }
   ],
   "source": [
    "config = {\"configurable\":{\"thread_id\":\"1\"}}\n",
    "memory_app.invoke({\"messages\":[\"Hi My name is Hrishikesh Kothawade and I am working as a Software engineer in capgemini\"]},config)"
   ]
  },
  {
   "cell_type": "code",
   "execution_count": 10,
   "metadata": {},
   "outputs": [],
   "source": [
    "# Associate the memory with the workflow\n",
    "memory_app = memory_workflow.compile(checkpointer=memory)\n",
    "\n",
    "# config\n",
    "config = {\"configurable\":{\"thread_id\":\"1\"}}\n",
    "\n",
    "events = memory_app.stream({\"messages\":[\"What is my name ?\"]},config,stream_mode=\"values\")"
   ]
  },
  {
   "cell_type": "code",
   "execution_count": null,
   "metadata": {},
   "outputs": [],
   "source": [
    "memory_app.invoke({\"messages\":[\"My name is Rohit Sharma, I am a GenAI engineer?\"]},config)"
   ]
  },
  {
   "cell_type": "code",
   "execution_count": 10,
   "metadata": {},
   "outputs": [
    {
     "name": "stdout",
     "output_type": "stream",
     "text": [
      "calling Agent\n",
      "Response generated by llm_with_tools :  content='' additional_kwargs={'tool_calls': [{'id': 'call_vvz3', 'function': {'arguments': '{\"query\": \"Rohit Sharma GenAI engineer previous response\"}', 'name': 'call_model'}, 'type': 'function'}]} response_metadata={'token_usage': {'completion_tokens': 23, 'prompt_tokens': 1444, 'total_tokens': 1467, 'completion_time': 0.083636364, 'prompt_time': 0.199142954, 'queue_time': 0.5445715299999999, 'total_time': 0.282779318}, 'model_name': 'llama-3.3-70b-versatile', 'system_fingerprint': 'fp_3884478861', 'finish_reason': 'tool_calls', 'logprobs': None} id='run-c66ae7fd-dcd2-4b22-99e2-dd241930c896-0' tool_calls=[{'name': 'call_model', 'args': {'query': 'Rohit Sharma GenAI engineer previous response'}, 'id': 'call_vvz3', 'type': 'tool_call'}] usage_metadata={'input_tokens': 1444, 'output_tokens': 23, 'total_tokens': 1467}\n",
      "Router deciding the flow\n",
      "Router decided to call tools\n",
      "LLM model calling.....\n",
      "Response generated by LLM content=\"This conversation has just begun. I'm happy to chat with you, but I don't have any prior responses to draw upon. If you'd like to discuss something specific, such as Rohit Sharma or GenAI engineering, I'm here to help!\" additional_kwargs={} response_metadata={'token_usage': {'completion_tokens': 52, 'prompt_tokens': 44, 'total_tokens': 96, 'completion_time': 0.189090909, 'prompt_time': 0.008901037, 'queue_time': 0.701965482, 'total_time': 0.197991946}, 'model_name': 'llama-3.3-70b-versatile', 'system_fingerprint': 'fp_4e32347616', 'finish_reason': 'stop', 'logprobs': None} id='run-5a55ae84-e104-4234-aa68-079570cfb800-0' usage_metadata={'input_tokens': 44, 'output_tokens': 52, 'total_tokens': 96}\n",
      "calling Agent\n",
      "Response generated by llm_with_tools :  content='You asked me \"My name is Rohit Sharma, I am a GenAI engineer?\" in your previous response.' additional_kwargs={} response_metadata={'token_usage': {'completion_tokens': 24, 'prompt_tokens': 1698, 'total_tokens': 1722, 'completion_time': 0.087272727, 'prompt_time': 0.215801605, 'queue_time': 0.41300696299999995, 'total_time': 0.303074332}, 'model_name': 'llama-3.3-70b-versatile', 'system_fingerprint': 'fp_fcc3b74982', 'finish_reason': 'stop', 'logprobs': None} id='run-c932d1ff-3012-414c-bdfc-b7c2e50a2cf1-0' usage_metadata={'input_tokens': 1698, 'output_tokens': 24, 'total_tokens': 1722}\n",
      "Router deciding the flow\n",
      "Router decided to END\n"
     ]
    },
    {
     "data": {
      "text/plain": [
       "{'messages': [HumanMessage(content='My name is Rohit Sharma, I am a GenAI engineer?', additional_kwargs={}, response_metadata={}, id='05238a82-0176-4d9d-afd6-a555671798b5'),\n",
       "  AIMessage(content='', additional_kwargs={'tool_calls': [{'id': 'call_v06v', 'function': {'arguments': '{\"query\": \"Rohit Sharma GenAI engineer\"}', 'name': 'call_model'}, 'type': 'function'}]}, response_metadata={'token_usage': {'completion_tokens': 21, 'prompt_tokens': 318, 'total_tokens': 339, 'completion_time': 0.076363636, 'prompt_time': 0.038757001, 'queue_time': 0.048664867, 'total_time': 0.115120637}, 'model_name': 'llama-3.3-70b-versatile', 'system_fingerprint': 'fp_3884478861', 'finish_reason': 'tool_calls', 'logprobs': None}, id='run-ccae5221-0749-4475-b9f8-0b8c9f6c4e55-0', tool_calls=[{'name': 'call_model', 'args': {'query': 'Rohit Sharma GenAI engineer'}, 'id': 'call_v06v', 'type': 'tool_call'}], usage_metadata={'input_tokens': 318, 'output_tokens': 21, 'total_tokens': 339}),\n",
       "  ToolMessage(content='content=\"That\\'s a interesting combination - Rohit Sharma, the renowned Indian cricketer, and GenAI (General Artificial Intelligence) engineer. \\\\n\\\\nAs a cricketer, Rohit Sharma is known for his exceptional batting skills, having scored numerous centuries and half-centuries in international cricket. He is also the captain of the Indian national team in limited-overs cricket.\\\\n\\\\nHowever, if we were to imagine Rohit Sharma as a GenAI engineer, it would be fascinating to see how he would apply his problem-solving skills, strategic thinking, and attention to detail to the field of artificial intelligence.\\\\n\\\\nAs a GenAI engineer, Rohit Sharma might focus on developing AI models that can analyze complex data patterns, make predictions, and optimize decision-making processes. He might work on projects related to:\\\\n\\\\n1. **Sports analytics**: Developing AI-powered tools to analyze player performance, team strategies, and game outcomes, which could help coaches and teams make data-driven decisions.\\\\n2. **Predictive modeling**: Creating AI models that can predict outcomes in various domains, such as finance, healthcare, or climate science, using complex data sets and machine learning algorithms.\\\\n3. **Natural Language Processing (NLP)**: Designing AI systems that can understand and generate human-like language, enabling applications like chatbots, language translation, and text summarization.\\\\n\\\\nRohit Sharma\\'s experience as a cricketer might also influence his approach to GenAI engineering. For instance, he might:\\\\n\\\\n1. **Emphasize teamwork**: Collaborate with cross-functional teams to develop AI solutions that integrate multiple disciplines, such as computer vision, robotics, and cognitive psychology.\\\\n2. **Focus on adaptability**: Design AI systems that can adapt to changing environments, much like a cricketer needs to adjust to different pitch conditions, opponent strategies, and game situations.\\\\n3. **Prioritize continuous learning**: Stay updated with the latest advancements in AI research and technologies, just as a cricketer needs to stay ahead of the curve in terms of skills, fitness, and strategy.\\\\n\\\\nWhile this is a hypothetical scenario, it\\'s intriguing to think about how Rohit Sharma\\'s unique blend of skills and experiences could shape his approach to GenAI engineering.\" additional_kwargs={} response_metadata={\\'token_usage\\': {\\'completion_tokens\\': 442, \\'prompt_tokens\\': 42, \\'total_tokens\\': 484, \\'completion_time\\': 1.607272727, \\'prompt_time\\': 0.008310914, \\'queue_time\\': 0.11775338799999999, \\'total_time\\': 1.615583641}, \\'model_name\\': \\'llama-3.3-70b-versatile\\', \\'system_fingerprint\\': \\'fp_4e32347616\\', \\'finish_reason\\': \\'stop\\', \\'logprobs\\': None} id=\\'run-2d32b6e2-fbbb-4855-9717-5d788860d587-0\\' usage_metadata={\\'input_tokens\\': 42, \\'output_tokens\\': 442, \\'total_tokens\\': 484}', name='call_model', id='1755a8a6-e96b-4380-8e4e-0835f046ca11', tool_call_id='call_v06v'),\n",
       "  AIMessage(content=\"That's a interesting combination - Rohit Sharma, the renowned Indian cricketer, and GenAI (General Artificial Intelligence) engineer. \\n\\nAs a cricketer, Rohit Sharma is known for his exceptional batting skills, having scored numerous centuries and half-centuries in international cricket. He is also the captain of the Indian national team in limited-overs cricket.\\n\\nHowever, if we were to imagine Rohit Sharma as a GenAI engineer, it would be fascinating to see how he would apply his problem-solving skills, strategic thinking, and attention to detail to the field of artificial intelligence.\\n\\nAs a GenAI engineer, Rohit Sharma might focus on developing AI models that can analyze complex data patterns, make predictions, and optimize decision-making processes. He might work on projects related to:\\n\\n1. **Sports analytics**: Developing AI-powered tools to analyze player performance, team strategies, and game outcomes, which could help coaches and teams make data-driven decisions.\\n2. **Predictive modeling**: Creating AI models that can predict outcomes in various domains, such as finance, healthcare, or climate science, using complex data sets and machine learning algorithms.\\n3. **Natural Language Processing (NLP)**: Designing AI systems that can understand and generate human-like language, enabling applications like chatbots, language translation, and text summarization.\\n\\nRohit Sharma's experience as a cricketer might also influence his approach to GenAI engineering. For instance, he might:\\n\\n1. **Emphasize teamwork**: Collaborate with cross-functional teams to develop AI solutions that integrate multiple disciplines, such as computer vision, robotics, and cognitive psychology.\\n2. **Focus on adaptability**: Design AI systems that can adapt to changing environments, much like a cricketer needs to adjust to different pitch conditions, opponent strategies, and game situations.\\n3. **Prioritize continuous learning**: Stay updated with the latest advancements in AI research and technologies, just as a cricketer needs to stay ahead of the curve in terms of skills, fitness, and strategy.\\n\\nWhile this is a hypothetical scenario, it's intriguing to think about how Rohit Sharma's unique blend of skills and experiences could shape his approach to GenAI engineering.\", additional_kwargs={}, response_metadata={'token_usage': {'completion_tokens': 442, 'prompt_tokens': 984, 'total_tokens': 1426, 'completion_time': 1.607272727, 'prompt_time': 0.10038209, 'queue_time': 0.02386758600000001, 'total_time': 1.7076548169999999}, 'model_name': 'llama-3.3-70b-versatile', 'system_fingerprint': 'fp_3884478861', 'finish_reason': 'stop', 'logprobs': None}, id='run-4e7ca690-85e8-49dd-a43f-278290f91ec5-0', usage_metadata={'input_tokens': 984, 'output_tokens': 442, 'total_tokens': 1426}),\n",
       "  HumanMessage(content='what did I ask you in previous response?', additional_kwargs={}, response_metadata={}, id='a53ef2ff-0953-411e-b627-c47eecf59220'),\n",
       "  AIMessage(content='', additional_kwargs={'tool_calls': [{'id': 'call_vvz3', 'function': {'arguments': '{\"query\": \"Rohit Sharma GenAI engineer previous response\"}', 'name': 'call_model'}, 'type': 'function'}]}, response_metadata={'token_usage': {'completion_tokens': 23, 'prompt_tokens': 1444, 'total_tokens': 1467, 'completion_time': 0.083636364, 'prompt_time': 0.199142954, 'queue_time': 0.5445715299999999, 'total_time': 0.282779318}, 'model_name': 'llama-3.3-70b-versatile', 'system_fingerprint': 'fp_3884478861', 'finish_reason': 'tool_calls', 'logprobs': None}, id='run-c66ae7fd-dcd2-4b22-99e2-dd241930c896-0', tool_calls=[{'name': 'call_model', 'args': {'query': 'Rohit Sharma GenAI engineer previous response'}, 'id': 'call_vvz3', 'type': 'tool_call'}], usage_metadata={'input_tokens': 1444, 'output_tokens': 23, 'total_tokens': 1467}),\n",
       "  ToolMessage(content='content=\"This conversation has just begun. I\\'m happy to chat with you, but I don\\'t have any prior responses to draw upon. If you\\'d like to discuss something specific, such as Rohit Sharma or GenAI engineering, I\\'m here to help!\" additional_kwargs={} response_metadata={\\'token_usage\\': {\\'completion_tokens\\': 52, \\'prompt_tokens\\': 44, \\'total_tokens\\': 96, \\'completion_time\\': 0.189090909, \\'prompt_time\\': 0.008901037, \\'queue_time\\': 0.701965482, \\'total_time\\': 0.197991946}, \\'model_name\\': \\'llama-3.3-70b-versatile\\', \\'system_fingerprint\\': \\'fp_4e32347616\\', \\'finish_reason\\': \\'stop\\', \\'logprobs\\': None} id=\\'run-5a55ae84-e104-4234-aa68-079570cfb800-0\\' usage_metadata={\\'input_tokens\\': 44, \\'output_tokens\\': 52, \\'total_tokens\\': 96}', name='call_model', id='265b509f-e58e-45ed-af09-a9a0d67e45c5', tool_call_id='call_vvz3'),\n",
       "  AIMessage(content='You asked me \"My name is Rohit Sharma, I am a GenAI engineer?\" in your previous response.', additional_kwargs={}, response_metadata={'token_usage': {'completion_tokens': 24, 'prompt_tokens': 1698, 'total_tokens': 1722, 'completion_time': 0.087272727, 'prompt_time': 0.215801605, 'queue_time': 0.41300696299999995, 'total_time': 0.303074332}, 'model_name': 'llama-3.3-70b-versatile', 'system_fingerprint': 'fp_fcc3b74982', 'finish_reason': 'stop', 'logprobs': None}, id='run-c932d1ff-3012-414c-bdfc-b7c2e50a2cf1-0', usage_metadata={'input_tokens': 1698, 'output_tokens': 24, 'total_tokens': 1722})]}"
      ]
     },
     "execution_count": 10,
     "metadata": {},
     "output_type": "execute_result"
    }
   ],
   "source": [
    "memory_app.invoke({\"messages\":[\"what did I ask you in previous response?\"]},config)"
   ]
  },
  {
   "cell_type": "code",
   "execution_count": null,
   "metadata": {},
   "outputs": [],
   "source": [
    "# memory.get(config)"
   ]
  },
  {
   "cell_type": "markdown",
   "metadata": {},
   "source": [
    "##### Lets tryout this code also : from langGraph website"
   ]
  },
  {
   "cell_type": "code",
   "execution_count": 15,
   "metadata": {},
   "outputs": [],
   "source": [
    "from typing import Annotated\n",
    "\n",
    "from langchain_groq import ChatGroq\n",
    "from langchain_community.tools.tavily_search import TavilySearchResults\n",
    "from langchain_core.messages import BaseMessage\n",
    "from typing_extensions import TypedDict\n",
    "\n",
    "from langgraph.checkpoint.memory import MemorySaver\n",
    "from langgraph.graph import StateGraph\n",
    "from langgraph.graph.message import add_messages\n",
    "from langgraph.prebuilt import ToolNode, tools_condition\n",
    "\n",
    "\n",
    "class State(TypedDict):\n",
    "    messages: Annotated[list, add_messages]\n",
    "\n",
    "\n",
    "graph_builder = StateGraph(State)\n",
    "\n",
    "\n",
    "tool = TavilySearchResults(max_results=2)\n",
    "tools = [tool]\n",
    "llm = ChatGroq(model=\"llama-3.3-70b-versatile\",temperature=0)\n",
    "llm_with_tools = llm.bind_tools(tools)\n",
    "\n",
    "\n",
    "def chatbot(state: State):\n",
    "    return {\"messages\": [llm_with_tools.invoke(state[\"messages\"])]}\n",
    "\n",
    "\n",
    "graph_builder.add_node(\"chatbot\", chatbot)\n",
    "\n",
    "tool_node = ToolNode(tools=[tool])\n",
    "graph_builder.add_node(\"tools\", tool_node)\n",
    "\n",
    "graph_builder.add_conditional_edges(\n",
    "    \"chatbot\",\n",
    "    tools_condition,\n",
    ")\n",
    "graph_builder.add_edge(\"tools\", \"chatbot\")\n",
    "graph_builder.set_entry_point(\"chatbot\")\n",
    "memory = MemorySaver()\n",
    "graph = graph_builder.compile(checkpointer=memory)\n",
    "\n",
    "config = {\"configurable\":{\"thread_id\":\"hrishi1\"}}"
   ]
  },
  {
   "cell_type": "code",
   "execution_count": 16,
   "metadata": {},
   "outputs": [
    {
     "data": {
      "image/png": "[encoded data removed]",
      "text/plain": [
       "<langgraph.graph.state.CompiledStateGraph object at 0x0000020E38578910>"
      ]
     },
     "execution_count": 16,
     "metadata": {},
     "output_type": "execute_result"
    }
   ],
   "source": [
    "graph"
   ]
  },
  {
   "cell_type": "code",
   "execution_count": 21,
   "metadata": {},
   "outputs": [
    {
     "name": "stdout",
     "output_type": "stream",
     "text": [
      "{'messages': [HumanMessage(content='Who is Rohit Sharma ?', additional_kwargs={}, response_metadata={}, id='8a0eb78b-544c-44b4-af05-1c14e7fb868c'), AIMessage(content='', additional_kwargs={'tool_calls': [{'id': 'call_29ry', 'function': {'arguments': '{\"query\": \"Rohit Sharma biography\"}', 'name': 'tavily_search_results_json'}, 'type': 'function'}]}, response_metadata={'token_usage': {'completion_tokens': 22, 'prompt_tokens': 284, 'total_tokens': 306, 'completion_time': 0.08, 'prompt_time': 0.035592481, 'queue_time': 0.059485276, 'total_time': 0.115592481}, 'model_name': 'llama-3.3-70b-versatile', 'system_fingerprint': 'fp_4e32347616', 'finish_reason': 'tool_calls', 'logprobs': None}, id='run-a049bb98-8353-435b-a9c9-e278fe377f4a-0', tool_calls=[{'name': 'tavily_search_results_json', 'args': {'query': 'Rohit Sharma biography'}, 'id': 'call_29ry', 'type': 'tool_call'}], usage_metadata={'input_tokens': 284, 'output_tokens': 22, 'total_tokens': 306}), ToolMessage(content='[{\"url\": \"https://www.britannica.com/biography/Rohit-Sharma\", \"content\": \"Ask the Chatbot Games & Quizzes History & Society Science & Tech Biographies Animals & Nature Geography & Travel Arts & Culture ProCon Money Videos India vs England: ‘What kind of a question is that?’ – Rohit Sharma loses his composure on being asked about form and future • Feb. 5, 2025, 7:44 PM ET (The Indian Express) Rohit Sharma (born April 30, 1987, Bansod, India) is an Indian international cricketer and the current captain of the Indian cricket team in the Test and One-Day International (ODI) formats. Sharma was also the captain of India’s Twenty20 International team until he announced his retirement on June 29, 2024, after leading the Indian side to its T20I World Cup victory.\"}, {\"url\": \"https://starsunfolded.com/rohit-sharma/\", \"content\": \"Rohit Sharma is an Indian cricketer who holds the record for maximum centuries in a World Cup. Check this page to read his biography- age, wife,\"}]', name='tavily_search_results_json', id='04f9cc58-b72f-448e-a6f7-7a9b980537e3', tool_call_id='call_29ry', artifact={'query': 'Rohit Sharma biography', 'follow_up_questions': None, 'answer': None, 'images': [], 'results': [{'url': 'https://www.britannica.com/biography/Rohit-Sharma', 'title': 'Rohit Sharma | Life, Cricket, Career, Awards, & Facts | Britannica', 'content': 'Ask the Chatbot Games & Quizzes History & Society Science & Tech Biographies Animals & Nature Geography & Travel Arts & Culture ProCon Money Videos India vs England: ‘What kind of a question is that?’ – Rohit Sharma loses his composure on being asked about form and future • Feb. 5, 2025, 7:44 PM ET (The Indian Express) Rohit Sharma (born April 30, 1987, Bansod, India) is an Indian international cricketer and the current captain of the Indian cricket team in the Test and One-Day International (ODI) formats. Sharma was also the captain of India’s Twenty20 International team until he announced his retirement on June 29, 2024, after leading the Indian side to its T20I World Cup victory.', 'score': 0.8690161, 'raw_content': None}, {'url': 'https://starsunfolded.com/rohit-sharma/', 'title': 'Rohit Sharma Height, Age, Wife, Children, Family, Biography', 'content': 'Rohit Sharma is an Indian cricketer who holds the record for maximum centuries in a World Cup. Check this page to read his biography- age, wife,', 'score': 0.8156003, 'raw_content': None}], 'response_time': 3.36}), AIMessage(content='Rohit Sharma is an Indian international cricketer and the current captain of the Indian cricket team in the Test and One-Day International (ODI) formats. He was also the captain of India’s Twenty20 International team until he announced his retirement on June 29, 2024, after leading the Indian side to its T20I World Cup victory.', additional_kwargs={}, response_metadata={'token_usage': {'completion_tokens': 74, 'prompt_tokens': 563, 'total_tokens': 637, 'completion_time': 0.269090909, 'prompt_time': 0.079501368, 'queue_time': 0.7682264390000001, 'total_time': 0.348592277}, 'model_name': 'llama-3.3-70b-versatile', 'system_fingerprint': 'fp_fcc3b74982', 'finish_reason': 'stop', 'logprobs': None}, id='run-88c4860a-951f-4b50-b685-9e4341d52fc5-0', usage_metadata={'input_tokens': 563, 'output_tokens': 74, 'total_tokens': 637})]}\n"
     ]
    }
   ],
   "source": [
    "user_input = input(\"Ask the question to bot :\")\n",
    "response = graph.invoke({\"messages\":[{\"role\":\"user\",\"content\":user_input}]},config=config)\n",
    "print(response)"
   ]
  },
  {
   "cell_type": "code",
   "execution_count": 29,
   "metadata": {},
   "outputs": [
    {
     "data": {
      "text/plain": [
       "'Rohit Sharma is an Indian international cricketer and the current captain of the Indian cricket team in the Test and One-Day International (ODI) formats. He was also the captain of India’s Twenty20 International team until he announced his retirement on June 29, 2024, after leading the Indian side to its T20I World Cup victory.'"
      ]
     },
     "execution_count": 29,
     "metadata": {},
     "output_type": "execute_result"
    }
   ],
   "source": [
    "response['messages'][-1].content"
   ]
  },
  {
   "cell_type": "code",
   "execution_count": 30,
   "metadata": {},
   "outputs": [
    {
     "name": "stdout",
     "output_type": "stream",
     "text": [
      "You asked \"Who is Rohit Sharma ?\"\n"
     ]
    }
   ],
   "source": [
    "user_input = input(\"Ask the question to bot :\")\n",
    "response = graph.invoke({\"messages\":[user_input]},config=config)\n",
    "print(response['messages'][-1].content)"
   ]
  },
  {
   "cell_type": "code",
   "execution_count": null,
   "metadata": {},
   "outputs": [],
   "source": []
  }
 ],
 "metadata": {
  "kernelspec": {
   "display_name": "env_phidata_agents",
   "language": "python",
   "name": "python3"
  },
  "language_info": {
   "codemirror_mode": {
    "name": "ipython",
    "version": 3
   },
   "file_extension": ".py",
   "mimetype": "text/x-python",
   "name": "python",
   "nbconvert_exporter": "python",
   "pygments_lexer": "ipython3",
   "version": "3.11.11"
  }
 },
 "nbformat": 4,
 "nbformat_minor": 2
}
